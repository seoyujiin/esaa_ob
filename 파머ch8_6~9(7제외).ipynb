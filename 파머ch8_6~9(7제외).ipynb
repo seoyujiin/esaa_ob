{
  "nbformat": 4,
  "nbformat_minor": 0,
  "metadata": {
    "colab": {
      "provenance": [],
      "authorship_tag": "ABX9TyPnG/fcFpOkbIeivXTtwr7M",
      "include_colab_link": true
    },
    "kernelspec": {
      "name": "python3",
      "display_name": "Python 3"
    },
    "language_info": {
      "name": "python"
    }
  },
  "cells": [
    {
      "cell_type": "markdown",
      "metadata": {
        "id": "view-in-github",
        "colab_type": "text"
      },
      "source": [
        "<a href=\"https://colab.research.google.com/github/seoyujiin/esaa_ob/blob/main/%ED%8C%8C%EB%A8%B8ch8_6~9(7%EC%A0%9C%EC%99%B8).ipynb\" target=\"_parent\"><img src=\"https://colab.research.google.com/assets/colab-badge.svg\" alt=\"Open In Colab\"/></a>"
      ]
    },
    {
      "cell_type": "markdown",
      "source": [
        "##**CHAPTER 8 텍스트 분석**\n",
        "\n",
        "###**06 토픽 모델링(Topic Modeling) - 20 뉴스그룹**\n",
        "\n",
        "* 토픽 모델링: 문서 집합에 숨어 있는 주제를 찾아내는 것\n",
        "* 머신러닝 기반의 토픽 모델링을 적용해 숨어 있는 중요 주제를 효과적으로 찾아낼 수 있음\n",
        "* 사람이 수행하는 토픽 모델링은 더 함축적인 의미로 문장을 요약하는 것에 반해, 머신러닝 기반의 토픽 모델은 숨겨진 주제를 효과적으로 표현할 수 있는 중심 단어를 함축적으로 추출함\n",
        "* 머신러닝 기반의 토픽 모델링에 자주 사용되는 기법은 LSA(Latent Semantic Analysis)와 LDA(Latent Dirichlet Allocation). 이 절에서는 LDA만을 이용해 토픽 모델링 수행(토픽 모델링에 사용되는 LDA와 차원축소의 LDA는 서로 다른 알고리즘이므로 유의)\n",
        "* 사이킷런은 LDA 기반의 토픽 모델링을 LatentDirichletAllocation 클래스로 제공"
      ],
      "metadata": {
        "id": "O44tX0dZHPk3"
      }
    },
    {
      "cell_type": "markdown",
      "source": [
        "20 뉴스그룹은 20가지의 주제를 가진 뉴스그룹의 데이터를 가지고 있음\n",
        "\n",
        "→ 이 중 모토사이클, 야구, 그래픽스, 윈도우, 중동, 기독교, 전자공학, 의학의 8개 주제를 추출하고 이들 텍스트에 LDA 기반의 토픽 모델링 적용"
      ],
      "metadata": {
        "id": "d-7p-JMtFV00"
      }
    },
    {
      "cell_type": "code",
      "execution_count": null,
      "metadata": {
        "id": "CBza1_xWHIXq",
        "colab": {
          "base_uri": "https://localhost:8080/"
        },
        "outputId": "5e52257d-e733-41f2-fca7-31b4d5a8b16f"
      },
      "outputs": [
        {
          "output_type": "stream",
          "name": "stdout",
          "text": [
            "CountVectorizer Shape: (7862, 1000)\n"
          ]
        }
      ],
      "source": [
        "from sklearn.datasets import fetch_20newsgroups\n",
        "from sklearn.feature_extraction.text import CountVectorizer\n",
        "from sklearn.decomposition import LatentDirichletAllocation\n",
        "\n",
        "# 모토사이클, 야구, 그래픽스, 윈도우즈, 중동, 기독교, 전자공학, 의학 8개 주제를 추출\n",
        "cats = ['rec.motorcycles', 'rec.sport.baseball', 'comp.graphics', 'comp.windows.x',\n",
        "        'talk.politics.mideast', 'soc.religion.christian', 'sci.electronics', 'sci.med']\n",
        "\n",
        "# 위에서 cats 변수로 기재된 카테고리만 추출. featch_20newsgroups()의 categories에 cats 입력\n",
        "news_df = fetch_20newsgroups(subset='all', remove=('headers', 'footers', 'quotes'),\n",
        "                             categories=cats, random_state=0)\n",
        "\n",
        "# LDA는 Count 기반의 벡터화만 적용\n",
        "count_vect = CountVectorizer(max_df=0.95, max_features=1000, min_df=2, stop_words='english',\n",
        "                             ngram_range=(1, 2))\n",
        "\n",
        "feat_vect = count_vect.fit_transform(news_df.data)\n",
        "print('CountVectorizer Shape:', feat_vect.shape)"
      ]
    },
    {
      "cell_type": "markdown",
      "source": [
        "→ CountVectorizer 객체 변수인 feat_vect 모두 7862개의 문서가 1000개의 피처로 구성된 행렬 데이터\n",
        "\n",
        "→ 이렇게 피처 벡터화된 데이터 세트를 기반으로 LDA 토픽 모델링 수행"
      ],
      "metadata": {
        "id": "htGD6rCKHHdz"
      }
    },
    {
      "cell_type": "code",
      "source": [
        "lda = LatentDirichletAllocation(n_components=8, random_state=0)  # n_components 파라미터로 토픽 개수 조정\n",
        "lda.fit(feat_vect)"
      ],
      "metadata": {
        "id": "NgHPEbNkHQxC",
        "colab": {
          "base_uri": "https://localhost:8080/",
          "height": 75
        },
        "outputId": "6d8b9049-f375-4e8b-9efc-3171a478bb41"
      },
      "execution_count": null,
      "outputs": [
        {
          "output_type": "execute_result",
          "data": {
            "text/plain": [
              "LatentDirichletAllocation(n_components=8, random_state=0)"
            ],
            "text/html": [
              "<style>#sk-container-id-1 {color: black;background-color: white;}#sk-container-id-1 pre{padding: 0;}#sk-container-id-1 div.sk-toggleable {background-color: white;}#sk-container-id-1 label.sk-toggleable__label {cursor: pointer;display: block;width: 100%;margin-bottom: 0;padding: 0.3em;box-sizing: border-box;text-align: center;}#sk-container-id-1 label.sk-toggleable__label-arrow:before {content: \"▸\";float: left;margin-right: 0.25em;color: #696969;}#sk-container-id-1 label.sk-toggleable__label-arrow:hover:before {color: black;}#sk-container-id-1 div.sk-estimator:hover label.sk-toggleable__label-arrow:before {color: black;}#sk-container-id-1 div.sk-toggleable__content {max-height: 0;max-width: 0;overflow: hidden;text-align: left;background-color: #f0f8ff;}#sk-container-id-1 div.sk-toggleable__content pre {margin: 0.2em;color: black;border-radius: 0.25em;background-color: #f0f8ff;}#sk-container-id-1 input.sk-toggleable__control:checked~div.sk-toggleable__content {max-height: 200px;max-width: 100%;overflow: auto;}#sk-container-id-1 input.sk-toggleable__control:checked~label.sk-toggleable__label-arrow:before {content: \"▾\";}#sk-container-id-1 div.sk-estimator input.sk-toggleable__control:checked~label.sk-toggleable__label {background-color: #d4ebff;}#sk-container-id-1 div.sk-label input.sk-toggleable__control:checked~label.sk-toggleable__label {background-color: #d4ebff;}#sk-container-id-1 input.sk-hidden--visually {border: 0;clip: rect(1px 1px 1px 1px);clip: rect(1px, 1px, 1px, 1px);height: 1px;margin: -1px;overflow: hidden;padding: 0;position: absolute;width: 1px;}#sk-container-id-1 div.sk-estimator {font-family: monospace;background-color: #f0f8ff;border: 1px dotted black;border-radius: 0.25em;box-sizing: border-box;margin-bottom: 0.5em;}#sk-container-id-1 div.sk-estimator:hover {background-color: #d4ebff;}#sk-container-id-1 div.sk-parallel-item::after {content: \"\";width: 100%;border-bottom: 1px solid gray;flex-grow: 1;}#sk-container-id-1 div.sk-label:hover label.sk-toggleable__label {background-color: #d4ebff;}#sk-container-id-1 div.sk-serial::before {content: \"\";position: absolute;border-left: 1px solid gray;box-sizing: border-box;top: 0;bottom: 0;left: 50%;z-index: 0;}#sk-container-id-1 div.sk-serial {display: flex;flex-direction: column;align-items: center;background-color: white;padding-right: 0.2em;padding-left: 0.2em;position: relative;}#sk-container-id-1 div.sk-item {position: relative;z-index: 1;}#sk-container-id-1 div.sk-parallel {display: flex;align-items: stretch;justify-content: center;background-color: white;position: relative;}#sk-container-id-1 div.sk-item::before, #sk-container-id-1 div.sk-parallel-item::before {content: \"\";position: absolute;border-left: 1px solid gray;box-sizing: border-box;top: 0;bottom: 0;left: 50%;z-index: -1;}#sk-container-id-1 div.sk-parallel-item {display: flex;flex-direction: column;z-index: 1;position: relative;background-color: white;}#sk-container-id-1 div.sk-parallel-item:first-child::after {align-self: flex-end;width: 50%;}#sk-container-id-1 div.sk-parallel-item:last-child::after {align-self: flex-start;width: 50%;}#sk-container-id-1 div.sk-parallel-item:only-child::after {width: 0;}#sk-container-id-1 div.sk-dashed-wrapped {border: 1px dashed gray;margin: 0 0.4em 0.5em 0.4em;box-sizing: border-box;padding-bottom: 0.4em;background-color: white;}#sk-container-id-1 div.sk-label label {font-family: monospace;font-weight: bold;display: inline-block;line-height: 1.2em;}#sk-container-id-1 div.sk-label-container {text-align: center;}#sk-container-id-1 div.sk-container {/* jupyter's `normalize.less` sets `[hidden] { display: none; }` but bootstrap.min.css set `[hidden] { display: none !important; }` so we also need the `!important` here to be able to override the default hidden behavior on the sphinx rendered scikit-learn.org. See: https://github.com/scikit-learn/scikit-learn/issues/21755 */display: inline-block !important;position: relative;}#sk-container-id-1 div.sk-text-repr-fallback {display: none;}</style><div id=\"sk-container-id-1\" class=\"sk-top-container\"><div class=\"sk-text-repr-fallback\"><pre>LatentDirichletAllocation(n_components=8, random_state=0)</pre><b>In a Jupyter environment, please rerun this cell to show the HTML representation or trust the notebook. <br />On GitHub, the HTML representation is unable to render, please try loading this page with nbviewer.org.</b></div><div class=\"sk-container\" hidden><div class=\"sk-item\"><div class=\"sk-estimator sk-toggleable\"><input class=\"sk-toggleable__control sk-hidden--visually\" id=\"sk-estimator-id-1\" type=\"checkbox\" checked><label for=\"sk-estimator-id-1\" class=\"sk-toggleable__label sk-toggleable__label-arrow\">LatentDirichletAllocation</label><div class=\"sk-toggleable__content\"><pre>LatentDirichletAllocation(n_components=8, random_state=0)</pre></div></div></div></div></div>"
            ]
          },
          "metadata": {},
          "execution_count": 2
        }
      ]
    },
    {
      "cell_type": "code",
      "source": [
        "# components_는 개별 토픽별로 각 word 피처가 얼마나 많이 그 토픽에 할당됐는지에 대한 수치를 가지고 있음\n",
        "# 높은 값일수록 해당 word 피처는 그 토픽의 중심 word가 됨\n",
        "print(lda.components_.shape)\n",
        "lda.components_"
      ],
      "metadata": {
        "id": "Jf8KrBhaHQuH",
        "colab": {
          "base_uri": "https://localhost:8080/"
        },
        "outputId": "5d8d73c6-bfb4-422e-ac69-c62a60229490"
      },
      "execution_count": null,
      "outputs": [
        {
          "output_type": "stream",
          "name": "stdout",
          "text": [
            "(8, 1000)\n"
          ]
        },
        {
          "output_type": "execute_result",
          "data": {
            "text/plain": [
              "array([[3.60992018e+01, 1.35626798e+02, 2.15751867e+01, ...,\n",
              "        3.02911688e+01, 8.66830093e+01, 6.79285199e+01],\n",
              "       [1.25199920e-01, 1.44401815e+01, 1.25045596e-01, ...,\n",
              "        1.81506995e+02, 1.25097844e-01, 9.39593286e+01],\n",
              "       [3.34762663e+02, 1.25176265e-01, 1.46743299e+02, ...,\n",
              "        1.25105772e-01, 3.63689741e+01, 1.25025218e-01],\n",
              "       ...,\n",
              "       [3.60204965e+01, 2.08640688e+01, 4.29606813e+00, ...,\n",
              "        1.45056650e+01, 8.33854413e+00, 1.55690009e+01],\n",
              "       [1.25128711e-01, 1.25247756e-01, 1.25005143e-01, ...,\n",
              "        9.17278769e+01, 1.25177668e-01, 3.74575887e+01],\n",
              "       [5.49258690e+01, 4.47009532e+00, 9.88524814e+00, ...,\n",
              "        4.87048440e+01, 1.25034678e-01, 1.25074632e-01]])"
            ]
          },
          "metadata": {},
          "execution_count": 3
        }
      ]
    },
    {
      "cell_type": "markdown",
      "source": [
        "→ components_는 array[8, 4000]으로 구성되어 있음\n",
        "\n",
        "→ 8개의 토픽별로 1000개의 word 피처가 해당 토픽별로 연관도 값을 가지고 있음\n",
        "\n",
        "ex. components_ array의 0번째 row, 10번째 col에 있는 값은 Topic #0에 대해서 피처 벡터화된 행렬에서 10번째 칼럼에 해당하는 피처가 Topic #0에 연관되는 수치 값을 가지고 있음"
      ],
      "metadata": {
        "id": "ffTFwng5H-vy"
      }
    },
    {
      "cell_type": "code",
      "source": [
        "# display_topics() 함수를 만들어 각 토픽별로 연관도가 높은 순으로 Word 나열\n",
        "\n",
        "def display_topics(model, feature_namse, no_top_words):\n",
        "  for topic_index, topic in enumerate(model.components_):\n",
        "    print('Topic #', topic_index)\n",
        "\n",
        "    # components_ array에서 가장 값이 큰 순으로 정렬했을 때, 그 값의 array 인덱스를 반환\n",
        "    topic_word_indexes = topic.argsort()[::-1]\n",
        "    top_indexes = topic_word_indexes[:no_top_words]\n",
        "\n",
        "    # top_indexes 대상인 인덱스별로 feature_names에 해당하는 word feature 추출 후 join으로 concat\n",
        "    feature_concat = ' '.join([feature_names[i] for i in top_indexes])\n",
        "    print(feature_concat)\n",
        "\n",
        "# CounVectorizer 객체 내의 전체 word의 명칭을 get_features_names()를 통해 추출\n",
        "feature_names = count_vect.get_feature_names_out()\n",
        "\n",
        "# 토픽별 가장 연관도가 높은 word를 15개만 추출\n",
        "display_topics(lda, feature_names, 15)"
      ],
      "metadata": {
        "id": "g1TU1zOoHQrl",
        "colab": {
          "base_uri": "https://localhost:8080/"
        },
        "outputId": "5cd06d0e-c72d-42fc-fd10-6fb9e9b81ad9"
      },
      "execution_count": null,
      "outputs": [
        {
          "output_type": "stream",
          "name": "stdout",
          "text": [
            "Topic # 0\n",
            "year 10 game medical health team 12 20 disease cancer 1993 games years patients good\n",
            "Topic # 1\n",
            "don just like know people said think time ve didn right going say ll way\n",
            "Topic # 2\n",
            "image file jpeg program gif images output format files color entry 00 use bit 03\n",
            "Topic # 3\n",
            "like know don think use does just good time book read information people used post\n",
            "Topic # 4\n",
            "armenian israel armenians jews turkish people israeli jewish government war dos dos turkey arab armenia 000\n",
            "Topic # 5\n",
            "edu com available graphics ftp data pub motif mail widget software mit information version sun\n",
            "Topic # 6\n",
            "god people jesus church believe christ does christian say think christians bible faith sin life\n",
            "Topic # 7\n",
            "use dos thanks windows using window does display help like problem server need know run\n"
          ]
        }
      ]
    },
    {
      "cell_type": "markdown",
      "source": [
        "→ Topic #1, Topic #3 애매한 주제어 추출됨\n",
        "\n",
        "→ 특히 모토사이클, 야구 주제의 경우 명확한 주제어가 추출되지 않음"
      ],
      "metadata": {
        "id": "9uVqhW-kKLBJ"
      }
    },
    {
      "cell_type": "markdown",
      "source": [
        "###**08 문서 유사도**\n",
        "\n",
        "**문서 유사도 측정 방법 - 코사인 유사도**\n",
        "\n",
        "* 문서와 문서 간의 유사도 비교는 일반적으로 코사인 유사도(Cosine Similarity)를 사용\n",
        "* 코사인 유사도는 벡터와 벡터 간의 유사도를 비교할 때 벡터의 크기보다는 벡터의 상호 방향성이 얼마나 유사한지에 기반함\n",
        "* 즉 코사인 유사도는 두 벡터 사잇각을 구해서 얼마나 유사한지 수치로 적용한 것"
      ],
      "metadata": {
        "id": "n5sgmdfMLymO"
      }
    },
    {
      "cell_type": "markdown",
      "source": [
        "![스크린샷(123).png](data:image/png;base64,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)"
      ],
      "metadata": {
        "id": "jTAl_tVzPEdb"
      }
    },
    {
      "cell_type": "markdown",
      "source": [
        "**두 벡터 사잇각**\n",
        "\n",
        "* 두 벡터의 사잇각에 따라서 싱호 관계는 유사하거나 관련이 없거나 아예 반대 관계가 될 수 있음"
      ],
      "metadata": {
        "id": "1ohgbbA4PJAs"
      }
    },
    {
      "cell_type": "markdown",
      "source": [
        "![스크린샷(124).png](data:image/png;base64,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)"
      ],
      "metadata": {
        "id": "iQBUgBSSPTVg"
      }
    },
    {
      "cell_type": "markdown",
      "source": [
        "* 두 벡터 A와 B의 코사인 값은 다음 식으로 구할 수 있음\n",
        "$$\n",
        "A*B = ||A||||B||cos\\theta\n",
        "$$\n",
        "* 따라서 유사도 cos 𝛳는 다음과 같이 두 벡터의 내적을 총 벡터 크기의 합으로 나눈 것(즉, 내적 결과를 총 벡터 크기로 정규화(L2 Norm)한 것)\n",
        "$$\n",
        "similarity = cosθ = \\frac{AꞏB}{||A|||B||} = \\frac{\\sum\\limits_{i=1}^{n} A_iB_i}{\\sqrt{\\sum\\limits_{i=1}^{n} A_i^2} \\sqrt{\\sum\\limits_{i=1}^{n} B_i^2}}\n",
        "$$\n",
        "* 코사인 유사도가 문서의 유사도 비교에 가장 많이 사용되는 이유\n",
        "  * 문서를 피처 벡터화 변환하면 차원이 매우 많은 희소 행렬이 되기 쉬움. 이러한 희소 행렬 기반에서 문서와 문서 벡터 간의 크기에 기반한 유사도 지표(ex. 유클리드 거리 기반 지표)는 정확도가 떨어지기 쉬움\n",
        "  * 문서가 매우 긴 경우 단어의 빈도수도 더 많을 것이기 때문에 이러한 빈도수에만 기반해서는 공정한 비교를 할 수 없음"
      ],
      "metadata": {
        "id": "8sj2ihC4PX4Z"
      }
    },
    {
      "cell_type": "code",
      "source": [
        "import sklearn\n",
        "print(sklearn.__version__)"
      ],
      "metadata": {
        "id": "K0mbrNGnHQpP",
        "colab": {
          "base_uri": "https://localhost:8080/"
        },
        "outputId": "985894c4-cace-4bf5-ea0f-5ef1e8bdeaa0"
      },
      "execution_count": null,
      "outputs": [
        {
          "output_type": "stream",
          "name": "stdout",
          "text": [
            "1.2.2\n"
          ]
        }
      ]
    },
    {
      "cell_type": "code",
      "source": [
        "import numpy as np\n",
        "\n",
        "# 두 개의 넘파이 배열에 대한 코사인 유사도를 구하는 함수\n",
        "def cos_similarity(v1, v2):\n",
        "  dot_product = np.dot(v1, v2)\n",
        "  l2_norm = (np.sqrt(sum(np.square(v1))) * np.sqrt(sum(np.square(v2))))\n",
        "  similarity = dot_product / l2_norm\n",
        "\n",
        "  return similarity"
      ],
      "metadata": {
        "id": "Jf405bw2HQmq"
      },
      "execution_count": null,
      "outputs": []
    },
    {
      "cell_type": "code",
      "source": [
        "# doc_list로 정의된 3개의 간단한 문서의 유사도를 비교하기 위해 이 문서를 TF-IDF로 벡터화된 행렬로 변환\n",
        "from sklearn.feature_extraction.text import TfidfVectorizer\n",
        "\n",
        "doc_list = ['if you take the blue pill, the story ends',\n",
        "            'if you take the red pill, you stay in Wonderland',\n",
        "            'if you take the red pill, I show you how deep the rabbit hole goes']\n",
        "\n",
        "tfidf_vect_simple = TfidfVectorizer()\n",
        "feature_vect_simple = tfidf_vect_simple.fit_transform(doc_list)\n",
        "print(feature_vect_simple.shape)"
      ],
      "metadata": {
        "id": "zeTUu-H_HQkD",
        "colab": {
          "base_uri": "https://localhost:8080/"
        },
        "outputId": "b27e9fd1-5b6f-48d4-f119-d301eb9cac72"
      },
      "execution_count": null,
      "outputs": [
        {
          "output_type": "stream",
          "name": "stdout",
          "text": [
            "(3, 18)\n"
          ]
        }
      ]
    },
    {
      "cell_type": "code",
      "source": [
        "# TFidfVectorizer로 transform()한 결과는 희소 행렬이므로 밀집 행렬로 변환\n",
        "feature_vect_dense = feature_vect_simple.todense()\n",
        "\n",
        "# 첫 번째 문장과 두 번째 문장의 피처 벡터 추출\n",
        "vect1 = np.array(feature_vect_dense[0]).reshape(-1,)\n",
        "vect2 = np.array(feature_vect_dense[1]).reshape(-1,)\n",
        "\n",
        "# 첫 번째 문장과 두 번째 문장의 피처 벡터로 두 개 무장의 코사인 유사도 추출\n",
        "similarity_simple = cos_similarity(vect1, vect2)\n",
        "print('문장 1, 문장 2 Cosine 유사도: {0:.3f}'.format(similarity_simple))"
      ],
      "metadata": {
        "id": "fZGFgf9JHQhl",
        "colab": {
          "base_uri": "https://localhost:8080/"
        },
        "outputId": "53982571-1d1d-4e62-8a5b-1b545d637004"
      },
      "execution_count": null,
      "outputs": [
        {
          "output_type": "stream",
          "name": "stdout",
          "text": [
            "문장 1, 문장 2 Cosine 유사도: 0.402\n"
          ]
        }
      ]
    },
    {
      "cell_type": "markdown",
      "source": [
        "→ 첫 번째 문장과 두 번째 문장의 코사인 유사도는 0.402"
      ],
      "metadata": {
        "id": "nRdRWcXpVM5t"
      }
    },
    {
      "cell_type": "code",
      "source": [
        "vect1 = np.array(feature_vect_dense[0]).reshape(-1,)\n",
        "vect3 = np.array(feature_vect_dense[2]).reshape(-1,)\n",
        "similarity_simple = cos_similarity(vect1, vect3)\n",
        "print('문장 1, 문장 3 Cosine 유사도: {0:.3f}'.format(similarity_simple))\n",
        "\n",
        "vect2 = np.array(feature_vect_dense[1]).reshape(-1,)\n",
        "vect3 = np.array(feature_vect_dense[2]).reshape(-1,)\n",
        "similarity_simple = cos_similarity(vect2, vect3)\n",
        "print('문장 2, 문장 3 Cosine 유사도: {0:.3f}'.format(similarity_simple))"
      ],
      "metadata": {
        "id": "zQYIdBbpHQe-",
        "colab": {
          "base_uri": "https://localhost:8080/"
        },
        "outputId": "7514c73f-ab01-4cba-84fa-c57507594ae3"
      },
      "execution_count": null,
      "outputs": [
        {
          "output_type": "stream",
          "name": "stdout",
          "text": [
            "문장 1, 문장 3 Cosine 유사도: 0.404\n",
            "문장 2, 문장 3 Cosine 유사도: 0.456\n"
          ]
        }
      ]
    },
    {
      "cell_type": "markdown",
      "source": [
        "→ 각각 0.404, 0.456의 유사도를 보임"
      ],
      "metadata": {
        "id": "BPePAyEoVm8-"
      }
    },
    {
      "cell_type": "markdown",
      "source": [
        "* 사이킷런은 코사인 유사도를 측정하기 위해 sklearn.metrics.pairwise.cosine_similarity API를 제공\n",
        "  * cosine_similarity() 함수는 두 개의 입력 파라미터를 받음 - 첫 번째 파라미터는 비교 기준이 되는 문서의 피처 행렬, 두 번째 파라미터는 비교되는 문서의 피처 행렬\n",
        "  * cosine_similarity()는 희소 행렬, 밀집 행렬 모두가 가능하며, 행렬 또는 배열 모두 가능함\n",
        "  * 따라서 별도의 변환 작업이 필요 없음"
      ],
      "metadata": {
        "id": "yW0hDH64VrQH"
      }
    },
    {
      "cell_type": "code",
      "source": [
        "from sklearn.metrics.pairwise import cosine_similarity\n",
        "\n",
        "similarity_simple_pair = cosine_similarity(feature_vect_simple[0], feature_vect_simple)\n",
        "print(similarity_simple_pair)"
      ],
      "metadata": {
        "id": "Dt8HBQ6yHQbW",
        "colab": {
          "base_uri": "https://localhost:8080/"
        },
        "outputId": "90d8629e-5ae2-40d0-e7aa-4248f1ae1c9b"
      },
      "execution_count": null,
      "outputs": [
        {
          "output_type": "stream",
          "name": "stdout",
          "text": [
            "[[1.         0.40207758 0.40425045]]\n"
          ]
        }
      ]
    },
    {
      "cell_type": "markdown",
      "source": [
        "→ 첫 번째 유사도 값인 1은 비교 기준인 첫 번째 문서 자신에 대한 유사도 측정\n",
        "\n",
        "→ 두 번째 유사도 값인 0.40207758은 첫 번째 문서와 두 번째 문서의 유사도, 0.40425045는 첫 번째 문서와 세 번째 문서의 유사도 값\n",
        "\n",
        "→ 1이라는 값이 거슬린다면 비교 대상에서 feature_vect[1:]을 이용해 비교 기준 문서를 제외하면 됨"
      ],
      "metadata": {
        "id": "sb0AkTbmXkZh"
      }
    },
    {
      "cell_type": "code",
      "source": [
        "from sklearn.metrics.pairwise import cosine_similarity\n",
        "\n",
        "similarity_simple_pair = cosine_similarity(feature_vect_simple[0], feature_vect_simple[1:])\n",
        "print(similarity_simple_pair)"
      ],
      "metadata": {
        "id": "n1b4AqY7HQYe",
        "colab": {
          "base_uri": "https://localhost:8080/"
        },
        "outputId": "088e4198-38b0-4f9a-8d8f-afe96f7084a4"
      },
      "execution_count": null,
      "outputs": [
        {
          "output_type": "stream",
          "name": "stdout",
          "text": [
            "[[0.40207758 0.40425045]]\n"
          ]
        }
      ]
    },
    {
      "cell_type": "code",
      "source": [
        "# cosine_similarity()는 쌍으로(pair) 코사인 유사도 값을 제공할 수 있음\n",
        "# 모든 개별 문서에 쌍으로 코사인 유사도 값 계산\n",
        "similarity_simple_pair = cosine_similarity(feature_vect_simple, feature_vect_simple)\n",
        "print(similarity_simple_pair)\n",
        "print('shape:', similarity_simple_pair.shape)"
      ],
      "metadata": {
        "id": "OTto_RXnHQWd",
        "colab": {
          "base_uri": "https://localhost:8080/"
        },
        "outputId": "86a4fce6-15f1-4d2a-f32b-e9bcde77a5b4"
      },
      "execution_count": null,
      "outputs": [
        {
          "output_type": "stream",
          "name": "stdout",
          "text": [
            "[[1.         0.40207758 0.40425045]\n",
            " [0.40207758 1.         0.45647296]\n",
            " [0.40425045 0.45647296 1.        ]]\n",
            "shape: (3, 3)\n"
          ]
        }
      ]
    },
    {
      "cell_type": "markdown",
      "source": [
        "→ cosine_similarity()의 반환 값은 (3, 3) 형태의 ndarray"
      ],
      "metadata": {
        "id": "7Bns09QrYuUA"
      }
    },
    {
      "cell_type": "markdown",
      "source": [
        "**Opinion Review 데이터 세트를 이용한 문서 유사도 측정**"
      ],
      "metadata": {
        "id": "T-UjYAvjY0W7"
      }
    },
    {
      "cell_type": "code",
      "source": [
        "from nltk.stem import WordNetLemmatizer\n",
        "import nltk\n",
        "import string\n",
        "\n",
        "nltk.download('punkt')\n",
        "nltk.download('wordnet')\n",
        "\n",
        "# 단어 원형 추출 함수\n",
        "lemmar = WordNetLemmatizer()\n",
        "def LemTokens(tokens):\n",
        "    return [lemmar.lemmatize(token) for token in tokens]\n",
        "\n",
        "# 특수 문자 사전 생성: {33: None ...}\n",
        "# ord(): 아스키 코드 생성\n",
        "remove_punct_dict = dict((ord(punct), None) for punct in string.punctuation)\n",
        "\n",
        "# 특수 문자 제거 및 단어 원형 추출\n",
        "def LemNormalize(text):\n",
        "    # 텍스트 소문자 변경 후 특수 문자 제거\n",
        "    text_new = text.lower().translate(remove_punct_dict)\n",
        "\n",
        "    # 단어 토큰화\n",
        "    word_tokens = nltk.word_tokenize(text_new)\n",
        "\n",
        "    # 단어 원형 추출\n",
        "    return LemTokens(word_tokens)"
      ],
      "metadata": {
        "colab": {
          "base_uri": "https://localhost:8080/"
        },
        "id": "6whsjj7T1yHv",
        "outputId": "606482fd-47b6-4881-f2ae-3aae08dcdb10"
      },
      "execution_count": null,
      "outputs": [
        {
          "output_type": "stream",
          "name": "stderr",
          "text": [
            "[nltk_data] Downloading package punkt to /root/nltk_data...\n",
            "[nltk_data]   Package punkt is already up-to-date!\n",
            "[nltk_data] Downloading package wordnet to /root/nltk_data...\n",
            "[nltk_data]   Package wordnet is already up-to-date!\n"
          ]
        }
      ]
    },
    {
      "cell_type": "code",
      "source": [
        "from google.colab import drive\n",
        "drive.mount(\"/content/drive\")\n",
        "\n",
        "# 경로 이동\n",
        "%cd /content/drive/MyDrive/ESAA/OB/data/OpinosisDataset1.0/topics"
      ],
      "metadata": {
        "colab": {
          "base_uri": "https://localhost:8080/"
        },
        "id": "YnodoqUg3dAo",
        "outputId": "2c1a0b39-bcdd-4fed-a3d5-2a2b35e792e3"
      },
      "execution_count": null,
      "outputs": [
        {
          "output_type": "stream",
          "name": "stdout",
          "text": [
            "Drive already mounted at /content/drive; to attempt to forcibly remount, call drive.mount(\"/content/drive\", force_remount=True).\n",
            "/content/drive/MyDrive/ESAA/OB/data/OpinosisDataset1.0/topics\n"
          ]
        }
      ]
    },
    {
      "cell_type": "code",
      "source": [
        "import pandas as pd\n",
        "import glob\n",
        "from sklearn.feature_extraction.text import TfidfVectorizer\n",
        "from sklearn.cluster import KMeans\n",
        "\n",
        "all_files = glob.glob('*.data')\n",
        "filename_list = []\n",
        "opinion_text = []\n",
        "\n",
        "for file_ in all_files:\n",
        "  df = pd.read_table(file_, index_col=None, header=0, encoding='latin1')\n",
        "  filename_ = file_.split('/')[-1]\n",
        "  filename = filename_.split('.')[0]\n",
        "  filename_list.append(filename)\n",
        "  opinion_text.append(df.to_string())\n",
        "\n",
        "document_df = pd.DataFrame({'filename':filename_list, 'opinion_text':opinion_text})\n",
        "\n",
        "tfidf_vect = TfidfVectorizer(tokenizer=LemNormalize, stop_words='english',\n",
        "                             ngram_range=(1,2), min_df=0.05, max_df=0.85)\n",
        "feature_vect = tfidf_vect.fit_transform(document_df['opinion_text'])\n",
        "\n",
        "km_cluster = KMeans(n_clusters=3, max_iter=10000, random_state=0)\n",
        "km_cluster.fit(feature_vect)\n",
        "cluster_label = km_cluster.labels_\n",
        "cluster_centers = km_cluster.cluster_centers_\n",
        "document_df['cluster_label'] = cluster_label"
      ],
      "metadata": {
        "colab": {
          "base_uri": "https://localhost:8080/"
        },
        "id": "Djv8gECy3gls",
        "outputId": "75f10d40-53dd-4df3-eca2-801bc7a46ea2"
      },
      "execution_count": null,
      "outputs": [
        {
          "output_type": "stream",
          "name": "stderr",
          "text": [
            "/usr/local/lib/python3.10/dist-packages/sklearn/feature_extraction/text.py:528: UserWarning: The parameter 'token_pattern' will not be used since 'tokenizer' is not None'\n",
            "  warnings.warn(\n",
            "/usr/local/lib/python3.10/dist-packages/sklearn/feature_extraction/text.py:409: UserWarning: Your stop_words may be inconsistent with your preprocessing. Tokenizing the stop words generated tokens ['ha', 'le', 'u', 'wa'] not in stop_words.\n",
            "  warnings.warn(\n",
            "/usr/local/lib/python3.10/dist-packages/sklearn/cluster/_kmeans.py:870: FutureWarning: The default value of `n_init` will change from 10 to 'auto' in 1.4. Set the value of `n_init` explicitly to suppress the warning\n",
            "  warnings.warn(\n"
          ]
        }
      ]
    },
    {
      "cell_type": "markdown",
      "source": [
        "호텔을 주제로 군집화된 문서를 이용해 특정 문서와 다른 문서 간의 유사도 알아보기"
      ],
      "metadata": {
        "id": "r5HfpUByb5IF"
      }
    },
    {
      "cell_type": "code",
      "source": [
        "from sklearn.metrics.pairwise import cosine_similarity\n",
        "\n",
        "# cluster_label=2인 데이터는 호텔로 클러스터링된 데이터임. DataFrame에서 해당 Index를 추출\n",
        "hotel_indexes = document_df[document_df['cluster_label']==2].index\n",
        "print('호텔로 클러스터링 된 문서들의 DataFrame Index:', hotel_indexes)\n",
        "\n",
        "# 호텔로 클러스터링된 데이터 중 첫번째 문서를 추출하여 파일명 표시\n",
        "comparison_docname = document_df.iloc[hotel_indexes[0]]['filename']\n",
        "print('##### 비교 기준 문서명 ',comparison_docname,' 와 타 문서 유사도######')\n",
        "\n",
        "''' document_df에서 추출한 Index 객체를 feature_vect로 입력하여 호텔 클러스터링된 feature_vect 추출\n",
        "이를 이용하여 호텔로 클러스터링된 문서 중 첫번째 문서와 다른 문서간의 코사인 유사도 측정 '''\n",
        "similarity_pair = cosine_similarity(feature_vect[hotel_indexes[0]] , feature_vect[hotel_indexes])\n",
        "print(similarity_pair)"
      ],
      "metadata": {
        "id": "LWj9AZ41Y7gL",
        "colab": {
          "base_uri": "https://localhost:8080/"
        },
        "outputId": "ca16bc79-3b85-477e-8286-abf0c907425d"
      },
      "execution_count": null,
      "outputs": [
        {
          "output_type": "stream",
          "name": "stdout",
          "text": [
            "호텔로 클러스터링 된 문서들의 DataFrame Index: Int64Index([3, 8, 12, 19, 20, 24, 25, 31, 35, 50], dtype='int64')\n",
            "##### 비교 기준 문서명  comfort_honda_accord_2008  와 타 문서 유사도######\n",
            "[[1.         0.25981841 0.83969704 0.33044002 0.15655631 0.18050974\n",
            "  0.16544257 0.27569738 0.65502034 0.06229873]]\n"
          ]
        }
      ]
    },
    {
      "cell_type": "markdown",
      "source": [
        "→ 단순히 숫자로만 표시해서는 직관적으로 문서가 어느 정도 유사도를 가지는지 이해하기 어려울 수 있음\n",
        "\n",
        "→ 첫 번째 문서와 다른 문서 간에 유사도가 높은 순으로 이를 정렬하고 시각화"
      ],
      "metadata": {
        "id": "CsL3zODfddXQ"
      }
    },
    {
      "cell_type": "code",
      "source": [
        "import seaborn as sns\n",
        "import numpy as np\n",
        "import matplotlib.pyplot as plt\n",
        "%matplotlib inline\n",
        "\n",
        "# argsort()를 이용하여 앞예제의 첫 번째 문서와 타 문서 간 유사도가 큰 순으로 정렬한 인덱스 반환하되 자기 자신은 제외\n",
        "sorted_index = similarity_pair.argsort()[:, ::-1]\n",
        "sorted_index = sorted_index[:, 1:]\n",
        "\n",
        "# 유사도가 큰 순으로 hotel_indexes를 추출하여 재정렬\n",
        "hotel_sorted_indexes = hotel_indexes[sorted_index.reshape(-1)]\n",
        "\n",
        "# 유사도가 큰 순으로 유사도 값을 재정렬하되 자기 자신은 제외\n",
        "hotel_1_sim_value = np.sort(similarity_pair.reshape(-1))[::-1]\n",
        "hotel_1_sim_value = hotel_1_sim_value[1:]\n",
        "\n",
        "# 유사도가 큰 순으로 정렬된 인덱스와 유사도 값을 이용해 파일명과 유사도값을 막대 그래프로 시각화\n",
        "hotel_1_sim_df = pd.DataFrame()\n",
        "hotel_1_sim_df['filename'] = document_df.iloc[hotel_sorted_indexes]['filename']\n",
        "hotel_1_sim_df['similarity'] = hotel_1_sim_value\n",
        "\n",
        "fig1 = plt.gcf()\n",
        "sns.barplot(x='similarity', y='filename',data=hotel_1_sim_df)\n",
        "plt.title(comparison_docname)\n",
        "fig1.savefig('p553_hotel.tif', format='tif', dpi=300, bbox_inches='tight')"
      ],
      "metadata": {
        "id": "s47wpKc0Y7d3",
        "colab": {
          "base_uri": "https://localhost:8080/",
          "height": 472
        },
        "outputId": "75f7971c-f3e4-4bfa-a7a9-c98969b36e84"
      },
      "execution_count": null,
      "outputs": [
        {
          "output_type": "display_data",
          "data": {
            "text/plain": [
              "<Figure size 640x480 with 1 Axes>"
            ],
            "image/png": "[encoded data removed]"
          },
          "metadata": {}
        }
      ]
    },
    {
      "cell_type": "markdown",
      "source": [],
      "metadata": {
        "id": "wKRBm5eWeL-D"
      }
    },
    {
      "cell_type": "markdown",
      "source": [
        "###**09 한글 텍스트 처리 - 네이버 영화 평점 감성 분석**\n",
        "\n",
        "**한글 NLP 처리의 어려움**\n",
        "\n",
        "* 일반적으로 한글 언어 처리는 영어 등의 라틴어 처리보다 어려움(주된 원인은 '띄어쓰기'와 '다양한 조사' 때문)\n",
        "  * 영어의 경우 띄어쓰기를 잘못하면 의미가 왜곡되는 게 아니라 잘못된 또는 없는 단어로 인식되는 게 대부분이지만 한글은 띄어쓰기를 잘못하면 의미가 왜곡되어 전달될 수 있음\n",
        "  * 조사는 주어나 목적어를 위해 추가되며, 워낙 경우의 수가 많기 때문에 어근 추출(Stemming/Lemmatization) 등의 전처리 시 제거하기가 까다로움\n",
        "\n",
        "**KoNLPy 소개**\n",
        "\n",
        "* KoNLPy: 파이썬의 대표적인 한글 형태소 패키지\n",
        "  * 형태소: 단어로서 의미를 가지는 최소 단위\n",
        "  * 형태소 분석(Morphological analysis): 말뭉치를 형태소 어근 단위로 쪼개고 각 형태소에 품사 태깅(POS tagging)을 부착하는 작업\n",
        "* KoNLPy는 기존의 C/C++, Java로 잘 만들어진 한글 형태소 엔진을 파이썬 래퍼(Wrapper) 기반으로 재작성한 패키지 - 기존의 엔진은 그대로 유지한 채 파이썬 기반에서 인터페이스를 제공하기 때문에 검증된 패키지의 안정성을 유지할 수 있음\n",
        "* KoNLPy는 파이썬으로 기존 형태소 분석 엔진을 래퍼한 것이기 때문에 Java가 먼저 설치돼 있어야 함. 또한 파이썬에서 Java 클래스를 호출하기 위한 별도의 모듈인 JPype1도 함께 필요"
      ],
      "metadata": {
        "id": "rxIp7lq4eMXe"
      }
    },
    {
      "cell_type": "code",
      "source": [
        "pip install konlpy"
      ],
      "metadata": {
        "colab": {
          "base_uri": "https://localhost:8080/"
        },
        "id": "rxkrcOljY7ZF",
        "outputId": "3fc2307a-4a73-427e-ad24-3d8a1e986af2"
      },
      "execution_count": null,
      "outputs": [
        {
          "output_type": "stream",
          "name": "stdout",
          "text": [
            "Collecting konlpy\n",
            "  Downloading konlpy-0.6.0-py2.py3-none-any.whl (19.4 MB)\n",
            "\u001b[2K     \u001b[90m━━━━━━━━━━━━━━━━━━━━━━━━━━━━━━━━━━━━━━━━\u001b[0m \u001b[32m19.4/19.4 MB\u001b[0m \u001b[31m37.7 MB/s\u001b[0m eta \u001b[36m0:00:00\u001b[0m\n",
            "\u001b[?25hCollecting JPype1>=0.7.0 (from konlpy)\n",
            "  Downloading JPype1-1.4.1-cp310-cp310-manylinux_2_12_x86_64.manylinux2010_x86_64.whl (465 kB)\n",
            "\u001b[2K     \u001b[90m━━━━━━━━━━━━━━━━━━━━━━━━━━━━━━━━━━━━━━━━\u001b[0m \u001b[32m465.3/465.3 kB\u001b[0m \u001b[31m33.2 MB/s\u001b[0m eta \u001b[36m0:00:00\u001b[0m\n",
            "\u001b[?25hRequirement already satisfied: lxml>=4.1.0 in /usr/local/lib/python3.10/dist-packages (from konlpy) (4.9.3)\n",
            "Requirement already satisfied: numpy>=1.6 in /usr/local/lib/python3.10/dist-packages (from konlpy) (1.23.5)\n",
            "Requirement already satisfied: packaging in /usr/local/lib/python3.10/dist-packages (from JPype1>=0.7.0->konlpy) (23.2)\n",
            "Installing collected packages: JPype1, konlpy\n",
            "Successfully installed JPype1-1.4.1 konlpy-0.6.0\n"
          ]
        }
      ]
    },
    {
      "cell_type": "markdown",
      "source": [
        "**데이터 로딩**"
      ],
      "metadata": {
        "id": "SM8na9RQhPoV"
      }
    },
    {
      "cell_type": "code",
      "source": [
        "import pandas as pd\n",
        "\n",
        "train_df = pd.read_csv('/content/drive/MyDrive/ESAA/OB/data/ratings_train.txt', sep='\\t')\n",
        "train_df.head()"
      ],
      "metadata": {
        "colab": {
          "base_uri": "https://localhost:8080/",
          "height": 206
        },
        "id": "6KWq8uo9Y7Wt",
        "outputId": "b2aa354d-0294-4ae1-86a1-d3a76e7f328e"
      },
      "execution_count": null,
      "outputs": [
        {
          "output_type": "execute_result",
          "data": {
            "text/plain": [
              "         id                                           document  label\n",
              "0   9976970                                아 더빙.. 진짜 짜증나네요 목소리      0\n",
              "1   3819312                  흠...포스터보고 초딩영화줄....오버연기조차 가볍지 않구나      1\n",
              "2  10265843                                  너무재밓었다그래서보는것을추천한다      0\n",
              "3   9045019                      교도소 이야기구먼 ..솔직히 재미는 없다..평점 조정      0\n",
              "4   6483659  사이몬페그의 익살스런 연기가 돋보였던 영화!스파이더맨에서 늙어보이기만 했던 커스틴 ...      1"
            ],
            "text/html": [
              "\n",
              "  <div id=\"df-0f766624-f4f6-4115-8676-2a3c045e8919\" class=\"colab-df-container\">\n",
              "    <div>\n",
              "<style scoped>\n",
              "    .dataframe tbody tr th:only-of-type {\n",
              "        vertical-align: middle;\n",
              "    }\n",
              "\n",
              "    .dataframe tbody tr th {\n",
              "        vertical-align: top;\n",
              "    }\n",
              "\n",
              "    .dataframe thead th {\n",
              "        text-align: right;\n",
              "    }\n",
              "</style>\n",
              "<table border=\"1\" class=\"dataframe\">\n",
              "  <thead>\n",
              "    <tr style=\"text-align: right;\">\n",
              "      <th></th>\n",
              "      <th>id</th>\n",
              "      <th>document</th>\n",
              "      <th>label</th>\n",
              "    </tr>\n",
              "  </thead>\n",
              "  <tbody>\n",
              "    <tr>\n",
              "      <th>0</th>\n",
              "      <td>9976970</td>\n",
              "      <td>아 더빙.. 진짜 짜증나네요 목소리</td>\n",
              "      <td>0</td>\n",
              "    </tr>\n",
              "    <tr>\n",
              "      <th>1</th>\n",
              "      <td>3819312</td>\n",
              "      <td>흠...포스터보고 초딩영화줄....오버연기조차 가볍지 않구나</td>\n",
              "      <td>1</td>\n",
              "    </tr>\n",
              "    <tr>\n",
              "      <th>2</th>\n",
              "      <td>10265843</td>\n",
              "      <td>너무재밓었다그래서보는것을추천한다</td>\n",
              "      <td>0</td>\n",
              "    </tr>\n",
              "    <tr>\n",
              "      <th>3</th>\n",
              "      <td>9045019</td>\n",
              "      <td>교도소 이야기구먼 ..솔직히 재미는 없다..평점 조정</td>\n",
              "      <td>0</td>\n",
              "    </tr>\n",
              "    <tr>\n",
              "      <th>4</th>\n",
              "      <td>6483659</td>\n",
              "      <td>사이몬페그의 익살스런 연기가 돋보였던 영화!스파이더맨에서 늙어보이기만 했던 커스틴 ...</td>\n",
              "      <td>1</td>\n",
              "    </tr>\n",
              "  </tbody>\n",
              "</table>\n",
              "</div>\n",
              "    <div class=\"colab-df-buttons\">\n",
              "\n",
              "  <div class=\"colab-df-container\">\n",
              "    <button class=\"colab-df-convert\" onclick=\"convertToInteractive('df-0f766624-f4f6-4115-8676-2a3c045e8919')\"\n",
              "            title=\"Convert this dataframe to an interactive table.\"\n",
              "            style=\"display:none;\">\n",
              "\n",
              "  <svg xmlns=\"http://www.w3.org/2000/svg\" height=\"24px\" viewBox=\"0 -960 960 960\">\n",
              "    <path d=\"M120-120v-720h720v720H120Zm60-500h600v-160H180v160Zm220 220h160v-160H400v160Zm0 220h160v-160H400v160ZM180-400h160v-160H180v160Zm440 0h160v-160H620v160ZM180-180h160v-160H180v160Zm440 0h160v-160H620v160Z\"/>\n",
              "  </svg>\n",
              "    </button>\n",
              "\n",
              "  <style>\n",
              "    .colab-df-container {\n",
              "      display:flex;\n",
              "      gap: 12px;\n",
              "    }\n",
              "\n",
              "    .colab-df-convert {\n",
              "      background-color: #E8F0FE;\n",
              "      border: none;\n",
              "      border-radius: 50%;\n",
              "      cursor: pointer;\n",
              "      display: none;\n",
              "      fill: #1967D2;\n",
              "      height: 32px;\n",
              "      padding: 0 0 0 0;\n",
              "      width: 32px;\n",
              "    }\n",
              "\n",
              "    .colab-df-convert:hover {\n",
              "      background-color: #E2EBFA;\n",
              "      box-shadow: 0px 1px 2px rgba(60, 64, 67, 0.3), 0px 1px 3px 1px rgba(60, 64, 67, 0.15);\n",
              "      fill: #174EA6;\n",
              "    }\n",
              "\n",
              "    .colab-df-buttons div {\n",
              "      margin-bottom: 4px;\n",
              "    }\n",
              "\n",
              "    [theme=dark] .colab-df-convert {\n",
              "      background-color: #3B4455;\n",
              "      fill: #D2E3FC;\n",
              "    }\n",
              "\n",
              "    [theme=dark] .colab-df-convert:hover {\n",
              "      background-color: #434B5C;\n",
              "      box-shadow: 0px 1px 3px 1px rgba(0, 0, 0, 0.15);\n",
              "      filter: drop-shadow(0px 1px 2px rgba(0, 0, 0, 0.3));\n",
              "      fill: #FFFFFF;\n",
              "    }\n",
              "  </style>\n",
              "\n",
              "    <script>\n",
              "      const buttonEl =\n",
              "        document.querySelector('#df-0f766624-f4f6-4115-8676-2a3c045e8919 button.colab-df-convert');\n",
              "      buttonEl.style.display =\n",
              "        google.colab.kernel.accessAllowed ? 'block' : 'none';\n",
              "\n",
              "      async function convertToInteractive(key) {\n",
              "        const element = document.querySelector('#df-0f766624-f4f6-4115-8676-2a3c045e8919');\n",
              "        const dataTable =\n",
              "          await google.colab.kernel.invokeFunction('convertToInteractive',\n",
              "                                                    [key], {});\n",
              "        if (!dataTable) return;\n",
              "\n",
              "        const docLinkHtml = 'Like what you see? Visit the ' +\n",
              "          '<a target=\"_blank\" href=https://colab.research.google.com/notebooks/data_table.ipynb>data table notebook</a>'\n",
              "          + ' to learn more about interactive tables.';\n",
              "        element.innerHTML = '';\n",
              "        dataTable['output_type'] = 'display_data';\n",
              "        await google.colab.output.renderOutput(dataTable, element);\n",
              "        const docLink = document.createElement('div');\n",
              "        docLink.innerHTML = docLinkHtml;\n",
              "        element.appendChild(docLink);\n",
              "      }\n",
              "    </script>\n",
              "  </div>\n",
              "\n",
              "\n",
              "<div id=\"df-62aee643-537d-4735-8bd5-a2fe18dd8b07\">\n",
              "  <button class=\"colab-df-quickchart\" onclick=\"quickchart('df-62aee643-537d-4735-8bd5-a2fe18dd8b07')\"\n",
              "            title=\"Suggest charts.\"\n",
              "            style=\"display:none;\">\n",
              "\n",
              "<svg xmlns=\"http://www.w3.org/2000/svg\" height=\"24px\"viewBox=\"0 0 24 24\"\n",
              "     width=\"24px\">\n",
              "    <g>\n",
              "        <path d=\"M19 3H5c-1.1 0-2 .9-2 2v14c0 1.1.9 2 2 2h14c1.1 0 2-.9 2-2V5c0-1.1-.9-2-2-2zM9 17H7v-7h2v7zm4 0h-2V7h2v10zm4 0h-2v-4h2v4z\"/>\n",
              "    </g>\n",
              "</svg>\n",
              "  </button>\n",
              "\n",
              "<style>\n",
              "  .colab-df-quickchart {\n",
              "      --bg-color: #E8F0FE;\n",
              "      --fill-color: #1967D2;\n",
              "      --hover-bg-color: #E2EBFA;\n",
              "      --hover-fill-color: #174EA6;\n",
              "      --disabled-fill-color: #AAA;\n",
              "      --disabled-bg-color: #DDD;\n",
              "  }\n",
              "\n",
              "  [theme=dark] .colab-df-quickchart {\n",
              "      --bg-color: #3B4455;\n",
              "      --fill-color: #D2E3FC;\n",
              "      --hover-bg-color: #434B5C;\n",
              "      --hover-fill-color: #FFFFFF;\n",
              "      --disabled-bg-color: #3B4455;\n",
              "      --disabled-fill-color: #666;\n",
              "  }\n",
              "\n",
              "  .colab-df-quickchart {\n",
              "    background-color: var(--bg-color);\n",
              "    border: none;\n",
              "    border-radius: 50%;\n",
              "    cursor: pointer;\n",
              "    display: none;\n",
              "    fill: var(--fill-color);\n",
              "    height: 32px;\n",
              "    padding: 0;\n",
              "    width: 32px;\n",
              "  }\n",
              "\n",
              "  .colab-df-quickchart:hover {\n",
              "    background-color: var(--hover-bg-color);\n",
              "    box-shadow: 0 1px 2px rgba(60, 64, 67, 0.3), 0 1px 3px 1px rgba(60, 64, 67, 0.15);\n",
              "    fill: var(--button-hover-fill-color);\n",
              "  }\n",
              "\n",
              "  .colab-df-quickchart-complete:disabled,\n",
              "  .colab-df-quickchart-complete:disabled:hover {\n",
              "    background-color: var(--disabled-bg-color);\n",
              "    fill: var(--disabled-fill-color);\n",
              "    box-shadow: none;\n",
              "  }\n",
              "\n",
              "  .colab-df-spinner {\n",
              "    border: 2px solid var(--fill-color);\n",
              "    border-color: transparent;\n",
              "    border-bottom-color: var(--fill-color);\n",
              "    animation:\n",
              "      spin 1s steps(1) infinite;\n",
              "  }\n",
              "\n",
              "  @keyframes spin {\n",
              "    0% {\n",
              "      border-color: transparent;\n",
              "      border-bottom-color: var(--fill-color);\n",
              "      border-left-color: var(--fill-color);\n",
              "    }\n",
              "    20% {\n",
              "      border-color: transparent;\n",
              "      border-left-color: var(--fill-color);\n",
              "      border-top-color: var(--fill-color);\n",
              "    }\n",
              "    30% {\n",
              "      border-color: transparent;\n",
              "      border-left-color: var(--fill-color);\n",
              "      border-top-color: var(--fill-color);\n",
              "      border-right-color: var(--fill-color);\n",
              "    }\n",
              "    40% {\n",
              "      border-color: transparent;\n",
              "      border-right-color: var(--fill-color);\n",
              "      border-top-color: var(--fill-color);\n",
              "    }\n",
              "    60% {\n",
              "      border-color: transparent;\n",
              "      border-right-color: var(--fill-color);\n",
              "    }\n",
              "    80% {\n",
              "      border-color: transparent;\n",
              "      border-right-color: var(--fill-color);\n",
              "      border-bottom-color: var(--fill-color);\n",
              "    }\n",
              "    90% {\n",
              "      border-color: transparent;\n",
              "      border-bottom-color: var(--fill-color);\n",
              "    }\n",
              "  }\n",
              "</style>\n",
              "\n",
              "  <script>\n",
              "    async function quickchart(key) {\n",
              "      const quickchartButtonEl =\n",
              "        document.querySelector('#' + key + ' button');\n",
              "      quickchartButtonEl.disabled = true;  // To prevent multiple clicks.\n",
              "      quickchartButtonEl.classList.add('colab-df-spinner');\n",
              "      try {\n",
              "        const charts = await google.colab.kernel.invokeFunction(\n",
              "            'suggestCharts', [key], {});\n",
              "      } catch (error) {\n",
              "        console.error('Error during call to suggestCharts:', error);\n",
              "      }\n",
              "      quickchartButtonEl.classList.remove('colab-df-spinner');\n",
              "      quickchartButtonEl.classList.add('colab-df-quickchart-complete');\n",
              "    }\n",
              "    (() => {\n",
              "      let quickchartButtonEl =\n",
              "        document.querySelector('#df-62aee643-537d-4735-8bd5-a2fe18dd8b07 button');\n",
              "      quickchartButtonEl.style.display =\n",
              "        google.colab.kernel.accessAllowed ? 'block' : 'none';\n",
              "    })();\n",
              "  </script>\n",
              "</div>\n",
              "    </div>\n",
              "  </div>\n"
            ]
          },
          "metadata": {},
          "execution_count": 42
        }
      ]
    },
    {
      "cell_type": "code",
      "source": [
        "# 학습 데이터 세트의 0과 1의 Label 값 비율 살펴보기(1이 긍정, 0이 부정 감성)\n",
        "train_df['label'].value_counts()"
      ],
      "metadata": {
        "colab": {
          "base_uri": "https://localhost:8080/"
        },
        "id": "n-lYLPwbY7UW",
        "outputId": "7e02814e-9e10-46e7-f4bd-f328bc0e01ea"
      },
      "execution_count": null,
      "outputs": [
        {
          "output_type": "execute_result",
          "data": {
            "text/plain": [
              "0    75173\n",
              "1    74827\n",
              "Name: label, dtype: int64"
            ]
          },
          "metadata": {},
          "execution_count": 43
        }
      ]
    },
    {
      "cell_type": "markdown",
      "source": [
        "→ 0과 1의 비율이 어느 한쪽으로 치우치지 않고 균등한 분포를 나타냄\n",
        "\n",
        "→ train_df의 경우 리뷰 텍스트를 가지는 'document' 칼럼에 Null이 일부 존재하므로 이 값은 공백으로 변환, 문자가 아닌 숫자의 경우 단어적인 의미로 부족하므로 파이썬의 정규 표현식 모듈인 re를 이용해 이 역시 공백으로 변환"
      ],
      "metadata": {
        "id": "biiK2SeWh-qC"
      }
    },
    {
      "cell_type": "code",
      "source": [
        "import re\n",
        "\n",
        "train_df = train_df.fillna(' ')\n",
        "# 정규 표현식을 이용해 숫자를 공백으로 변경(정규 표현식으로 \\d는 숫자를 의미함)\n",
        "train_df['document'] = train_df['document'].apply(lambda x: re.sub(r\"\\d+\", \" \", x))\n",
        "\n",
        "# 테스트 데이터 세트를 로딩하고 동일하게 Null 및 숫자를 공백으로 변환\n",
        "test_df = pd.read_csv('/content/drive/MyDrive/ESAA/OB/data/ratings_test.txt', sep='\\t')\n",
        "test_df = test_df.fillna(' ')\n",
        "test_df['document'] = test_df['document'].apply(lambda x: re.sub(r\"\\d+\", \" \", x))\n",
        "\n",
        "# id 칼럼 삭제 수행\n",
        "train_df.drop('id', axis=1, inplace=True)\n",
        "test_df.drop('id', axis=1, inplace=True)"
      ],
      "metadata": {
        "id": "cVOqh989Y7R3"
      },
      "execution_count": null,
      "outputs": []
    },
    {
      "cell_type": "code",
      "source": [
        "# 각 문장을 한글 형태소 분석을 통해 형태소 단어로 토큰화\n",
        "# 한글 형태소 엔진은 SNS 분석에 적합한 Twitter 클래스 이용\n",
        "\n",
        "from konlpy.tag import Twitter\n",
        "\n",
        "# \"Twitter\" has changed to \"Okt\"\n",
        "twitter = Twitter()\n",
        "# 문장을 형태소 단어 형태로 반환하는 함수\n",
        "def tw_tokenizer(text):\n",
        "  # 입력 인자로 들어온 텍스트를 형태소 단어로 토큰화해 리스트 형태로 반환\n",
        "  tokens_ko = twitter.morphs(text)\n",
        "  return tokens_ko"
      ],
      "metadata": {
        "id": "xqtOZmR-HQTl",
        "colab": {
          "base_uri": "https://localhost:8080/"
        },
        "outputId": "11a68775-0ae7-49d5-fd84-3d9008451e2c"
      },
      "execution_count": null,
      "outputs": [
        {
          "output_type": "stream",
          "name": "stderr",
          "text": [
            "/usr/local/lib/python3.10/dist-packages/konlpy/tag/_okt.py:17: UserWarning: \"Twitter\" has changed to \"Okt\" since KoNLPy v0.4.5.\n",
            "  warn('\"Twitter\" has changed to \"Okt\" since KoNLPy v0.4.5.')\n"
          ]
        }
      ]
    },
    {
      "cell_type": "code",
      "source": [
        "# 사이킷런의 TfidfVectorizer이용해 TF-IDF 피처 모델 생성\n",
        "from sklearn.feature_extraction.text import TfidfVectorizer\n",
        "from sklearn.linear_model import LogisticRegression\n",
        "from sklearn.model_selection import GridSearchCV\n",
        "\n",
        "# Twitter 객체의 morphs() 객체를 이용한 tokenizer를 사용. ngram_range는 (1,2)\n",
        "tfidf_vect = TfidfVectorizer(tokenizer=tw_tokenizer, ngram_range=(1,2), min_df=3, max_df=0.9)\n",
        "tfidf_vect.fit(train_df['document'])\n",
        "tfidf_matrix_train = tfidf_vect.transform(train_df['document'])"
      ],
      "metadata": {
        "id": "1CBsoCVpHQRA",
        "colab": {
          "base_uri": "https://localhost:8080/"
        },
        "outputId": "6187e0ff-6b99-4971-fbda-e0c05e350cb0"
      },
      "execution_count": null,
      "outputs": [
        {
          "output_type": "stream",
          "name": "stderr",
          "text": [
            "/usr/local/lib/python3.10/dist-packages/sklearn/feature_extraction/text.py:528: UserWarning: The parameter 'token_pattern' will not be used since 'tokenizer' is not None'\n",
            "  warnings.warn(\n"
          ]
        }
      ]
    },
    {
      "cell_type": "code",
      "source": [
        "# 로지스틱 회귀를 이용해 감성 분석 분류 수행\n",
        "lg_clf = LogisticRegression(random_state=0)\n",
        "\n",
        "# 파라미터 C 최적화를 위해 GridSearchCV를 이용\n",
        "params = {'C' : [1, 3.5, 4.5, 5.5, 10]}\n",
        "grid_cv = GridSearchCV(lg_clf, param_grid=params, cv=3, scoring='accuracy', verbose=1)\n",
        "grid_cv.fit(tfidf_matrix_train, train_df['label'])\n",
        "print(grid_cv.best_params_, round(grid_cv.best_score_, 4))"
      ],
      "metadata": {
        "id": "ujphvnf1HQOu",
        "colab": {
          "base_uri": "https://localhost:8080/"
        },
        "outputId": "5054c7d9-13b4-41cb-919c-176016dd7c80"
      },
      "execution_count": null,
      "outputs": [
        {
          "output_type": "stream",
          "name": "stdout",
          "text": [
            "Fitting 3 folds for each of 5 candidates, totalling 15 fits\n"
          ]
        },
        {
          "output_type": "stream",
          "name": "stderr",
          "text": [
            "/usr/local/lib/python3.10/dist-packages/sklearn/linear_model/_logistic.py:458: ConvergenceWarning: lbfgs failed to converge (status=1):\n",
            "STOP: TOTAL NO. of ITERATIONS REACHED LIMIT.\n",
            "\n",
            "Increase the number of iterations (max_iter) or scale the data as shown in:\n",
            "    https://scikit-learn.org/stable/modules/preprocessing.html\n",
            "Please also refer to the documentation for alternative solver options:\n",
            "    https://scikit-learn.org/stable/modules/linear_model.html#logistic-regression\n",
            "  n_iter_i = _check_optimize_result(\n",
            "/usr/local/lib/python3.10/dist-packages/sklearn/linear_model/_logistic.py:458: ConvergenceWarning: lbfgs failed to converge (status=1):\n",
            "STOP: TOTAL NO. of ITERATIONS REACHED LIMIT.\n",
            "\n",
            "Increase the number of iterations (max_iter) or scale the data as shown in:\n",
            "    https://scikit-learn.org/stable/modules/preprocessing.html\n",
            "Please also refer to the documentation for alternative solver options:\n",
            "    https://scikit-learn.org/stable/modules/linear_model.html#logistic-regression\n",
            "  n_iter_i = _check_optimize_result(\n",
            "/usr/local/lib/python3.10/dist-packages/sklearn/linear_model/_logistic.py:458: ConvergenceWarning: lbfgs failed to converge (status=1):\n",
            "STOP: TOTAL NO. of ITERATIONS REACHED LIMIT.\n",
            "\n",
            "Increase the number of iterations (max_iter) or scale the data as shown in:\n",
            "    https://scikit-learn.org/stable/modules/preprocessing.html\n",
            "Please also refer to the documentation for alternative solver options:\n",
            "    https://scikit-learn.org/stable/modules/linear_model.html#logistic-regression\n",
            "  n_iter_i = _check_optimize_result(\n",
            "/usr/local/lib/python3.10/dist-packages/sklearn/linear_model/_logistic.py:458: ConvergenceWarning: lbfgs failed to converge (status=1):\n",
            "STOP: TOTAL NO. of ITERATIONS REACHED LIMIT.\n",
            "\n",
            "Increase the number of iterations (max_iter) or scale the data as shown in:\n",
            "    https://scikit-learn.org/stable/modules/preprocessing.html\n",
            "Please also refer to the documentation for alternative solver options:\n",
            "    https://scikit-learn.org/stable/modules/linear_model.html#logistic-regression\n",
            "  n_iter_i = _check_optimize_result(\n",
            "/usr/local/lib/python3.10/dist-packages/sklearn/linear_model/_logistic.py:458: ConvergenceWarning: lbfgs failed to converge (status=1):\n",
            "STOP: TOTAL NO. of ITERATIONS REACHED LIMIT.\n",
            "\n",
            "Increase the number of iterations (max_iter) or scale the data as shown in:\n",
            "    https://scikit-learn.org/stable/modules/preprocessing.html\n",
            "Please also refer to the documentation for alternative solver options:\n",
            "    https://scikit-learn.org/stable/modules/linear_model.html#logistic-regression\n",
            "  n_iter_i = _check_optimize_result(\n",
            "/usr/local/lib/python3.10/dist-packages/sklearn/linear_model/_logistic.py:458: ConvergenceWarning: lbfgs failed to converge (status=1):\n",
            "STOP: TOTAL NO. of ITERATIONS REACHED LIMIT.\n",
            "\n",
            "Increase the number of iterations (max_iter) or scale the data as shown in:\n",
            "    https://scikit-learn.org/stable/modules/preprocessing.html\n",
            "Please also refer to the documentation for alternative solver options:\n",
            "    https://scikit-learn.org/stable/modules/linear_model.html#logistic-regression\n",
            "  n_iter_i = _check_optimize_result(\n",
            "/usr/local/lib/python3.10/dist-packages/sklearn/linear_model/_logistic.py:458: ConvergenceWarning: lbfgs failed to converge (status=1):\n",
            "STOP: TOTAL NO. of ITERATIONS REACHED LIMIT.\n",
            "\n",
            "Increase the number of iterations (max_iter) or scale the data as shown in:\n",
            "    https://scikit-learn.org/stable/modules/preprocessing.html\n",
            "Please also refer to the documentation for alternative solver options:\n",
            "    https://scikit-learn.org/stable/modules/linear_model.html#logistic-regression\n",
            "  n_iter_i = _check_optimize_result(\n",
            "/usr/local/lib/python3.10/dist-packages/sklearn/linear_model/_logistic.py:458: ConvergenceWarning: lbfgs failed to converge (status=1):\n",
            "STOP: TOTAL NO. of ITERATIONS REACHED LIMIT.\n",
            "\n",
            "Increase the number of iterations (max_iter) or scale the data as shown in:\n",
            "    https://scikit-learn.org/stable/modules/preprocessing.html\n",
            "Please also refer to the documentation for alternative solver options:\n",
            "    https://scikit-learn.org/stable/modules/linear_model.html#logistic-regression\n",
            "  n_iter_i = _check_optimize_result(\n",
            "/usr/local/lib/python3.10/dist-packages/sklearn/linear_model/_logistic.py:458: ConvergenceWarning: lbfgs failed to converge (status=1):\n",
            "STOP: TOTAL NO. of ITERATIONS REACHED LIMIT.\n",
            "\n",
            "Increase the number of iterations (max_iter) or scale the data as shown in:\n",
            "    https://scikit-learn.org/stable/modules/preprocessing.html\n",
            "Please also refer to the documentation for alternative solver options:\n",
            "    https://scikit-learn.org/stable/modules/linear_model.html#logistic-regression\n",
            "  n_iter_i = _check_optimize_result(\n",
            "/usr/local/lib/python3.10/dist-packages/sklearn/linear_model/_logistic.py:458: ConvergenceWarning: lbfgs failed to converge (status=1):\n",
            "STOP: TOTAL NO. of ITERATIONS REACHED LIMIT.\n",
            "\n",
            "Increase the number of iterations (max_iter) or scale the data as shown in:\n",
            "    https://scikit-learn.org/stable/modules/preprocessing.html\n",
            "Please also refer to the documentation for alternative solver options:\n",
            "    https://scikit-learn.org/stable/modules/linear_model.html#logistic-regression\n",
            "  n_iter_i = _check_optimize_result(\n",
            "/usr/local/lib/python3.10/dist-packages/sklearn/linear_model/_logistic.py:458: ConvergenceWarning: lbfgs failed to converge (status=1):\n",
            "STOP: TOTAL NO. of ITERATIONS REACHED LIMIT.\n",
            "\n",
            "Increase the number of iterations (max_iter) or scale the data as shown in:\n",
            "    https://scikit-learn.org/stable/modules/preprocessing.html\n",
            "Please also refer to the documentation for alternative solver options:\n",
            "    https://scikit-learn.org/stable/modules/linear_model.html#logistic-regression\n",
            "  n_iter_i = _check_optimize_result(\n",
            "/usr/local/lib/python3.10/dist-packages/sklearn/linear_model/_logistic.py:458: ConvergenceWarning: lbfgs failed to converge (status=1):\n",
            "STOP: TOTAL NO. of ITERATIONS REACHED LIMIT.\n",
            "\n",
            "Increase the number of iterations (max_iter) or scale the data as shown in:\n",
            "    https://scikit-learn.org/stable/modules/preprocessing.html\n",
            "Please also refer to the documentation for alternative solver options:\n",
            "    https://scikit-learn.org/stable/modules/linear_model.html#logistic-regression\n",
            "  n_iter_i = _check_optimize_result(\n"
          ]
        },
        {
          "output_type": "stream",
          "name": "stdout",
          "text": [
            "{'C': 3.5} 0.8593\n"
          ]
        },
        {
          "output_type": "stream",
          "name": "stderr",
          "text": [
            "/usr/local/lib/python3.10/dist-packages/sklearn/linear_model/_logistic.py:458: ConvergenceWarning: lbfgs failed to converge (status=1):\n",
            "STOP: TOTAL NO. of ITERATIONS REACHED LIMIT.\n",
            "\n",
            "Increase the number of iterations (max_iter) or scale the data as shown in:\n",
            "    https://scikit-learn.org/stable/modules/preprocessing.html\n",
            "Please also refer to the documentation for alternative solver options:\n",
            "    https://scikit-learn.org/stable/modules/linear_model.html#logistic-regression\n",
            "  n_iter_i = _check_optimize_result(\n"
          ]
        }
      ]
    },
    {
      "cell_type": "markdown",
      "source": [
        "→ C가 3.5일 때 최고 0.8593의 정확도를 보임"
      ],
      "metadata": {
        "id": "h8utgha2kg2M"
      }
    },
    {
      "cell_type": "code",
      "source": [
        "# 테스트 세트를 이용해 최종 감성 분석 예측 수행\n",
        "# 테스트 세트를 이용해 예측할 때는 학습할 때 사용한 TfidfVectorizer를 그대로 사용해야 함\n",
        "from sklearn.metrics import accuracy_score\n",
        "\n",
        "# 학습 데이터를 적용한 TfidfVectorizer를 이용해 테스트 데이터를 TF-IDF 값으로 피처 변환함\n",
        "tfidf_matrix_test = tfidf_vect.transform(test_df['document'])\n",
        "\n",
        "# classifier는 GridSearchCV에서 최적 파라미터로 학습된 classifier를 그대로 이용\n",
        "best_estimator = grid_cv.best_estimator_\n",
        "preds = best_estimator.predict(tfidf_matrix_test)\n",
        "\n",
        "print('Logistic Regression 정확도: ', accuracy_score(test_df['label'], preds))"
      ],
      "metadata": {
        "id": "wHCRtum0HQMo",
        "colab": {
          "base_uri": "https://localhost:8080/"
        },
        "outputId": "b74050cc-3ffa-4806-fbe3-aa9ba623d8dc"
      },
      "execution_count": null,
      "outputs": [
        {
          "output_type": "stream",
          "name": "stdout",
          "text": [
            "Logistic Regression 정확도:  0.86186\n"
          ]
        }
      ]
    }
  ]
}