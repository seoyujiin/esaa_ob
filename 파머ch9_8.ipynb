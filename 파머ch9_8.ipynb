{
  "nbformat": 4,
  "nbformat_minor": 0,
  "metadata": {
    "colab": {
      "provenance": [],
      "mount_file_id": "1WE3eCoqGunj7NQyCeSPRGmQhRsDGn8Lq",
      "authorship_tag": "ABX9TyNUyx6zSCfJcAg5/kAsZbqn",
      "include_colab_link": true
    },
    "kernelspec": {
      "name": "python3",
      "display_name": "Python 3"
    },
    "language_info": {
      "name": "python"
    }
  },
  "cells": [
    {
      "cell_type": "markdown",
      "metadata": {
        "id": "view-in-github",
        "colab_type": "text"
      },
      "source": [
        "<a href=\"https://colab.research.google.com/github/seoyujiin/esaa_ob/blob/main/%ED%8C%8C%EB%A8%B8ch9_8.ipynb\" target=\"_parent\"><img src=\"https://colab.research.google.com/assets/colab-badge.svg\" alt=\"Open In Colab\"/></a>"
      ]
    },
    {
      "cell_type": "markdown",
      "source": [
        "##**CHAPTER 9 추천 시스템**\n",
        "\n",
        "###**08 파이썬 추천 시스템 패키지 - Surprise**\n",
        "\n",
        "**Surprise 패키지 소개**\n",
        "\n",
        "* Surprise: 파이썬 기반의 추천 시스템 구축을 위한 전용 패키지 중 하나\n",
        "* Surprise는 파이썬 기반에서 사이킷런과 유사한 API와 프레임워크 제공\n",
        "* Surprise 패키지는 API를 이용해 쉽게 추천 시스템을 구축할 수 있게 만들어짐\n",
        "* 주요 장점\n",
        "  * 다양한 추천 알고리즘, 예를 들어 사용자 또는 아이템 기반 최근접 이웃 협업 필터링, SVD, SVD++, NMF 기반의 잠재 요인 협업 필터링을 쉽게 적용해 추천 시스템을 구축할 수 있음\n",
        "  * Surprise의 핵심 API는 사이킷런의 핵심 API와 유사한 API명으로 작성됨. 예를 들어 fit(), predict() API로 추천 데이터 학습과 예측, train_test_split()으로 추천 학습 데이터 세트와 예측 데이터 세트 분류, cross_validate(), GridSearchCV 클래스를 통해 추천 시스템을 위한 모델 셀렉션, 평가, 하이퍼 파라미터 튜닝 등의 기능을 제공함"
      ],
      "metadata": {
        "id": "WHk4a-6M5ecd"
      }
    },
    {
      "cell_type": "code",
      "execution_count": null,
      "metadata": {
        "id": "gDOh1heQ5W49",
        "colab": {
          "base_uri": "https://localhost:8080/"
        },
        "outputId": "3492b04c-d270-4618-f0d1-76555b2a17a0"
      },
      "outputs": [
        {
          "output_type": "stream",
          "name": "stdout",
          "text": [
            "Collecting surprise\n",
            "  Downloading surprise-0.1-py2.py3-none-any.whl (1.8 kB)\n",
            "Collecting scikit-surprise (from surprise)\n",
            "  Downloading scikit-surprise-1.1.3.tar.gz (771 kB)\n",
            "\u001b[2K     \u001b[90m━━━━━━━━━━━━━━━━━━━━━━━━━━━━━━━━━━━━━━━\u001b[0m \u001b[32m772.0/772.0 kB\u001b[0m \u001b[31m7.4 MB/s\u001b[0m eta \u001b[36m0:00:00\u001b[0m\n",
            "\u001b[?25h  Preparing metadata (setup.py) ... \u001b[?25l\u001b[?25hdone\n",
            "Requirement already satisfied: joblib>=1.0.0 in /usr/local/lib/python3.10/dist-packages (from scikit-surprise->surprise) (1.3.1)\n",
            "Requirement already satisfied: numpy>=1.17.3 in /usr/local/lib/python3.10/dist-packages (from scikit-surprise->surprise) (1.23.5)\n",
            "Requirement already satisfied: scipy>=1.3.2 in /usr/local/lib/python3.10/dist-packages (from scikit-surprise->surprise) (1.10.1)\n",
            "Building wheels for collected packages: scikit-surprise\n",
            "  Building wheel for scikit-surprise (setup.py) ... \u001b[?25l\u001b[?25hdone\n",
            "  Created wheel for scikit-surprise: filename=scikit_surprise-1.1.3-cp310-cp310-linux_x86_64.whl size=2811598 sha256=534ba1322ad9c1efa21a301718ad278e03a136ac263f7e2c93e4d79b2039e5b7\n",
            "  Stored in directory: /root/.cache/pip/wheels/a5/ca/a8/4e28def53797fdc4363ca4af740db15a9c2f1595ebc51fb445\n",
            "Successfully built scikit-surprise\n",
            "Installing collected packages: scikit-surprise, surprise\n",
            "Successfully installed scikit-surprise-1.1.3 surprise-0.1\n"
          ]
        }
      ],
      "source": [
        "!pip install surprise"
      ]
    },
    {
      "cell_type": "markdown",
      "source": [
        "**Surprise를 이용한 추천 시스템 구축**\n",
        "\n",
        "Surprise에 대한 문서\n",
        "https://surprise.readthedocs.io/en/stable/\n",
        "\n",
        "추천 데이터를 학습용과 테스트용 데이터 세트로 분리한 뒤 SVD 행렬 분해를 통한 잠재 요인 협업 필터링을 수행"
      ],
      "metadata": {
        "id": "P77Z_dxAz8lt"
      }
    },
    {
      "cell_type": "code",
      "source": [
        "# 모듈 임포트\n",
        "from surprise import SVD\n",
        "from surprise import Dataset\n",
        "from surprise import accuracy\n",
        "from surprise.model_selection import train_test_split"
      ],
      "metadata": {
        "id": "Zqb8zSPL56zW"
      },
      "execution_count": null,
      "outputs": []
    },
    {
      "cell_type": "code",
      "source": [
        "# 데이터 세트 로딩\n",
        "#Surprise에서 데이터 로딩은 Dataset 클래스를 이용해서만 가능\n",
        "\n",
        "data = Dataset.load_builtin('ml-100k')\n",
        "# 수행 시마다 동일하게 데이터를 분할하기 위해 random_state 값 부여\n",
        "trainset, testset = train_test_split(data, test_size=.25, random_state=0)\n",
        "\n",
        "# 로컬 디렉터리에 데이터가 없기 때문에 무비렌즈 사이트에서 내려받을 것인지 물어볼 것\n",
        "# 상자 내에 'Y' 입력"
      ],
      "metadata": {
        "id": "sykPcdnF56w7",
        "colab": {
          "base_uri": "https://localhost:8080/"
        },
        "outputId": "f95ab99c-ab75-4527-b67c-94397081f1d3"
      },
      "execution_count": null,
      "outputs": [
        {
          "output_type": "stream",
          "name": "stdout",
          "text": [
            "Dataset ml-100k could not be found. Do you want to download it? [Y/n] Y\n",
            "Trying to download dataset from https://files.grouplens.org/datasets/movielens/ml-100k.zip...\n",
            "Done! Dataset ml-100k has been saved to /root/.surprise_data/ml-100k\n"
          ]
        }
      ]
    },
    {
      "cell_type": "markdown",
      "source": [
        "→ /root/.surprise_data/ml-100k 디렉터리에 데이터 저장됨"
      ],
      "metadata": {
        "id": "FThCJbjT1ry5"
      }
    },
    {
      "cell_type": "markdown",
      "source": [
        "* Surprise는 userId, movieId, rating과 같은 주요 데이터가 로우(Row) 레벨 형태로 되어 있는 포맷의 데이터만 처리함\n",
        "* Surprise에 사용자-아이템 평점 데이터를 적용할 때 주의해야 할 점 - 무비렌즈 사이트에서 내려받은 데이터 파일과 동일하게 로우 레벨의 사용자-아이템 평점 데이터를 그대로 적용해야 함\n",
        "* Surprise는 자체적으로 로우 레벨의 데이터를 칼럼 레벨의 데이터로 변경하므로 원본인 로우 레벨의 사용자-아이템 평점 데이터를 데이터 세트로 적용해야 함"
      ],
      "metadata": {
        "id": "ICIcCsWX1_PL"
      }
    },
    {
      "cell_type": "markdown",
      "source": [
        "![image.png](data:image/png;base64,iVBORw0KGgoAAAANSUhEUgAAAX0AAADmCAYAAAA5r1VlAAAAAXNSR0IArs4c6QAAAARnQU1BAACxjwv8YQUAAAAJcEhZcwAAEnQAABJ0Ad5mH3gAAP+lSURBVHhe7L0HoJ5Flf9/bu83yU3vvVBCCRA6hCY2FLvYXftaVte17brqrj9Xd921rA3BrihWQIpI74HQUkhCCiG93uT23v7fz5n35D5cA+gKCf55z83keZ55Zs6cOefMmTPlmbegv79/wPKQh78xKCgoyN3lIQ95+EugMHfNQx7+JgBjnzf4ecjD/x3yRj8PfzOQN/Z5yMNfD/npnTw8JyBv0POQh4MDeU8/D4cU8tM1ecjDwYW80c/DQYcw9Hljn4c8HHzIT+88BeSNUh7ykIf/v0HBgCB3n4c85CEPefj/OeSnd/KQhzzk4XkEeaOfhzzkIQ/PI8gb/TzkIQ95eB5B3ujnIQ95yMPzCPJGPw95yEMenkeQN/p5yEMe8vA8grzRz0Me8pCH5xHkjX4e8pCHPDyP4P83H2cNrUY8/zlf1Q5NOxTXgXAQ92Ss411fX59fs3mz5WTzxz0h7ofmG5o+nvv7+62oqOhP7iNPpM8C6YBsfOAbClk8AM+FhclXyKaP/JE+8mTTxLuh17gHIl8e8nAwIPQudDFgqI5mIauvcaVNxH1A5DtQ/NA4YGg5AZF2KD6uxAU+QrTNp4K/eaMflY1qcKXiYdgOZKCy0Nvb60wrLi72PFnhEY/xJi4YG/FPlzbi4j3pI34oPq6BD+CeuDDgkZb4gCibMkkXQNosXUB3d7eVlpbup28oZMsFeM7SCwQNXIO+bFykiXvih+IAIi7yQXvERchDHp4JQMey8GTPQ9sL97SZsrKy/fHo5VBbwDXaQqQJ/Y1rQKTJlsU18GTbXMRFuqH3AdxH+dl2lAXwDoWizwly93+zMLSiVB4IRgAwJhiA8BAq77m/5ppr7P7777fJkyfb7bffbvfee6/f8668vHw/cwPAFSHwgLunp8fv165daytWrLBhw4ZZQ0OD3XHHHdbY2GijR4/29+ALmsEBhPAoM941NTXZ7373O9uzZ49NmTJlf3wIN5Rw6dKldtVVV9nw4cNtxIgR/p548NGpUWbQGXRncQF79+71uu/YscNGjRrl8Y8++qjHjxw5cn8e8FEuz0MVivpn40gDgIt3f/jDH+yPf/yj8wFawRd0cB2KLw95+GshdPVAAUDvurq6XPdoI+g/ulpRUbH/GZ2nA4i2EnmzOKIc7klHnmy6iKuvr9+v87RH4iMfOIBsOZE2C5GH9NiIjo4Od1pJS3wE4EBt6m++lQVTuBJgSFQeJkdcVJ54mI3nyzuM2l133eWMIx0G/+c//7ndfffdLngYS2hvb3dDvnHjRscLgBNmg2PZsmWuJITbbrvNfvWrX1lzc7OtXLnSLrnkErvllls8z4EgaALiCu62tja788477YEHHthvsCmb+6gvgOBJt2/fPn8XSkEAD9fwWuI5+BR4t23bZj/60Y/suuuu87pSzx/84AeONxQ4+BjlZ+OBkpKS/TQFhAw6Ozvtnnvu8Q6QThEcvIO3kQdcecjDswnoWoTQN/QWXVy8eLF9+9vfdgeKjoC2+7Wvfc3tQzh0QBhncKD7u3fvtlWrVrmTRFskHrsARFvkumbNGvv3f/93u+GGG/a3U9LSprjnGrRFIC/lZfEApCUepxC/HVp5n837ZPBnGH2MRyow96jC4llBV+6doEzw97kkzyYEMxI9g8zAQP/855fZV7/2P/atb33Trvn9NXbzDTfaZT/7kZj/iNLL4PT3uTHavWe3lZaVyjCWglFeaK1CjWiXQVJQlG3busP+5VOftku+9S1rbWywIpUjsas8s8su+6V98EMftHvvu9sam1ptn96XVRZaVU21CCpxFrS1NllnR6sNSBaITVTrf4SUlAf6H354uRTuGinFzXbF766U0f2hbd+6zR5Ycr/9XoqIgH/6s5/anXffZY+uXWN9ytPd0+sKNnLEcNtXv1sU9VtJcTLKLgvxB28Ffjz22GO2bt06e+SRR7wjWb58uW3bvtXlWSQ6iwqLZPBbbNPmDbZxyybr7lVn19ao911OX68I71MFpKqOv6ioUOnbbNXqVXaF6Lvn3iW2dt1627Jls7U0N6iS8vytVw2m2zaLfwUFYhY8VxmORTgIyCvkxzVkGsD9gQL8QzdTetJ5VA6Gpv2/wVPl97KlR55GvPGrqYHm4qDFL0NC0Oj3fwEELdnwlwJ54BchPUsk/YErwtD4lG9oeRF3oJB9HxDPIe/su2cChuLkPnSss7PNWloa5Ug1y6B3ertvbW2VY9bk+t3d3WM7d+yVJ77Xmlv2SU37bPOm7Wp/m62no8VK5DT1imcFAz2yGxrV9hVYm/LeeP0f7Qv//h/2pS99WXbmYvuvL3/FfvvbK9UR7LEidLunM9lD6f6e3fXW1iIboHZFm+vDrhbIvhQgkwHvWFpammQrmq21ucXaWzvc8YNWHDGudE7RSfT1DchZ7ZTN2Wfbd2yxvt5uCS3DU+EVF9J9Bp7G6JMhmSh/0mOvWj59SL8ab19ft5iTFCgRIWGSJ8d84vzZ86a4rFCeCQihRgA/vfTmzZu9921rb3Yali97xH74/R/YtVdfKaO0Thl7nCldYqIy2rjx49w47dixXcbPbNTIEX7F6BfqfVlZhdXVjrBi4S9U6FUZPXR+BTKyRZVWU1sj5u+1ltYuq6issoGiTuuWgmyUwW1pldIUKZ/oQAHk++a4At9yQzpdUIqHHlxqS+6735YuWy7ht9nkSZNs+LBhdtONN/koZNOmTT4S+fFPfiLF2uUGv7CwQMrSbJsef0z9VK9wSS7iPeJdv369/du//Zv913/9l/1EecjLNM6VV15p1153rT289GHxqMNKS8ptZF2d6lkiY99h5VVVVqw6NzXusZ7udrEojRLgsbhiPb099uBD99vF3/2WXfq9S+ymm262W2693b576ffsm9/8ll191ZXW1LBXvEOpzapraqWg3dbcuM8mjxvnvEf7Er50DT0CkCONYChk9SgZD0YKqdFgeAcBDifeApHnL4VsedmwH2i4Hkda2gUGH7pSo9yfB9rI9peT4PCEMv+PsJ+WXIB/BEQwNB691K0/B2TvDwRZHNm0bgcy8ehR9v1fC+CKMrIQ8d3dXfbzX1xm73nvu+1T//xJtYUv2Ve+8lUZ6e/Y92UTlj+yTO2n1dtxZ0eX9fa1+7Tsvr3tVl1RbhNG1ajdCj8GoU8ev5yqjs4Ou1qO2XVXXW1TJ0+x97/vA/b+93/Qxo+boFH+r+3yy35hjQ31Vqx2n+xSoe3Yvtua9u618hK1WXUCPsqW/cBO98qWXKk28+Y3X2Qf/ODf2xe/8B/2n1/6L/vCF74gWr9iX//61+0b3/iGT5Fi/IEC8bGzu1f161TbrVYbzo0UsDS0L+E+EDztnH6/NyqEhGakxumKIkNDBPGpUkmgxHrBCpEeiPfPFOwvbwh+hMxUxowZM+zMM8+0U087xRYef6KduPAk6xKzHnhgsc2cNdOOPnqBiCu2PfX7bMWyFVY7bLiNGzve7rlnsQxdo73kpS+1muoaami9EtjehkYx/DorLyu2I444zEqrKq2ts0s9coPdcft9Gi1st5LSQpVRIIP9gBWX9tmc2UfKa95uj658xA6fPdNOO/10CUNDxMJieQEq3vkH7YpS/PTpU+3UU0+x448/zmYp/SmnnmznnXeenXHGGXaG6nLKSSfbueecay88/4V21pmLrFb0oTh76/fYfRqazp4z24455hgpUJ86A3kmUqSNj2/wqaqzzjpLSvl+O+WUU+zwww+3s88+2046+SSbIV5Uy8A/vmGTOoAHrLyyVDw7VfRX2O233WUlBd16Pt3Ky6vc0y/UaAAju1SdxSXfvdha1VheesHLpaxvsZNPPtnKysvVad2rTnapTRw7ziZPnmAF6lAGrMiWPfSwGtJumzVzhk2ZOk3eU7l4kHQHGCrL6GQiHuA+0qdr4iGNKKUlkb/VPSENycMogDMg8GQhWxbvCUPj9oOi07iHoTrPpE9OAj2aNz6iB7Pn2k3An5afhSg/gPssT7J0AU+gLQdD0wARR3o3PJl88GmwjJQ23h8IFzC0XJ4jH/i4pwMfiufJ8P0lkMUR5T4xDke1R973r3269Y1vfKMtWHCc2v8xdtRRx9j8+UfaxIljraKi1tau2ai2e7/VjayWozVaRnqfdPZutbvjbeLMeW6cS+TEdHT1y8G5y67+7S9t/ISx9qa3vMUOP/IIGzV6pM2ZM8daNZq47trfW4UcqHnz5qq5l8urN9u6aYtt3LDejpp/hM1UOlzkAnUm6Ghvd79dd901ske77LWveY2df/6LZWeOdPpopwsXLnTcrO2xVkhdGS38/vdXW8O+3faSl7xIjupo4WJaCaOPQkqWrv9P5PNgC3gSGFBNe3vkDYvoHl3b2zt9WuAeGRKG9etViSVLltiypUvlEXZ7WgTMMER9mF/9PtfoQhGyIeL/nED68FCyeANQWN6hzBj/oiL1qgqlpWWir9dGijFVMnLijlhR4Ia9qKjEmptavH7l5RXKV2kbN26WsEqsQL27SrAGDeV2ybjeI+NKj/uZf/ucfeyTn/Q5QObTdu3aZXfeKUWQEB5d/aht3bLFylRmscqGvj5GFCIT+p7Q7gXQigARB/SC65JLLtaQ8Qv2CXkmeOqf/cxn7MorrrCH7r9fHY/wivbmfY22dds2W75ihdd5zJgxrvAxnwheyoNPKAprFKxlsDDLAjX3xUrT1dXjDYLRkYi1EcNHeB7oxvsvVz0Kla5IhBPXoZHBzTfdpJHJbnVKL7DT1ZnV1NRYpTrCRYvOsI/908eUb4yU+AZr0TAVI1heVmrtHR1O59598nbkQYUnD83EgzsCcSHrkHHoEkAcdYt3fZ6WqcdBD5bpu6H6sf+dAu+Ghux7Ams0lAmtvA/6HHIXRaNO/h4IWpEp7YFRCLT0aPjttDpucKW0TxVIG+UCQSchS2c2XTYcCCI/0NPTpfvEe3BgILgnHmOZxfVkgXzUN2hipJ3lGetlbJb49a9/LY+adpbi4/pU4UDlReB91BvIGvsspFFXn82cOdOdIpweDOi0aVNs0sSJ3i6K5b3XVFe5zfCg9jFeI1J0bPOmzW420WMc4E45e8zf08Gfd945Nm78KKXD0Sqw4SOq5bgtlBNZJbuwXE5Rs+sGtNWNrPNy2trbnGZwEl8woJG62t/atWt8anbWnFk2feZUmztvjh2hzmSSRvtjx44VvdNsXI4mAvzDZmHP2lpbnSf6z+vs8CT8+BOj7xlzkO7V+MSwARHZ3tZh3/jfb9j7//4D9t///d/27//27/amN7/JPvChD9q3v/Vt27BuvY8oEnOUT/lpjFQQJQAgNAu8y4Zs+QFJGf+0gUT6uIbQuWLw4r6/N6XBOLZ3dNqUyVN9uK0som/AF1/YTQLz6BxgaElJqQuFNMXFCLrT63LMgmPsrW9/m/3Dh/7BPvGJT9h73vMem6VRRYk84He98532qU/+k82eNcvLGyFDO27ceA0bRYvwMNJwgaEETh30YbhSZ4BxYDTxyU99QnS22IUXvsz+9TP/ah/+x4/YCQtP8IWgG/54g91xy232kx/+2N7zrnfZR/7hI/ad73zH5+sx4Dms1t2TDEwMBdnVA9AhwE8Cckp8KvDFLOLaZdAZujK8rZIRpxP07lH0c4X2hn0NtmHDBo1Mprt3T6NJI0JkUCglnWzHLVhojY2ttmvnTufF9u26Cj/yr66q3i8jaARCdjyzBvHxj39cQ+/vu9EN+RLgE50Tdf785z+vkdQmcqtTRUdIl2TmhlblDdUN4qCBOO6BZKDTPem5j/LgV5QbeAjcI1R0HNQYth/+4Ef2kX/8R1u3fr3nI55OnHQ+AtBQf4A54T46L2SQaAAX1ywdQJQX77kSoJEQaeJdPEdbi7iAoJ28OG4f/8TH7BOf/Jh95CMftne+8132r//6GZ/uQM/ooIpLUtlZPJSVLS9LB/dcg2fhdLDQee2119pPf/pT3zAADPJwkE7yQ3s8Z+tM4DnK4Jq95wpOINLrnyAtlMaWZeIxvNzzjmlK6GRO34N0g05r8uSJ0v8KOUij1AGUYdT24w8HCZsxZ+4svWdTiOjrp+Pr9aleZgP6+nvU/tqVQ2XKeezr65HBb1Vch7c9ynfHYQCZ9MlxqrWWthZvf6qd9UhPgNggQj2hIfhQWlqijmCqp6G9Bh8I4A56h8LTevpQVVKShIgn37BvnzzYUjXq4+w/vvAFu+LKK90TBf+/ffZzds1VV3nP1SjPGKLJB9OjgXMfjc6x65oVFsBztmEOVeJQDHBS0QikJW+UwUINvTK8xQhUVlR6j7h23br9TOzoaBPD9srYtVpdHYa/wur37qEUBYZHlNfvXvSE8eNt4vgJPnUEs6dNnWrj1AODlw5jtBRk+tQZSjfBhlXXeseBIUbAeDgYvWQ8BwFDCo+Zl4f+pcselkdQa//wDx+yM8860yZMmGDTZky3t7ztrfbu977XtmzfZnffe49NnTnd/vO//8u+8c3/9R0BGF8We6gTc30syoKXnUUoMXwJXsMfN/Lq+ZirJA/0QzcG6fHHH/etZe1t7RoBNSX+k09BWGzlIytt6+atNmb0GB9SBu9RXDrI4uJS8Wuc7a1v1Khlt55L3MtnaoPGV1lZuZ+mCAA4kBsBw/Pb3/7W6QdC5qRF7qtXr/ZdECtXrtLbQaZK5T0d/HRqdU8gv/MmVx7PcR+6yXt4Qxy0xH0WSBN0APAkee39voOLBXM6RDpbjAheHTu3VjyyzLq6O0QneqvRGPN7TluqN3gxlpSZxR9AXFwJ2XRBL3wLXO6k6D4LkZf00MjofLM6zUVnnWEf+MDf22GHHW53332Pz3nfffedaj8t4tOgkwY+8ka74xk+Qgu0ozPsfGELMekoi3aGd/pJjYo/+9nPuj7HbpnAQ7qQR0C0f0LUifcRiAe4xjuuEUcAneuBHJHhw4b7+9iCSUBmjMTxll2FVI/a2lqvT01NtZzBBmtra1W+hI+2QkJGytXVNdLpdsfjZSpAA508Oo5n7rqudgUd/NfY2OD8AESSj5yLCtKaXE11tW9lLlcH09zc6OsGtCXKBQ8h6gp9CTSC1oikRO9SGeAd5OGTwdMafbHMjTi1Yqja3NQsYgtl9BfYjGnTZaBG+nzzCScstHWPrrFtW1NPjvfH/C/KAGMwwGFow6skHkZxT4WoTAgu8vFMhUPheCYEs7PAe5QF5fvf//1f74y+9KX/dA/mHz70YXvggQdFQ6/t28uOlH5ramwSg/fZsOHVVlVdIZxdtq9ht66dqtdwFwz1LxO9I6Q0krrV795jjQ2N1qkRQ78MZL88Nh8hKM0aDfl27Njl9XNjoHc75Nmw2E2HWaQ6uUjESzl++i9JCrqJLJQhKCnB6+jSkxRSAkQxaRxItai02Pbs22trNqy3qbNm2OgJ4zWcHO7fFMA/duU4KI+jFG6GtOT/zW9+Y9/61rfsf/7nf+w///M/7ctf/rL9+le/sh3bd1iFeyoqW54DI4Yf//jHdvPNN7s3s1tGG3pUgCsneo8s6QS76FClQvAcbwejj5xKMF4FZeo0uqxTxp26TZ0yxTtHpq6gB34RH3IlzmlQPB0kukADBIjnOfSjrq7Oh+iMNDZufNwX4RIPqToNtN89Nt153ND86BZx0B06SPnwkEAcgfehs6GfpI2yADz9ZFiK3BjgxWH8U/oiW7d2vX39a1+366//g3AKlzz9Xnl8rLvg7ae8Sa/hRUA8QwNX6CMuyuceGnkHXbyPOgLwkTRZCLrJs2XLFuljoZ256FR70YteaEcddZS99rWvs7e85c22a/cuu+r3V0j+j7sRoYOGjsAfPAt80cE89NBDdsUVV/i2XzxPeAAd0MZc9AknnODTjJEfCJ7Hc+CP+hDPlTRAlk9BD2mhj7SBK/AlnplP2eBs+PchuXzYgFWrVtqDDz5gyzTyof3srd/r+t3QgLPDphC+b1F6cEKH8DFSoE0wdYlDSPtG7wA6GJziGjl9TbKVdBzImzQY9LqRI6x2WK3bFmjrZ6FM/8rLK12v4dtiOXU33nSDXfH7K33DBbv22DYasqaOLltdd2okvVf2znmRq/PTQZr8fQoADQUUFhb79ESFhvt4Xyyc+dBWhdGIeIfx4cMeAIXvEZF4OFdf9XtnKHNSpEH4Rx99tBtL5sYYauI9M98WHQIGh32zVOacc85JhlXMpBGyC4Xh9Fvf+lZXIiAEDS18CIWXOHnyJHv/B99vI4ePsd7OPquTwMsqC+yxjevsIx/+iK1e85h193VYr3CedtpJ1tKatnRVVMpgtbdIkMw54uEOWLOEUb9zl+1Q3ku+9R2rk9ffX1xu1Rr53X/fchn1HqeJemPQ+KCqXgGaqNMoGYQyebykKy6XgYNmJzz9hzeBMs2dO9euufYqu/rqK+01r361TZg40xUP7+nK3//emuU5njr/dLv8it/Y8qXLbOLYib6YvE0e23nnnu3yQMHUol0JUKQwnnTE8AuPgkZCo/fGodBLo1GaMfJQGDV09Rapw9rjDdDVmYaWw3n0UfPt5huvd49/zZpHbe5h83xoS+NAVwbUH69bt94bBGsmlEGnUKqGN3r0KG9UOBBF5WxnHfTCCWH08cjQB/QJJadhcyVghPgmAWOTGjnk9VubOmIa8dp1jwpPoU2fMc2OPOJoeWXVjhvdADBODz/8sPOAaS8WyaZq1AYuAP2mMWEg2P3E9AQ4TjzxRPdUA0ju/JNhTEPtaR6P98Wo697Fd2nUJK+/q10jkkfsV7+63I3rrJmHiS8jvZOnnnSEGCUaPHWbNWuWtxNvyAqUj06ThvdMkXCFvvnz57sxox2BCxkjX+aB4WUWqF8YTHSCDoqOOjrr4qJSO+KIw31hf9OmjWoHctzUzml3TGmwc4x0PCNDZEPHC42MvK6//nqnFV7feOONNnHiRBuvdgItyAsc1At6SUO9AfDR3qkj9+goPEDm8Dd0Axuyfft2twXwgvaGDoQTAGTrTJvCCEMzvG2V1w5Em2xtabPHN260bTs2ygkr8xEu6crLZ/g0J1O9OBCdKqdPujygemL0wcdWSepRqtE8jg9hQLZClEoudW4bfS2UN8rH1DAdKHVuamoUbRjwkuRQq+W1aVS9detWld9oj2kUViTbwuJyeUm52wxoRubUP+Tc09PnNPfs70QJTw9PY/RlDMQ4hix9PQNWUVVhI0bW2SQJjh4M4ktqa2zpw8vs5ttutsraajtSBkHqZdu2bLerr73W7lt8m82cMdPe9773OZNuufVW3zd/yskn2nnnnSsmNNsPfvgjmzFzgn3uc5+1UXUTrK2ly2656Xb75S8vkwJUq/EfrcZZ59MRDz78kH/VydbCV7/q5WqMVVaoxuwGQYzFKOGVT5s42WZMnWGnnHSK6NfQSO9832xft5XKqJ/Ozp7Tz3JxXXXVr6xdhqa4sNwmjp8qb3etbd222Y477mQfgiFw5vg+9/l/s6Z9u9VgamxY3ShrkeCtr9OOPHKhjOUIDWNHi56RrpS9PUXyeEusUr07XmdpJXv2xW5sRGKtuJQRkjoWaF+48EQZ+9fYbXfcao+uXmuzZx5hHfKod+1JHve73vEOO2PRmbZHhmnu7LnW3tRq9y9Z7EO8WXNmu5Ky+JzMl7mSoSwvetGL7JWvfKU3HoxfMpYqX/96NfqplFGr39egRjzRLnzZK2zz1t328P3LraqSkYbSQ6pwo7wzZs6wV4rGn/zkh/b9H3zfXnLBS+3MM8/wRrh50xa75vd/sMV332cveMm5drg6d4bPHe1dPlVUr5HKtp3bxYoi6+tORh7DDyHc06kPkydUV8cOhTRHOjCAl0sqdexKSYMDJw1fGqqYPhmMJvvZZT+3W265yY4/7mg7av5R9odrr7dNGglc+PJXqa4ltk8e0QMPLrHLf/kLmzNnni049ji77dab7VaF977vPXbk/KN9x9Pie++zSy/9tkZRtVZbPUzGa4rNm3eYaOtRA1RnJdrhX2Gh6NY/eNKjUFElb026x66NKuk6jRw6+ZZh48YGOQJzbf26jTZt8lyf4920aatdcum3rFHtaL7KxphvfHyjHXn4Yfbe975b5Y/wHVP3iJc/+/n3hbPCJk+a5Z1ZQ+M+e0DymTd3qo0dP9anLFnWaGnusGYZz2OOOsw+9A8fkAGjk5IHrP8BFuS5HzN2gq6F1rCv3o1YuWju6OjyUcqe+t228PgFaotjVIcia5TBxuNcsuQ+72i6VKelS1fYscfOt/e88602bfosGe2ttnPHbtspo1QguW3YsF5OX49NnjrFOuS0XHzJpXbHHbfY1zXSPOroY6y9o8d+fvlvbfWKh2zGrOneaYwZM17OY4/0fqXa9svsrW97qxyDYT6qXrz4HvvuxRdLf/bZRHUi2zWi3rlTo2iNynEOvvCFL2pUOztVEr1Gv8V/n1LN7WCR+yYHow81ts4eGW2NPF/8whdLg5gzL7TRI++Q8d1jNZLjyFHDbNS44W7oW6SnTO2Qv6C03PrEp4njxti29nrr6OnwBo2zh4NI+2PTxm4f0RZalfQH/haoDZW70zXc1xW9/UkCvitSbb+nl28Fen1a6O1yZk866XTRXCrUbi0cyIODhCPCbAa8am1strpaeNTh75EtV8oszrXvoTCIMQepx8gB96o0hr8fb6ai3BcaGpsb7Yabb7DvXvJd/2Lt91dfZWeedYb93XvebsPELPKw33XlipXW1dFqp51yoi1adLpPAb3sZS93tPdpCNMhXLNmzbPDjzjCNm1eZ/fee4eIhmkDaiD71FnMsOEyAPty87rsJ19y/wNSuk47S+WNGjlcSpwb7sBA4WUuu09KWVc73Bp271GLxLiJJHlV8mmsQIa4tnaEveGiN9mb3vgmW3jMyVYib2C4DHllWa167lpfuGGfa2+f2FNQbMUlxT79c855Z9vL5H2fdf4L7biFJ9iZZ5xmi84+z05fdIrNO+wwGzl6rNv1ufPm2isuvEhe4UQ79eSF9oY3vsGOOOY4jQxK3DhjKZLBVRAkNnM/4J7Qm970Vvvwhz5mp592rn+k0adO42R5o29981vs9a95rU0aP8EWyKhd8OIX25vf9EZ7sa7F8jQxPPAePiB0ppdCnuE1hccMON+cPym+vS19SILHtUXGu7u92zuDYhkENKWPxVroVBknyOs9TR0n3snPfvJThZ/ZT370E/vhD36gjv0GK68qtAUnHmW16hzVctRZNvj0UbkM1wh5+6q1OmE1IiEmQBIBj5mOvHZYjRpBp0ZY+xKbFJCxaqhOrNsK1MD2Sr4Txo8U3mL/3uCmW262aTMm21ve9mZ76UsvEL9kkKZN9E6OrWu333aHXfydb9vIuhH2xoveaOeec56My2scP98asKuo0+fhOzxu3bpVdvwJx9r7P/A+7zCnTGE0oBdOq0YcTG9xr8RtonW1vG224E2V3MvKiu0FLzzHXvOaV8tJmmTz5Qy9TUbsNa++SA7MGDewl/38Z7Zu/Rp1mKf7hoh3vOOdPqplZ9zN8pr72T2jire0dMqYbpGs2tWWTrM3vOEie/Nb3iQDPMquv/Yau/GGa2zhycfZv372s6Lz1dKXfqvftcP2yCg6gTngDnxsXmiXI8B0446t22z92vVy0nbKk15l9953j0Yj8+01r3qtlZVUSR9MnUC9yu61D37wA/bP//zP9olPfNLe8Ja32qrVa+w73/wfead71Q7OkbH6O5snwztr+jQ5BRfaK179quTlq0PuFiLWCGygR6Hfdu9pkGOxy+6+605brVHQIvHgU5/8lHC8w2ZMm2kPP3CvLXvoPqUt8GnYP153vZVJN9540et9j/2n/uXTtuD449QZT7NPfvKjvt3Zp8qkm15XFxNGNYWqqhrpTa81NmgEr5c4DK7/sjV0bAVFJVYj41kuo97S2KB6y1HpbFO8nDd53CWswwh/DzZB9NfJGZUfbDv27bLWjjbrkrPCFA/avFaj3xUrl7rNsQHpHk6T08Log9G14uQ49PMNC+1J+uPTzmojZSof3SgpLlN5aaQX7RM9Zkbkoosu8u3X73vPe+38s8/VyLrXN1ewHofe0laovUzYAeFPjP5QwHjgHQJ76/fJw0hfo+LNTtRQd7UM+29+8SufCz5s3jzFjbem1n12+9232INLl9ipp5xsJ59yCjTwzz2m6dNn+DCcId/YcSPUIZzp3vQNN9zoZRUUsBDVrqHhOBmAGl90wptilw33DBmZ+igtK/fhJ3mgCU+ZrXEYpo6uTluzdq2XyRd41ANISuC3DrtkOEhLD0sjoAetlGFi2MrQ0DnonIzbNNzEM+FDifvuu8+9oN/+7nfyMm/1Z4b2jGrYsbB+/TrfHoaHRD4CNCTB/CnwHm+AbwzYU/yZz3zGPv3pT3sHdeqpp7rwoy5Rd6bKUASmDuBTr5TADV1OYfiqL84QIj/xvOcZXDwzTB45aqR76xs3bvLRUk1trcubkQI48Wai/ix0vUUN/1//9V99OoihOzgZlqOQfP7B9wXgZ9qqS8aUqcE0xVTreGACnQx/CS/TDP1OL19GMpSFXkJKnwPds0DK1lF2AhWrwaInrDfxIRxGAr9uxoxZdvzxJyB0x83WWnQI4zt12hThLZS3eqy98IUvkte92W67/U7xtNgNQbWMxPSp0/x7jRGSndOnDjLxHy+/0L/ihi/UkR1alAEkfrEQmbY5M0IbPnyYRgAVTgvy37p1uz2+4XE7fsHxdtyCE8SbanX4UyXDBarLcI0+7vAOn7zbxAfKeclLXmIveMG5vmXXp3HYODB5ihyLU+zFckTGjholR+QMW7DgWHvgviUynA+mRjcEMPx8i4LhY9rwc5/9nEY677P/94Uv2G233S6H6A0+bcQiJ1yfobbAVCq70iiXtYtFp5/mHi11IA2jWnR85Kg6jUiqNGorlQOFjiXD5aMy8ZBpIeSHDjE9NG7MWP+G5I1vepM6+mHGNsUJEyfYFjkTrZIx+ozdeVwjNqZ9Xv7yl/s61ry5c3275UzJuFLl0fb1bwgkvQKghyk6aCQOmbHjhm9raObcwytvm1YkWVXaLo1culo7rUx8UKuREQWf+dbOBQsWWHNLi1199dVuk3w2RLrL9NBDDz7sI94pU6a5nYQ2RqroZ1trh/Mi2jCWGXoYGTL1SRtqbGjO6VVatA39jxBtm911dB6NanvoIqM4yqFd8R4n6UDwtEbfEahx0ECA0aPHeEXOl5Jd9IY32je+/k0756xz7b7F99ldd97pOxToJbfs2KThUZ3NnD1bjC1z5UcBqMDYseOEZ6zP3bKV7XB5yRUVwzU0ZXG0z5avWOZGf9GiszTkPsb27m1I82OqA2sHKGNVTY0zhWkbFA5mIDAMfosUiznZGl8wKXSDR7kwAiCtM1Np8WK71LB27laP3dbuXi7TB3wFmxrxExmXOo20rRADz7oDHR4Gii+AH3zwQRnNjT4vzBwo29RYUKZjiN01SbEODNDGNEfUh3lnOhiOTQD3gw895OUyf8oZP2vWrPXGc+GFL/fFMupFQKnIzz31h0bmsgnQCU7mgYnfvHmLKyt77Sl7lIz/eJ+7TnRCM/yDH+k+eeYo2jx19G9/+9t96yqGgXDBBRfYbMnd81AHGVFwIxvook5JH2iQ8APlTvXl6lMibR2+hY2NAsTzB1CfCo04oZPh8p49e72jOvzww9T5HWWPrX/MLrvsMlsr77VexoK8NBJGnutVV2jiE/nVq1bbJslpy+Zt8pKa3di3tXSoUbbLgJdZc2OrzT/8KN/1QcnsQMIAL1+ejrNA/kzFPCo+dnS0e4Pjq246Fd5DH82rYV+ap8ZYMtLBQlLvW2+9zRfJy0oqZESG2+6de/yoD6apSmVwVj26zto1fIfP1A/ejZacMS7wgFEGZdA5410Pr66Vh99ntdWVdsxRR7txg76hgDfKtALTaITXve61dvHF37GvfvWrdpjaIZ0TX4bS8br+iwAMEE4VcmvQyIuFw73yLNGFWskVQM5M3e1RZ83ImM0PRRr20vnhxCQjm+bcqT/fdDDtRceNMaXd+wKpymCOvkwyhj50bV/jPuGXsVVZdCgDavc+fSb+Yhu2bNmmGqFbSUcC4B20owNMc2JvWHOgbuBmkwEfUnV14al36n2zdWsUia7sk+FtbRZtyt8lXWQregGdvkaM0H+MOtZzzjtPnd5m30XGN0t8zX/TzTfbtdddJ0fvMPH2ItWz2u0UdMCjCtGNk4JTAv3wBDpZP2AthilEdgVhP9pULvYIhyoCNgTaoaEdx3bdWp/TZ8rd1/MkEweX84HhaRdyEQQLFCzKMe3BFkT2gNPbI6iRw0f6F6+Pb1hv12ioeeoZp1qVetSWVnl+GuLu27svh6lQytvlDXayvBOMjO/dFnEsfJSVVSuuxbZu22IPPLhYFem0OerNm1rabOOSJb6Fj2F8ixoVQzkUCnDGiWsMWWEE3ihCZrtohYwdxo05WDxZGgIdFopHqCivtFmzZ9ikaVOtSQyFJha49jYV+7TFpPFHeBlZoMEhQD5IIlBWxMc9AC14NT/84Q99pwQNP7xrIITDM/kiL1feccUo/+Jnl9kjucOU6LlRBjqpkTIAeOIVpRV2zjmL7IwzT7OpU6d4XmihvdJg6BBYYGQrHSOTWIhE8SkbWRw1/1g3higTPJ40cZIMEjubWuRNws9UP3CyjaxLQ9G060QdjPIB0EeaqB/Ac7EaCR7yyLo00qGW27bhwavTFS4fmXmWxAPKwsAyHK+tHZ4rV2lUDp0Dxh9aq9SY8N46O9UApAOMrD7///7Nfv7zn9hD8nD/53++ZpXyrF94wen2whdcQAHOOxrIT3/6ExlNdlNUyXjU2KYtj1lPP7u6Gmy4RjA10pGOllbrbO90IzF58jR3LvDO+T6AxVn2W3d0tPj8+z9/9vM2dcZ071zRLww89cChwdDTvNEFGj2093T3e2MG90033KT7FnmNMkS9aVGVjmOMHCP0Fj5PmjTR2xuOjHuUA93WK/3GEWqSzrI9GG+S1iBGiQbKx4sdXNQEkI17tAJGtsiDj+/APWJEuX/9vXHTWnU+W934Ihhkh97eLgeDXTksxre0d1n93kZrlOEfXTVcnmmDVdaOsXpde8VHEePGmc0BGDhlUSj1OXTvDFXH2toq58uYUaNlUCVVHDjRXCr9o4OjQ6+urXGdx55Mk26H43L0MQvskRWP2J5de5SnQDo+xu1Bv+4HITkQ0E6Hgx6Rn+MM2Hnmuqpym5rq7bBjD7MjjjzZR/mlpciwRg5omw2T/pUVS8dkfB2j0qPu6CKbNV7/utfLQDfL+brTbr75DnV05b4IfvhhR9hLL3iRjR8/yUdDfTi70um6ulEapXF6J+tQsqmSYanocMdHf3Sq7Az84/U32Iplq0V7hcsLuUEvAR7Rhi+88ELH16VOtVP2uEiyBp93KGIDJt9V4gDwtEafhg1BMLCyQsMSV5SRvjsF41dY1GMvfulL7M67bhXTdrnHMmJUvw9X2+U5VVVq+C3G9fdJGStLXaC98kiYzmEapbhEDVYN+GUXvNqu+O0vfdfNvr173ONASRqaWtS7dfrpjCywzJk1wy58xStULouR0i/vLVMFkTkCZgfKi17yYntwyf3+gU+VhmNpVMG8Ytp18La3vc0Om3e4K2qbes9RY0fLq6xzpaa3pQOgDQ2FpJhpWE/jpPdN5Rd4h8GVMpw3OSFRNnEM+/FWiA8gPWkIAPlQVIbdfO0rhvs0CTS/4IXn+9Cw3Xdd9Ivnd9mdt91hl19+ud1zz13+URcedhh+UKLgTMHQ6RGH0YFHlEMD9E6yv1CN6WE3RD296lhbk0eEYo+oG6ZGUOl5iuQBsxBGXXx+VvwZpvpAE3UjHpzUkfQsNpJm9Kjx7hnyHgPOGUcouJ9HBCtyPICvXKFx+PARyipPUYatWPgx1lIe5xGdEeWPGjnKZkyfo/KlR8pbJF16+9vfZq+88BV27VU32KXf/YHta9nix2EUFZTLuI1SJz/V3v3ud9jECTLkUhg6jN6BLhRJOlslL6/HvTmMEVMPPopUmbQB1lv+8z+/pLryoR6GRI6QGlvVsJFqfBxOl7wwdDdJk10y1c579Im6DJTHQnTaAnnOWYvs7PNeYCVyQDB0VfLU2QbMjjEMcp/SsHGATgeAPzhKfO1NR4cOYtyJh0fIkw6kSfxh00UWyIdOUO4oeZX1e+p9Htllqw54woTxPq2zauUyWysna+FCjSxKiuzee+61X/ziF/6F6pmLFlnd6HG2USOk3/263/padybdUieOU8imCp4lUisWLQAjLuoM+DSPyud7GXSQ3V1Me6A3A+pgeD+8boRt37XDdtfLqOuvXp01O1p2bN8qOn5u3/7Od6VbLTZx4jh7z7vfa0ccfqRwSZewyKofGz6YIiYvfKEzZgT6whe+0OvOSIJ228WCan+XTZg+0YaPmGR7trAFk3P0MdDD5D2P90MTqRujI18/VB3gIbpI5/De977fLnr9m9XG5SQIH+2NBXe2QaNUGHvqi5nHm2fUQxw7d/r64AlDiCLRWGZ//7732hve+GqNSnZKvlWSb61oKXZakRF0M0WFw0ZHTeOaIIdg89Z1clqbvB0ByNmdMqf2T+FpjT7eFQCz+FwfgcJIvFf33BQ/bESdT8P89jeX+3kt733f++28RS+02268U57DFhdwrRoGRDF8YosmXvc4eTNIic7kpIWn2i033mQrViwXsT129lkycOUVvhWLebM2KXFR4YCU8gifu/ZWKnxucPlTfdWG/Zkv4j704Q/7gi6Lt9BLfBg8AAMDig4UlpGAGmH1sBobpgYbkLZTPRHgAw340ksv9Q9xEAKeHUAjxOAhlDCADCtZg2DoTF5oIXCfBegLYw0whcPo5uMf/Sc7Vx5YopcRV697QKR71ateZSedcKLdf/99vgOFUQ1GPwvUGRqhK4ByorOBd4ziUCLmRuvq2K63yTZvTt8bUC4dv8ta3HzwwYfsVnl9O6WYnV0dNl6GkUYF0GCpu3vU4idb/jAmZSXVEk6aHmCEwpTQoAeGbFRn0cJ76B0/fqK99CUvkwPwG/98//wXv9inkvDk8Lbw2DZseNyOOnK+LZIR6pMao1emTgQa6CBf+cpX2abHt9vKtffIK1xhJ514hh9et3b9SpcThpQpHRrHQGGftXW0Wrnq2iN9qd+9UwZIui5vnnnpZEzStkz3RAvkWWPPGHnIm++BLv2xJRC9ZvHSRyfyPhndMt0BH/Hi6SzgF8b1rjtvk7xmaqR1JMMbHwnQTFEByjd1KmzX27lzl3vebC91PVe6mJ9GX5mmcM9czhUj3GK8asnb1TejwuTF6WLNgjl95sYB6seIfubM6XbiwoVqwzfZdy+5REZtuDqiartchrZJHujrX/s6O/XU09VeSm3c+Al2+c9+YiOH8dX5ODf2EyZPSjJ3fqXyOAkWObseqWJJzwds1+56T9MnT3WKvHjeMw3oR6ZIhhyDQCfWq/x0AtSLrd7pC/AqGz9xim+Dnj59krzbMqFS9+28SVX2q26cFgFboVlbQ4/DDvgHjJLHQDHbfc3tBvJpa29R+SXW1tlurXKweulA4Jvj1chH9SCv3BMrke6xx14sSPhULh00NPDAPSdsQhV2EOcIRCy60gbA5w6QeMrIfXidRjUamRcWsONQWNT5u45SITDqin5Df7faLVPYvdLDBnX+3o6otBPqyQ8IycI8BYCc/KLdezM+q8cjnD17ljeCfhFVVllmx0tZRo8Zb0vue9AW373EqsqH2bzZ8/1IY44JZidJizyQ73znEnmxy+w1r3mdHS8hOo3q4Vm0rasbbdt37LBH1zxqRx41T8IpVGdypC8YL7l/id1772IpOzsKYGaiLycJZ4YH/bmBl2DwPGLRi4Bi0eBgNsKnYg3yMtiONXbsGN8aySq87/s97HBvpEmFBoEywM/0D0N5Ftc++tGPujf97ne/21796lfbBz/4QX/mK0Q+huI8/de//vXeSN14ZunN4QvcYfRDMREwhozPxQFo510YSBacMaLM+3IG0lAAX5QJPu697jmIKQcC277oVMDtc+n6o4NLnhxz+mnR+O///n32r5/+tH3xi1+0D6tzfe973+tz+u94xzvsAx/4gC88s47xL//yz/ZP//RP9v4PvN9ef9FFLoMtmze7d0rDhu/Mk7MtE4APlM8i8QUXvEwGpMrn56mXyPT3Gzdt9I9V+LqRw6gKNZzFw7rp5lt8lFi/t949qW3bdrkXy5wy+ZgvZdEWPvGhGkdM+xqDjPYjK5fb9753iYzrdr3nKNs2De9ZwG6XLoz0ITr8Ewu8AeZEtJ+P8Bj60CemPvkKHP3jNQfS8Q4Zpo/z2DlS4ltcX/CCF9jdd9+hTnux2gDfSQy4wbnvvsW2bMVSHzUwT80aBGWhCwDTPnzhzEIinj33GEXiIa5AVwzBnoaYWg1IekYnj1PCGtCUKel7AF8fUy9x7IIFdrScKqaSaOuMNkpLynxKbsumzU4758RcrXbNlu0xY0YrTm1KfKmTcR4hfjESY4oIvJTISJt2h/5RrgQiI0cblD6qXM56on540uga/KOtoHPYAEYDfGTo50zJYaTDv/WWW+1GOYmPrl6jvKndUC/sAvJGTkC6T50NwL2X5bQRp+dc70g9McrQxVRJQ+NeK6ootQpGWkWSjpI5HgV3CGWUKRtjT/tJnXoa4bMjCNx48cifMllr9GPcZYfSh18cWU57xM6kj74SXaRPdoHi0L0A7glRL0Y16BxTYN6h652iHUd8MDYUntbogxiq1TykVBwoNMzPhhg+YqSGfqUu7AEJc9asmb5zg6/56C0PP2yujME77ayzz7G771ls//CRj8gA/rctW/awDMP77U1vfrPVaQjtHwWJQj49Hj1GSjOszmbPOkxD8iO8EhT/spe9VIagyo448kjfX838nQ9fyJgLiUFKH/dSFmqO4ngdMhAMo5WOHT3S9u5psC0btxmnVe6t3y0vqF1lVCbO0ZIzQF4ETMeA54UyoqAYYzx65tti3SB5lLW+6wBBYdDI64IVnoCsEAEaO54gnsnvr7navnPxd8S35b6IQ6NgWIqB3rD+Mbvyyqs06vieyhlm84/UCEjkisL9+IPeuFJGeBhhtDDufKiDV143YpTvepk3d47o7ZIHhOGBxsRXGiENmPoPV5nUL+pIvbmHH4Tamlo34LU1lT5U5kCqanmgGIUWDUf9OAKf+gM/HRr00VhMI8NqDd3fZeMmTrSf/vRn9oX/9wX76le/YpdcfLEMc7u96z3vsrNfcLYoT4uC48eNtfvkFPzwez+wH/3gh/aNb35V1rHXPvShf7Rzzj1XnmiBnXTKieqkX6qRzBb71re/bRd/92L72te/aldecaWciRoPpQztR420Oo1gRjMn640v8Y0GhU4Qxy26hXYgtXLxxQ2gvL6dLCArTuy0OXNn2hve8EbbvGmH/fAHP/MF3NbWNvGl0i58xctlTIrsuxo1/vRnP7Nf/uqXdsl3v+vTdRxfgWfMGlptLYt/ZapPxX5v078I7++2Hnl35dXDJJNq8VEetWSLveOL374+dGBQz5A0619sP8QD3bB+g7V3ogfgxOgIly8ojpUsq22dRlR8VHfhKy/0DRm333WXfV+8veTSS+y6P1wrO9BubV39Xpa4Y9Mmc0TJNN95c4nqdMUVv3OnYZiMfoVGO0wNytyKn4UaWQ7XKKbN9rU0WTPrS77oK4dDnTQdOt8bTJ82x6d8WNhsbNwnpyGtmTA1NW063yo0iG+X2U9++lONLvel9iOvHL12o5mpOzzjPSHaAYCNwZqXlahNjxKdVWU2dvxUtTU+/Grb/50SsxxgcwMtXrGlG8ca+URbAy9BEf7sbYxeSKGQoGjsUlGpytc9H8OxaYF2AA74Iisg2nL2jep4fAqA66Hq57jlKOzbs0e0l9qkcVM8L+B1UnrX1wPAUx6tTDFpLhHFZ866xk455WSfU+dQLdSd95wMx356vlh81atfJeM/w4dHU6ZMtOPkzXNMAx9YzZkzy09hPObYo93TQyws2lGfKjH7yPmHa/h2ip199gt8iE/F8H4mTpxgp512mr38wgtt+owZ3lO6EJXPe3QIFYBH7HFas4wCss/kBRBQd3eH3XHbnRpNTLa5om/Jkntt1ao1dtRRx/poBiZn8cBwvEU+EGN6B48xArtrWHvgpxcJ7JIhDb8+hefEV590BFl8AdAUdGGUmW7Bs1u1erUvXt2z+B4vk107nOVCOTfecIPePehG+GMf+7gdf/xC1Ql+pmkk5EYdo+4RAriHfygyDX66GhI7pjiQjjNH7luyWMa8Tl7pWe7NwQvwYvgDy1C8eHNAxPXIk8eYc/wA57mwAMeU3SmnnibqwMV8NPXHA+3zzhKaGAGMGTtaxjF1IqPkIIwdM8Y7m0XSJ4b5TFnlWOYGd8b0GeqI08dxk6V7L3zRC2zhwpN82gpHhB/HYaQyW50p2wL5PJ7Oip1op55ymqejwbC+c5Q83lPPOEu8rRKNqZNMQ3IMRuIbQGfIvQ/jFcZJb0886RSng1EGnvH4ceNt3NgJtn7dBh9xzJk72/FUq0OcOXuOOo9iHwUhd3amnXvued4O6LxZVxk/fqza1Fw7/Ij5qlv6mhV58O3IKaefZkcdvUC0Y/RpL/3quIdLd+fKCTgm105pFwl8tKdAJ4lunHbaIhsp3iLTqFNra7vaZ7nvhpqlNoAX6dokedJpQzvGnS+ZT5UspkybKvwcKlbg5zdNUxtlnY5Oi7pDc7XCcQuOF84Fyl/iH4NNmzbZDpdzM2vOXKcBfeGcL9K3t3d5WmzMbbfcbOvXrpGMTvIzqY4+5hg75rhj5RjU+gdj6x9bJ3lPtnHjxjgPXfe8xsgmtd8nC55MlfOdfMUDjvPkk0+30aPGWMO+vXbvvfc5D0+RPJAvTuV+m6B/+53M/SFXHrzUP3Sc/5nG2rx5o4/ixk8cbyeccLzkwFbzHL1KD/9T/ghCsR9vCmEjoIH11eVLH7atm7fZSdI5dIxOKI0cSAPu1BFkQR1/NJsDA56lL7K40j+xQaN8FE4PTRqupMEIATwDPmel9+QBwBXeJunjHgAnz1yjDAL5uQbsZ7wgrgeCbB4gnslDmdSPn+9jHo15UhZQmYdHoTG8YTQDqAs4MPJ8ZwCt4CANNBKAqDtlwA9wM5ymcQc+3hGoCzjJAz54EnxhOEznwXQS6YgDly8MKj37hZlDpgyes3wBd9CThSiXQDmk4T4AWujYGErHJ/3R0VJ/aCAMBd6T172d3DNH9PIMXdSB+XiMMoafKQ8aNcB7IEtHyCj4AvBMPOVwJZA34qkP5cUzQFxA5Ily4h582TJ4jrrwzLts3bL5KJ8y4p54AmlJF7oQMuUdwDviou5Alg+BF4j4bDmEwBVXyiRN0JmVE2nICz1ceRc0cB+0MO3ANerMfZQLXp65B8JLBTcj1NATIJWXaOeevPGOPADP3AdO9It7B8U3NrXYD75/qd3wh+vs3e96h0b9L7PSikrrGyj03Tbf+da3pKfL/LsQpu+Gwn5cTwJBD/UL3Q7gC2l+4pN1siOPPNLrBoAz6hz1OBBQH3gZfGRaHGeQNZAjjjjC47P1D7xPBaQP3iNHvj1hDQ6nmJkHcFAX8IT+DYWnNfoUEIQRQMgzCHkXTI00WcMTcXEFhsYHRBw4g9goG3xc4z5wRZ54PhAEg7KQTc/7qAf4qF8IiXRDGUd81ghl83LNQuAIOBD9AM+kDVzxzDXqGHkpO9t4Ih66I2+kB4gbCryLwPvsfSgMEHighfryjrIDeBdpA7JxCS/4UoNO0U+kj2f/PxcHDcGHoCVbRuQLuodC4OAaOCP/0PsI2TLiOfsuC+AGsmkCsve8DxnGNULUL9JHfOCLMriP+MgXz6Gn3AMHSgcMlReB91nIlhdX4kgX+bM4473u9uP00Y7nH1q/Qd4eSH8CuCddBJ75eUK2N17xu1/bFb/5jU2eNMFe8YpXWGl5pRWXVfr++EdXrbTTNdrh40ScoSgrYOhzFigjaIU2IHhBPuKCxmx8FudT4QdCh7N1B2c8B95s/Z8OSBsB+gnowoHyBv4sPK3RH/o6K/y4kmZogVnBZ9MBPA+NHxqXhaFpA2/AgfIEZNM9GUArkMUTZUYIiPoH3uy7J4PAFZC9PxB9UcaBcGfLzebleWg+3h9I6MQPzQsQF/cBIUeUlOvQ90OfgaH8DBxD8R+ovIAsfcDQdJF3KI4sDyKeNE9V1lPBk9HOfeCNZ2Docxb+EhoCf8DQ54AnKx/g/kBGP5s2nrPxAM/Zeg99PxQO9J64gAPlJS7kBWTvAaYvunukS/299tMf/8C+9tWv+Eh53MTJvtbETrF/++xn5OWe6vGMWKH5z4UsfUPpz+p7VqcArpE3m+dAEHiAKOPJdBR4KnzZNHEfV3ACyDvKAQ6E72mNfh7ykIc8HAwIUxRGjQVijD5btTta0w+a+1RkAWtEMpiFRVbu3yik34Mg319i9J+vkDf6echDHp4TcCCjj3FnEbREA5YinFa948TKnt60Pbas5InTrAdaw8rDEyHfLebh2QXa8VOFPPxtw4Fkmg1/BbCjhV1F7OiRqU+bKNQR+I/PKJ6jHbLTJ9mprDw8OeQ9/Tw8u/B02vXkU5h5+FuAZ1C+Qz19vHeiMPxsf/Xtkfpj9jq+51DUfi8/PecV6ukgb/TzkIc8/G2AmyoZ9bxd/6sgP72Thzzk4W8D8OLzBv+vhrzRz0Me8pCH5xHkjX4e8pCHPDyPIG/085CHPOTheQR5o5+HPOQhD88jyBv9POQhD3l4HkHe6OchD3nIw/MI8kY/D3nIQx6eR5A3+nnIQx7y8DyCvNHPQx7ykIfnEeSNfh7ykIc8PI8gb/TzkIc85OF5BHmjn4c85CEPzyPIG/085CEPeXgeQd7o5yEPecjD8wjyRj8PechDHp5HkDf6echDHvLwPIK80c9DHvKQh+cRPOd+LpHfu4zfuYQ07rO/e/lk5P65v415oPzZ8p6qTOKy98BQfNl8Adk82d/zjLKyMBQfkC0XOFAZwNA0Q3FFvojnmqUlgHvSDk3/ZOU+GQzNx3MW94Ges2kPBPH+QHCgPE+VfihE/iwN2fxP9j5b7l9S3v8VojyuIb8DQZaugKerz5PBgeqVzT80b8QdKF/A070fCtkyng7vk8GfW17gyKZ/MrzEI4eh7+M528YIgfMvqfszCYfc6B+oeH7hHoZkQ0AwDiA+fg0/myYLkZ4QzB+aNosvCxhoAr+yfyD8xAXueB4K8S4g6HiyvDxTJpBVFiCbJq6RJiCLN/s+8gxND0RagPdxHx1w5IkOi+tT4QscQ3ESgj6Aa+SP+Ox7IHvPu6GQjcumDThQnieDyB80ZJ+zEM+8D1k9VTlZef459DxV2UNhKP8j35Plz8b39vb6NRv+LxA4swCu0BfeZ8uNkI0PyNbnQO+H5uM5C9n3UU4Wsu+yaeI54iJt3D8ZRJ6oZzY9zwHBCyCb5unwPxvwnDD6QwPKWFxc7PdDDW7W4ATwfijzeI50kQdcXGE+nQUQ+SL9kwknC9k8WXqy8QG8i/cA7yIE8J7noWmBoc/ZfEMh8kcartDHNe7jfQQgyuDa2dlpZWVlzivkAC8iHZC9B4Y+B64skIb4CJEn4rPvQ+4A15AH8oKe8vJyf/dkQPoshCz/EsjSk+VfhKAvm+5AQHxW14bq8tB8PGfLGwqR/qned3d3e5khtyw/Ih+B9/Eu8HKFx9AZtA7NfyAIJ408pAdP8J1rFv+BIBsf+YCh6XkOeqIOWci+5x1pDlQmcUEXNEcc4cnqCBwIF5DNl02TxUmANnhVWlrq5WbzHUx4DkzvIKjEnAgwBOYUFsKQP1XwIJn4lO6JAo70gS+UA6bzjueenp79+TE03BMiDVdCKHLE8xxpI12UCwQtAdn3Ec8z90FX0BnpsvQCkS+eAeKy5QQQl8VHAB/XUDiAZyCbPiAUEh5ljXCk5T0wNB+AzPr6BhseZQadpA1asnmDp8BQesgPkI93ke5AQJ7s+6HPTwdRZuSJZ65xDz+CptCNeAcMLZ+QxRe8OxBEeuDPodtx53QlIHIFLvBkeRg6xDto6erq8isheBzvCaQn7qnoIR1AfoA8cR/5snizV+KjLEKWP5EmC9m0wND0Ub+gOegIiLzBi3gf+IbSmWxQAqICf0CW/iwtAaQfGCAknCUlJfvLALL3BwueyJGDDjALo5BjXp+GnD398lZ6rEcep/X36d8Tmdzb2+cM7Onp9eeCgqSoeCj9Sp9wSfgD6TmlGTTQNACY7+XlrgD38Y5rNIRIR2OPZ8oiEF+oZ6WwPqcnV47uenpVDwUM4MBAiqdedHDQTNro7LIw9Dnog3ZC0JWUaZB+rtCNpxcdGgpdCH9ydPHnPBDtIpnCbAC8orE/Zxh45j3PxUUycEQ6DhnwXmXqV3m6JEUWv1Rb+E2wAuVFBoV6VuCdOKN45EIDU/nIm45B6YrVAJwMUiFr4eRKXL9o68vVF4Bu6gDfgah3D7Qqn4OiyEdIz8guVy/i+4hP+RKf/5T/lDMUnI+5kH0PvwkhC95z9bJy9EI/8UCUFWl6erpFK/VJvEw8gmzSJXkDLrtMCABd/4DKVJ260C3xAY57zfQfupnqL1okj/5+lZUrI5Vj7gSg29AYdcnWMcqLsrPveSZf6GSkyd5HnQMSb1IbCL6gE4gF/RhA/q5blEM8OjOg+nX51fmGDije5S1aKCdoCnqibOrElYDu8Mw7IOVL5YkyPZMuV66eE3m8S3rs/PN0ueL1X+BLuPpzdijpA++6ejtkB7rE4wK1J2Hq7fY2lopMdBxsOMSePg1bw9GCYjFKDJTBX7t2ne2t321lZfIwYXJRqZWWlTtTITWmH9rb262yslL3eic8+xr26b5UPSm4knDb2zts+PA66+jo8LStra0ezz0eDsaR6QKem5qavAyUhoZAj0wZodDE8Q4a9uzZ43kqKipM5lcK2e0GsaSsQoas1Dr13NHR6cIfPqzaFbmiotL27dvneCgTOhK+dKVOKEwYNRoi99DR0NDgeUhDPPUgDzhC0bivqanxOkAXxp86lih9aWmZnruUr011SfWDnt4+lafOijqh7JVVVVYufnZ2dgifGpPSDtDZyeAXqh10qU5tbW1WXVNpNbXKP9BjrW3tTlc0NOgpKZYxF05vqKp7ZWWF44OehoYmGzlylFVX13iepsYmK1JroD7kJw04qkQLdSp32tOUBemJgyeRjuZIPHwhPzIlLfXo65MhVB37ZOzLy6vc6POeBlxWJo9LhlCvHX8YPgB+Jp4MWG1trb/bvn27v4PH1dXVLo+WlhYvk3Rc4Q3XUaNGOZ3oD1fyA+ANWolHl0tKCr0+CQedCgZHLUPPWDUchsHn1NGAB54XCle/3ner82hrb9HbXqutqcUWKiFecLENG15r7R3t1qNOAb0oVRvhvrOr0w1PQUHRfn3hGnoFbVF/4pqbm13vkAs84D3P1CWm3MBB/UgPn4HCQkaKySBj7KEd/Oig0yIjiLGnPQ1IR+BhkfiAzhQJdxvtSPm9fUhXQ1fgbXkujrKGDx/uVwK0URfyUAfSIhfohD7eE8rLy5wudIl4aAodgk46I/QkeFIoXqX6oWtJF7FhxAHkJW0AujmgThZD39PVbSV6VyYbUSibpsaFeJUnl/ggwiE3+rDGG29/kW3fusM+8YlPWOO+epszd5a1NDeqp1RjKBycbiAg0GhIe3bvc2GWlhbL4BarIaKcza5ExCO8MOhhnBAySgweAgoQz3V1dV4WClxfX+9KDi4CAuVdCBm6i6WEfi0qsXLlN3leDY2NKq/QamTYRtQNs127dnpeykGxyO/KrWtxcaGXQdm7du2yRuXlHsOCsafDgvaxY8d6XWho0UDJD43gGjlypOMhLXm4p8H2qcFQdktLq+rYpAZbK9xVTgedIgZ+zJgxwkUn0+O8Ki+n/KrEFzUY2RI5iAVWJX5u3bpVvCi36mHq9KrKrKKy2mkiH+VQLjyiQaTOtnx/B9ooA09nU1VV4waT0RpKH40OPgaABxqLJXtkTXoAPpA25VenjXHQM2WSnzjqDX9aWpqsXbSVlIjOimq1sSLveHv7uvRcJoNYbZ0dvc5DcIwYMcLrHM/IAHxBG3WirjxTJ/SLNNBCPM/RISGHYcOG7c8X+otxol6UQxx6hVzJw7PXWfWljDZ1qHQC4IS3bojQtdx7OtVCdRqk6exqkwEUDpVVIseDjq5ExqW4mDaQjDh6A0AXONE3DDi8hkbqAX7qBJ2Ugw4C0EX7IR14oAcaom68C36EnkIHgfeki0DZ4MZZwoh3SA/LZIB7Ga0wMs7xDPyFpYWuW9APr6AVPvK+VTo9Z/Zspxm9pBxoQEfgJ84Z9aAThl7aFnRRf+LQv507d1mF9L2mtsZxUg54wVMqg98/gAPXYW2t7aK7TPUsF+2lXsdudZx9cjChC31Db+BN8LBYNqm1s83aZZP6FP+ed73bzjn7HNkzOpfcUOv5Z/TxYJK3Kp/Atm7ZZu9593tt4oTxdsopJ9qY0aPVIZZYvRoqCoBBRigBeG7l5ZUuFAxWNBg8B4TSJCM3fHiNGwEUByXgnsaNkHhGEVAClB88BIQfBozn9evX24wZM1ypiEPByad+3D174jBqPd2yjvJmSqUUKDvGuE/eMNMYKDq4UFhwQyuKhWECL+WDl84Hw4QiQSfvYoSAMpOGxopSRz0wMLt3797fGUDP3r175eF12OixY+RNybsVntTwkwcWRh1aCPCrUAaWusNL4vC0elWfchmOFnnoi++6W41kp5162sk2dfpk9W8MrYv384kyqBMySMapSOV1Om4amF57o2nY1+Q8wUsrryh1uslLIK83aDVO6lJTVe3v4QuyAxfgBkE0tvuoJBkIeAPfKBueFGukgjvb3EyH12Z1I0YJZ7l1qCF2dqoRy6CUlVY5L4Nmr7dwARg85Aaf0R9kgGEkDvrQR+QJTZQbeHgmQA/vAeghL7jBx3t4VlrCCK7cdYnnvfV7NZKqtrFjxroXvHPndk9LHnQEHiFbcFfzLBk0Nuy1NY+usi1bNtn0adNs0qTJrpfFRWXCr85Txqp+b32a6hMdFeoo29WhFMnhKClJDgi4o76kAT/6EW2BegEYUXQ/6VK36yQ0QSNxyAhekIZABz9a7Zg08Ix0obOMhlvVbioroLFEhrXVcdCGeF9ZVWk9bnTbndfkg1Z0EJpGDFf7kMzgK/mgDf0LWuA9MsMAA9ADkAb8I0aMtH17G10mjELSTAEj60avb7E6VGYcqGdrS5vqUOBlVFZWuT60traIxjKPg0+0S/hBOdgURso79uywLtVxpzqlc2Xw3/Wud1mpbBbOoa/HPB+NPg0NEmDsXvWUn/6XT9vsWbPszDPPtOOPP0GM03BMjQlAEKSFwQi0rFSeFQa2FM8Pw588EAQH9Gp4j9HB+ITgUQbyo5wA5WKwAZSVMmi8KBLGDEWDRhpEGFoUibhWKWBBcYkrbUeHDDyeK0aylBFFwtMp74thLEoWuFFKaETZ6PSgAQBv4KZ+xEMTgXsUDUDJAJQLHNBIAMIzQ+nw8vvEr917mC4rs5F1I907xLjwDB3kh2dhvOANtEEDzxqLutHvlKdz8be+7R3Q617/Gjv2uKOtqKTAmsV36kU+cNIQmWqDpyNH1uld8rA6O5mOkQevkQEdYnif1TUaVciwM91A/aCH+lFfOoVO0QrvorMlDfRTXwwVRj8aOO8J0A+fe/CEk91X2erc1EHBX5kopSt2o1q/J/Fr/Pjx/g6508GgLxgaDBX4oQs60BvKJ5701B0+oZehx8STNnQVXOQnH+/hLWmoQ3cXnVKz4yAdeUgHMFVZWVWuPElnyIfBCtm0tUu31QbQ+yWL77Ibrv+DnXXWInvxi1+iEVCV6iLDXljyBN40NjZ42XQ0TF90dKSRI54v9JAWeqAhaAzaKRMc0EA6eAxE3YkjHfwnL+kZcZAfPkXbJI2nU5rKqlrJqdv51CmdAU+VRoPgYn2HEWW5OmrKIg3xyCBk3KHOK4s70lF+6DUdBQAdtCUvy+2ARloaAZIuOgTqCx7SeielUSFTkYxQcTKJA6qks6Wl4m1vh5dJenhDu2PUAU0jpP9tKufmG663B++/z048YaG96pWv1Ai5RhiSp0/ZBxsOvdEXI0WFhN1vO3dss0996lN2+GFH2ite/gqbOWO2FZWlua/0H+lQMueXBNqnWLyQxDjifS5a72gYDL2YkwulpCEOBRSAdzCfMDRtxKEkKNITcRTIqPI+TUsUa4TB234pOwqPIhSp4QrbfrwB4Em40vRWlA89XHlH+mjgxKGMNFAUKnAE3kF8KR7oFS4MP/niOeGmXmnKAtoZahLnPBP/SAOv8X6YtSyVsdy2eZv98Hvf907l/R94n82cPR3K5a3I4Pf67KWX2ydjzlC9SDh8MbaPjlgdi8ro6mKBOXmNlIH3T1GFRYOLYACNhzqRB0+ORhX1oy5ceQ+vlMjzcE9+cBOcFibsGUlKxwo1pO7ppmMqlYdLXdVBq+z+voSL9ImmzCK4AnjjGTq4RvlOo56RScRDX+CLKyHoC0808g70q+66532Z9AueQwP8xFkpEm8A0rs+KVCe45TudXXLEDW12h233mQ3//F6GfwX2VnnnmuVNVU4zHKKkv5SBlOgA4psV2cB/ip5/F1yisAF3qgLz1k9CwMOXaShDlyhOelQ0uuoJ0Ce9C61y8Qf6aD0AwA3NHWrDafNEOIDvNYfXj9rT9DY068OIbfO4fWXLhFPmdQF7hAfPI0ALaEL0J10O+k/MuIez71UDkjiedI90jNTQGCE3N/PSI1n+JP4gb6DBzpUI8dNfcFJuQQvT22LzRz3Lb7HfvKj79mrLrzQXnrBS61E+o2njwL6NM9BhoNf4p9AYpIzSkxqb2+zcjXMupGjnCkwWPxzwfTmdsN4LqXHMCEcgJ0e5KdBFxYx7YLixdbP1ICjQe8vT3mIzxrz8BQA3kV+DBHpA0hP2Sw+9dP56BW0Oh3sZmG1Xo2MxbakRIkGFDQpVmJ9PIMPZSWeaygpQNmkwzviynuUnPc8kwccAHHxrljvWFTtVb0xxqVijvxVX5iFqWwSKZEiF1EXNYDiAnkrSl+Qe8c9ZbFbAk+IxoLR37N79378LG753K1GXEXChSclMeg9jZL6QZeMATglTxo9nXVvb+pUAEnDGzN1oAzox+iw0AxQf0LIibKj7sjUaVHe4AE0AxhN8EEfaQkMqcFNvqQ/SSbkIZA+ngMvZZKH+KCRKzSRH++Qe648RwiZciUPaRJdgx0Tulomx6ayUiOUUhmkUqY1yuRJsj6QRhdRLjihAz6AD6OH4WREq5IUzGo1WihWOnaG0GGwWI1ylmhUxrRdT2+XPOcS0Spjpw4x8Sc5BeAPHkd9kGfEcx91BKCL+KAneBJ84TnekRZdYC0l3hNXpbqWl4sG1Z06V1bRKdM+oSfxik6GQHoMbfATHNzTVngHXtJBJ9eh76CFPBEYSTHaY9dURSULy9IX8d83AEh5WWSnoyTe1wxp0wrl5dSL/MkugDdsSYDXV6Os+r1qL3vqfZ2gQaMs6HZLQwM7RDBI5SGDXMOXgGIBh7k8dl/QCRYyL5sDen8CkBqoGjmjBFcEGnC64p8SkAHpwwgioGjcAGUCPLtC6RpKjAARJEpH3ugwIn3E9bH4JENGQ8MbIA3ePUZf/r7SyHjpPXlCCckbz+Bgnp24wA3wLhSbjoh00E86LwOlytHMFbxxHwEYUNklooudAyzySZvFMvFAhleW2Dst0nD1eF3VlNQJKK/u2bYJSdHg4QcjBi+PPycXvlA3piaYisAgJ8+OeOhivYNn5tRTo6N+jILES3lyXKMeXKkr9QxwXud4xHvesRDIFZrAidzIx/1+PlIXPe9PJ5SpoaIL9H2pIw9e84y+BC+D1+SJcgKgCUj4U5nc+3Ouo/dGLhz76dE9Ib2TIXHDji4gP9UP76EA/YCGNHIhbeQNAwMwrTmgtP0DXRKWvPCCbquuUudSLmNZqijhSltCE95iGX7mqSmLoNo77qCNegPUF7rht8uZeql+dMxeN9EBEB+0cB/54314sdl2m5KjN/CKfNCvlqIRIYHReaIXWUPnIG7oCV5EWUDEQUuW5uBzALwMeVBH6OA1ZKa1RcoQ3318iwzQS3DhzLHulN5BIzumQh8B8AVvKBvgf9oN00O1tcN8ujJoS29TuoMNgxw5BOBGwxUTgaEoMlbyzmBue2eze6gI/YkheQEEMHBNAosgrXJ+wnw8TowkabmH4WlaKKYxwBfefVZgKFU8c0VhgOwzDdA9l3K2YOF1JSPf3cVeXNUGL1rpmH5y5fKOCeOYaHXDh4ec84YBGkfSU6VRQ1am/YraK9wl4g/30B6jmz6UU7iTIoNJCFQ+0xpgxRgnZaOBKEb5MUq6OB0A8dQc3NBMAI1shIBhdr81NjdZlTyiEbUVqpvqoSGq48N46II3hMfKAqo3CMoTvmLxge11DNuJhB/YAOeJnn3IDn2i2bfC0cBp1CgGXZDi2DFRVMT0FjyGd/Iay+Vhy3iXiH9QgYHnjzLT9wnwg/wERn/UO8kQ+vDE4C18o94A92HgSeMNP9fY07cfKSQvWmUqfY9GLXCa0NvPfnLJX3o9oAoGT2NXineuFKS4Puqnf4k+GC2K0RmC6lRcnEYGQNZ4ce91EI98akShorpcMuqx3Xv3gEY44DH44B18T/jRDUY7qbyEB90AJ3WOAB8I/p0MOk9urqLZHQXlIT5NbRKoqUcJH/HcKx03OYDFBNKme9qD5CJelpVqpOAdEm9zeu38gWamqTSKUCdJnXCwfBQr2YWDBq3QHW2FcqPskK3zTDIlRB7SBz9JxzuuKY/0W3xCHuzOIx3840o+dzoFpPV3ugbfIo51GgLPdACJX1QSO5foOtgwqEmHCNSHpxtnUrHVDGNxjqHQXr2T4RBfMCwEGKd/++9z2fw+MT2n2DISaf4tGaXE6AQY+6Qgg9vNGAqGkgziTQpAHLhDkINl5e5lSEo0/CuUZ89w3OdhSQ8NrjQp3WBe8EdjQSmlxMKdRglp+sM7LhqSymb4HsrJwpFQ+Hvo4p3uYJHTGvSSBrxK4MadjpTdMmxpjS84084BpYGuuPf4dAWgXYXJCJaq7RVYg4y+yePpZzoBGYjH1MPNnRpwMnsYTr3TvRe1v/Gn4PFKS/24Z8oaA+IfiEGv/hhdkM+l6XTleK67NLcqXvlTMm7UmfS68YChI54URCV+RhWhFVnxZbIoUIIIIaO4x4ik8gGMEzKC18kjdK+Qzlb8ZY6WslJngNFKcuxRGp92hM4w+AIvCxqlJ6mmf3o/WHbwgfoM0ps6BjoteeWqokyZ3Fk9q4PkuxE6tcApDiqAU/wroF6Dxgndyup3lOUdNh2A81sAjwVxn2iA1mTsMMBcB9sH7Yb7xPvUbh1FuucGpgmZt4ecrNBrRvg+ysexEB6+dWEkoO4z4aJDV/rkyOUIywFlQwOBd/vro+eo6yAgb/KQPukWgXiuA26cGQGSjrqkMFjHVPe4zz4z/dbS3OqjX0Z0tF9fh9A7apDCwYdDU+oQgAcIh2kDdn24ly2lcMYm1fizIQQaioARRTGSsJkCYO4xpYH5oRhcAyg/vIaAEGY2HfkiAKQhTyhWxGeBONIR/F7odJuLS1cAJ0dPbiww5kwlgA5FhDboSJ2FOgq9d4OpvG5c3Mjh2SYFDiU8EKRy07uhaaAvDGZ3bnoJ3DRCAGP250DwgWvgjPseySf4zUiGziA6MIxi1lCAhXt/zsW5kcjgA+KeAG6uT1b/AwFp4SvXlBfDM2gIkjGQfZXRFbd9RMUIBGMV3luBrmE0AerDbpUsbQcKTwZD00AbbaRMo6vaWrZyph0lyAhZ8Y64qLenz4UsDiB4CGTLoT6kIJ3zGAnkcKBTdDrh1esF/+k+6V7gfmrAMBJ0Kxzgge8EL38/TSk+2vYgDOrGk0G0nZgeBC/X2PEFZOsP3RGAoCN48pcA6bFnXXwIp/uq6iofQTsa/fdnsehZgOeE0QdgBIt/7B9GcfmyMDuf/+dCCInGzhWPzrenueA44qFTgmj1KR2AeDcwkgCK5Z5NzmDzjrhIE0LPKjTvsgEYqjTZAGTfh7eu3H6l7bD4y6L1voZG8YOvPunMiuU1YiQpR7iYHlI8U0nutcnrRpHZ3uodiYbNbFkk79DyA7J0xHUoEA+Nyuz7rX1KSYHkT5ZnKGTLGQqMFmgIvGenCUYUOvEaGV3ECCECnYBEovR/yktgaD15hwwjTaQ/UACoW+AgwGvl8pAMOgYvGTt0Ag1lyoH5dd75jinJyUcuCmk9J+eM6AZa6DSivKeDA6WL+olqp5cRB/pOYLG/S3rAu2w9soF0WX2OOmfB4zK80J2c7qQLXTKW6Fq3dA2epDCYTxTqGUdkcN79wEDdMPCExFuA8jDItFGf5qF+GXqHwoHoHwRG7KnNZDuoJNcEyAa5BCQZ/eW2Zyhgv9heCq/Zw79x40bfux/w52nAMw9/fc3+SgilRmhMj7AfG08ZxcTDygqT+6HCzQo8iysFdSS9BbZvb7Nt2PC4bd++1fbU77R9++ol1OQFJCU133++adMme/TRR32fsiuc3sX7uII38nFPmRHifVwjDhiaZlCpGOGkRc70ZNbW3mF79zX4Am9Twz4NEfkiscs69bxrT73t2LnDtm/bprDVduzYretO27Zth+9Hhi52aYhiK2ZaRmVlA7QDQ2kLiHoGMLRn509N7rsGcLPXn4YUdQJvlj+EgGydI33U3Xf06L65ucXqd++yPbt3WkdbK01SfEhz3onXfMvAAnGs8SSc2XuA+yg75BNl8RxxXMEbvCAuQsSjfzyjg8Kcuw6OHJuamn2nWUvzPhkoPkDrs927610Oe/c2WKvq1NXe6TudNm7amPuYpzXt/WYXjYxalqZsPbLAu7gOpRuAFj5yAh/0pF1G6duBhHJQ74BsWeDhmfaGsxNlBfBESuTE9x5KbS1ymFpaW3xvPWXy0VJ7e/rCnW8c8GrTOpH0QZlTZz3I3wiAX33qBNmlThM+Qx+de9punfSKziy+0aBctlhm+ZfFGfEA+OBHjNB45oozyBQw6SkveJLKjraZOoDoFCJNQJQbISB7z8zC9OnTbO7cuT6n3yu+OQiVO1OHAA7pPn2xShWXgRpgpwBHKmy3L3zxczZvziy78OWvsnFjJluJBC9uO8MHBZmYP5TZxEc6FFrik3IW2Jatm+z7P7jYVq1e7u9f+9rXCv8rjU/zUaotW7bYlVdeab/97W+90bz97W+3RYsW2bRp09zjpAEh+GhwNBBC3IPTy9N1KDvdwxMQH8pInNdF1WAYjtFna2UY0ra2Drv88l/Yr375K6spL7bXv+GN9uKXvdLWrHvMfvDDH9qWjRuspWGPdwj1zR02aeIUO/zweTZieK2ddurJdvbZi3yXDNM/VsgU1ROVNQCaUOYsHyk/wBucHtu7xKOt2+17F3/HGndssvd/4O/tqONPMCsud89cCT191D/kFA0lnoHAD7+Y2unSyOXO22+z3//ul7Zvz2579WteY698zeuss0fePtvu+mUclZbGDq9raqp1TVtJkUuaahmkP+oDfvhMedwTxz1x3JOOeK4YEXAD0Bo4AAwD8/Th2UP+8uUr7JprrrH6PTvt2KPm2ktf9lqZuAp7aNlSe+CBe2z71g3W1z1g3Z3qOMR+PvIaUZ2+VD322GPt2OMWWBlbH4uL9m+LDT3JAvFZ3gHZemhAoVCgDnOP3XbzjXb9dVfbG97wBjv99DPkZZb5R4FsfwwIfFG/eA4dDtzxTv/5VB7rEup6rUf68Ijqft89i23Hlm0+upT4XA7DhtWqvGKbNWuGnXjSCTZmzGjXabUA0DheAhBX4oVafGWhnHoWyLnh46cBq6wSf9QRdIuPDz/8gN1yy03GQu/kyVPszDPOslGjxnrbVFX2yzHoDl7SEYtTXkdGCv6Ftsr29R61O0YryJb0wQfyg2sorf8X4Gv2huY2u/O2W+1nP7nUXvLC8+21r3udHKjhKgca0M9c4oMIg13aIQJXLgE9O/ccBrVjxw4f1kmEiktpIl32HkAoWSHFewKC1D8JucSHVmvXrrWdO7e5QYx5NgSPhwLQKHnmM+8wGnFNuAane4AwFLHvGzw0APKAmyvvMFh+JEMunjgCHhFfU/KBjCh2hcSrapE3uKd+nzXKs7n//iXeKeEdMg3CO0YtO3akz/OpG8dJ3H77HXbHHXfYV776Vfvyl/9LHegu0TS4rQz+UHZcqQNXgDSEqBfXeE575dPcJHXgfCGm3xIgnIQ7iz8bAmdA8ADesaMHb2f9+sf8K8Z1ks+qlY+4F8ni+u2332nvf//77e///n3261//SqOxvV7n8PqpH4BMQkbIL9aFeCZk11mgKWSUpSXik8ec8qtmjp+pB97TwVAdRiYrVjxiV111pV3+i8uskwPNxKcHH3jIrvvD9XbttX+w66+9zm764w32xz/+0a65+hrvrH+ocNlll9l99y2RnJOhAi8QtAwN0M+VdNAfdfC6yUlAgmnqIjkMaZScPu7yqUO9I39AFneEbBlDg17oKjrVQenONmu0fNPNN9uPf/xju/SSS+2nP/2Z/fznv7BLL/2effe7F7uzcvPNN7nOMiJUdq8n+OEpV+oKnxlBcqouU5mPrl5rl1xyiX3729+xG2+8USOmrX5QHAaaM22uuOIK+853Lra77rpT9CbZYdSpX5JVqhs0B34AR4oRsy8GS45p4FBgXZ1pjYy6M6onLwCtWXAe5IA0was/BzyZAl+Yc6wGbQf5HWo45EYfgK/wmpXtHdt3uEFEIWCQ1NLTwOhsyELEeUPICAWlZ80W3JMmTXJvhPl8DAPCjDyUg5Jg1Bh+sx+duTieKR+lIA8KwRATo5A1LgTwYNy3bdtmHCxGBxDKF++IZxqJD5x4z7C8q6dLxlzGhDroD6OPV8LwlQOepkyebMOHDRMN6lRa2zwPRpf59Ysuer19VUb+k5/4hJ1zzjn+CTi8e+ihh+zmW27xMig7IOobisw9gXqFAeI5DBDPNJY0NC505WWbGnWnXhiD4DUQebIBIC885opR4uplK31XdxpFcb4KJ2JOnDDBt3bu3LXbVq9Zow5uvXd8Dz38oO3avdPa2tvEH7aypnlfPhqLYT91hzYAQx71Qz7Ecw9AJ3nxFKlr5IOObCC9auF6iRrimLAZgOkCRht1I+ps7OhRTndvF8ck85l+m+c5T/L4xCc+bh/+8EfstNNPsylTpnhZnON06623Ss/VaYsG4oJPTwbxPuRH2M93vyb9pz7oLPKCh9Ad+hkyhfcp26ABi2uUE7Lzuise8A5EFhO+VMg5qpWuzTtsnv3d3/2dd8qnnHKKH2WBw0T9Hn9co1HpX5f4Em0AAB/P8NzL0z/aOvluUCf5ox/92HUXOllT2OvnUFW5fr/xjW+wV77yldLz4TkZpW9YwmiHLGk73IMXPGyrRm8Zuca0Le/REXamAeSLunIlQF/cO74cDwl/Dnj19F/UlXZcKYdTBKS6/5l4nmko+pwgd3/QIamYlKE/9X6NDU12/R+vt6OPmWfHH3+aC5tEwfxQnCcD0kWI546uXtu8bbs9suoRGeTN1tPRascdc4zNP/JYeZOVGgaXWFtLh61ft8EefXS1dfe02UwNUYfXjVbPXGt33X2bff1r/2N//MN1dvutN9vDDz7gC44jR6mxi7h9+1qUb417N9defa3df++DtmHtetu1Y6vw7lPjqLHm1k578OEVdustt9uKh5fa8mUP2Z133G73P/SgVasB1Y0Y6XvZ09a4InkhMtwPPmQrli23Qo0EDj9svh23YKEaQLPKudl2bt9mE8aPsr9/z7vslJPPsDEylNPmzLSW9g7b9Pgma21qVoORAZ04QcPs8fsNbShr8DOeeRfvs3xmQbmHhiQe7lJnvPGxdVa/d6cdddSRNnrsBA232a+fGgkQfKdx7MeRwx3vSMt74jgWuLW521atWGEb1z1ujfLkDzvsCKuoqrWHly63P8hr3r5Vo5w+RkadfnppczPHEVcKU5FtkTd47+L77YEHHlRYYqtWrfROF8+Og+DaO7pt2SNrxfdbbeXyh8Wbx2zFI6vs9jvutnvuvtvWr1mrTqPFGvY22n2Ll7jRufWWm31EMXJ0nfSv3GWSDJ5oVxVYb1m/foMtf3i5RiebbeSwCjvuhJMkg8m2edMmW/rgEutoaZIxfJu9VQZxytSpNn7cRHXS49QxddvevfuEqMdmzZxqU6dMEB9y+7/Fn+DRU93H1eWle3YONe5rsE3qHLdu3mhz58yx2bNnW6mPotLCd+CIfEMh4rkGuExZLEe+iu/t43uWPnv8sc320P0PWaPqMW/uHD9AbNHZZ/vBfhsff9z2aCQtz8Xmzz9WdZ5s27bvtuWPLLcHHr7Pr2vWrbVHHlnp61E4DfBk1drVdtvdd3i89Q5YmTrVrq52OQTt0sFSH9FMnDBJfBzn00cV5RwW2C98q4T/cSso7LPG5kZ7ZOVqW7PmMdsgOlrU9jjMr3BAuNSeNmzY4B3uBnVGj6uNPLJypdI+qs53k4+K2VY5rHaYb7WGr7Ai2IEuR9sAsnziPuIDeCZeZIuuZtu88XHZl9U2Z/ZMmyOe8W2HM5YR1CCqgwaH1OgDrPLzoQK7TXZs32O33narzZ47RYbueKuqrnTmDVXGYHJWCISsQnse/WMFXf2z3XbnnbZl02M2Zvgwe/F556uMIxWvYb3SoszLlz5iS5c+aDU1FTZh0gQbNmKsDMYa+81vf247d2y3tTIoq5Yvl+HYKKNfasefeJIVyRO/4477NLz9md1ww/W2dvU6e1R5HrjvPnt01TIN+xtt+ozZ1tk9YDfeerddrWH+Y2tW27IH7rOHly+zLVt32KTxk2zW9Jm+Wwmrwvw1O5gefvhhV1KT8s8/4iibd/h829fQbPfcc49t3/K403nO2YtsVN14K5JxGj1xorXLi9m6eYvt2rJNyt6vPIfZqNFjfCsfELwLXnFFoYNvwU/Aear4PilmX3efNcnj2vDYGuvobLYFxy9Qg56gBpK+G0hhUE7gzD5n4ykj3osS1bVHRl+NVwarWZ3V7NlzrLS8wu66514ZgVW2t36Pf7PR3tFmmzZtsYqy4eLpXNujIT/TDFf89gq7/vrrbckSGRUZ9vXr12oE1mXjxo5X3cfbA8tW2yXf+aatW62ORQ3+Nhn8G2++1e67d4lt27RZndheNzZXXnmV/eG6P9i99y720yo5GmCsDBmnRPr3DWqndGOMxDZu3CR9WWa7d+ywqZPH2nELT7I6lXXdddfalsfWWkVpsZ108kk2c85sdeo1NnLkGMlruDU1t9pmdRQ7tm+WJ95vh8kA1Ayr85FDyGUoBB+zPAScf+iLRNba0izebLStopsOmdEhnnB8l5HFEXhCF0gXcUPfpQVZjUSUZkAMYBrm8Q2b5bgstzbJatrkKXbaGafaiFGjrUkj5LWrV1nDrh02Tjo3f/7xVlxaa8tWrLbfXfUr+8NN19hNt92s9nKXrVVnu2b1I9be2qwyCu2eB+6xu+69y3ZrdNfW0GKNku3qR5fbRul5YVG5Ov6d9oPv/8idpboRw2zmzDky0v32H1/6sn3jm/9lj29+zBbft9h+/Zur7Fe/vMJuv+120dpuE8ePtYHeIo0ad9q9ev/7a660y37xc/vlr0TP9X9Ue3/Y7rjtBjkLq2y89GXSpCk+xZu2i8MPZPKn0zFZPmYBnmWBNEirpalBbWetHLUx3mkV+Xn6tLkD43m2YdBKHiIY5FM6aGmijBfDLqZZwkgMDZ5azHoyryUYmdKkdAzrOBOb+ViGwSrZpxY6FJo5t1x/fDnHfKgKsbGjRsoobHJvgDnzSRqeL1p0lk2fPsvq9zXapi07bdPGbfZ7GYvbb7/Nyzv+hOPtpS+7wGbK02Iq5p7F99qDDz3sw2vq1NzUKIPxuC/snXnmIjv//Be6V0bDIw0GhaEg+6ypJd8TDKiK9Q311i2Pv3ZYlY0aNdxGjxnlOxs4IRG68ZxR0LoRw232zFn+rkUN6rHHHnPvmOF0DE3DaMATNwyiK3gWgfj9nYI6D4bFXJuEq6KiSp1eOmNFrx03QNq4kj+MCWVSdpRPCLkxPO8vYIGw29q7O2RYev2M/uEjh/u5RXWj6nxvO0dsT5ww0U4++WQ76aQTXTeYQrjmmt+rQW+3w4+Yp/gTbNLkiX6i6NKlD9i6dWv89xh6OjqtmfOCdu2yhoZ9NnHSJDt+4UKVMcI2bNlot951sy156F519ONtzmGzbfz4cb6LaLFGAts2b3KnQFS7TDiDqKMznYCJcWDqCw9xBEcsq36MqKCbKYOyijKftivVcH543XA77MjD7IyzFtl4jcraO9tt/WMb3OvlTJah/EFGoftc433ERVpYzkJtoeRRqNFnseTOESA84+gkST85hMwChpa9P6hn4bC6TnnM/CYDXyiTtU86uVIe8+LFi+2uu+7ydRn0l9NPmQqkLTU18XsPLa6bh82bZ0ccfjgl2eNqB9dff509rBFaocqora7JfZUr3taUqSMZbnMPO8zbCtuQqTM7hNasWeNz/c0tLZhMq1GbXb16tTruR6yqssrGaTRA2jtk+H9/1VXWpLI3bNxod9x9lz28bKmPgA474jAfgXGUAttOWT+iHTAFxOiWumV5EW2Fa7SLeM81IPgV4LvPevt8uil9P5NOAwjIJD2ocMiNfgDM4tdyYD5z5UmxB98FYBzdQOo94UCAUCKEUeLsC9L3iun8cEK9jAMHspkaS4sUQ01KHg0r+lKoxgbfWlVRVu7KCF382tMkKcpJJ59qC4470Voa2+z++x82tn9ivEZIqceOG2vjxo+XYhTJSPeqU+mR10hD6JXB6BIN1TIqY+2oo4+y819wvr3kJRfY1GnTfIGnWArPqCR9OVviOy/KZVjKZTzGjh+txj1gHfL6OYKY4w5K1Nh9HzTtVvVkXhuGdXd1+GiBnS/VNenHMZjvBoYaY5SW+1BugOdB5Qa9vEGMiMaqnM7I2gL70FWYyyfwZUM0DAC8ISvKDNzc05kUlRZYWWWJdckzKy4vts6eTps9Z6a95/3v1WjqeP9xGH7g4rjjFtiHPvQhO/744924PKTOlIXCCRPH2dx5M+2EhcfZBBnUqqpK27V7h4bxa2zXrm0+zVWtkYMIUYc93S542cvsoje9SaOVE6xEPOrsbrfJ0yba2975FnvjW95k84+Z73S3y7iVyWizWBz6x24o9JPjnpk7L5GM0rrAgO3audMNCucBbd+xzY0ji+BwFc/RjXGJhvyF/d4RtAkHaEskd3gFHwHuE28GPX+ucQ/AP6BXMulS2VXSq9LyMnUmndYor5/jvP0jIE/1RMjizpYFRFy2rP26oSj0nJ02GF2mXlhn+epXvmpf/OIX7Xe/+52vV6HPJ5xwgv/+xISJE2zevNl2jHh61Pwj7cKXv9xe+pKX+tw2ekWnMW7MCHvdq19rLzr/JeoYRlifHICxE0fbJz/9KfuHf/yonX3OeT6HD1TIqKMLrnN8yi2HgZNJR6htn7lokb1J8jvvBee5k8AUHesrPRqt7Nizy/bsrbcR0qUXvfhF9kHp0aJzzvbt4WxFPvKII+wwdTBe7xw/3FZk9DaA+9Dp/bzJQfAy+Eob4T1reexU4wwetooyhYs3l+XzwYTnhtH3usMgAj8tWO7nqvgrMSYMBcLGw6Sh4VXFXDUQDI8AkJdRFN4+ecrL+UUgeY8YVTU2tmuxDYwGycl6eCZ4FnM17B47Rt6lDPjw2uHeSazb8Jjde/8Sa5CHMXHSZHl3I/z0vCZ570Jv27ZtsSuu+J199etfs5WPPqqG12Nt8oyYs4WOBjWI0vJSeSJj1BDm2dFHH21z5sx1z4+G78oFzaoPXjWdFfuu2dZXUV0lg9/pXmaXjHr93j3qIDjtj5MZi/1HMfzIYOWnnjQo5jjZUcJzli/Bz1DcbAdKCAiFLCo298AqKzhwjV/m4gO2DO9kCCJtXLMQ8gFCLkEHc+XNopNjN7plqDAm1KVK3hvvRo0a44aW6S4aKIuto9Sgkd8eddpN6pz3Nez2+Xx2xtAR4DAQmoTXf8BG9OFlsoVwlkZBCxYc57xnGqlOMpw0Zbwdt/BYm6GOZu7hh9nkqdNsmLxUvo1YKe+RUR6y2K9n0lE2BaCHhFoZJHVl6kAq3NBi+JVYsmY7I7tKCtVRs/Bs7vFz1gz1GDlydDpJFmnl+HGgQLkEdD8beJcAZyAdyOdtQvKORVfeAYELyBqqqFPWcAGDZbOfnQPspFnKzplJhD61E06YLFQHht6lb1w2e71OP/00O/fcc/13J3ztq65WI/gi98Yv//kv7ac/vswe37DR9tbvk2PVJf0stgnjJ9iEcZNFs8osGrAjjpxnMyUrjkDoYHTB4rhoZVGYGrW280M2RW7cqQHyOPvss+2UU1kwn6pOZbjVVGrULp7sqt9jjRr10o6oA2fzc2ZRh2/C6HO9YgGazRscwgfvcHCivQBxD5/i/kBhKBBVJr0oLS2XTtJ2u52fzm+S/2mWgwKDLfIQwX7dFfDzcJ0ajtOz88nyUEaiiCg83hYKm1Vm0oZC7xeCgtq8hMsv37T4olebFAjjNUxKyVAUBaiWocE4Mn/MVkjK5leJZs6caSeddLIdeeRR/n7T1i1282032m133mrr1j8qXDKs3Swsph9pYWpq2vRpNmvuPDv+pJPs8CPmq/MYl2tU7CKhsRT5XnMWqflNWvD6mfuqhpOMJqhO1LxbRrhYhr2FXUTUVXVGiZjLZcGJk0jpDGABn/y3tbRqBNLg3i4/isG0A8NsjBP8wMAHT1OjTjwMw0II3nnQH7jxVDn8i19g8iOTHQVee8LzVBBG6kD4aZTQxm+i8rOGGNRRo2jIJdbc0KwONX05DY9onOAhH1MrBH7WEWJ4V101TMZ9lE2cMFWd9uEuCzokRlgdblxKXK5MAXDiZ3tbly/wNUjm0MDCfM2wEVZVM9zXajDk7LJi+sXrIcOXODdgO3ft8ju8fUZxGAk6FX7xio6zW3JmOsi3FOod05aMxLZs3ihj0ypDOMJ3h1WUPfEI4ANBll+ELL9dNvrzk16VH6Pvp9PqHbyFN+QJ4B766CACV8hlKKRykhMGCjrP9BOTGjH3M/3YJ+N8hL397/7OXv3qV2t0NttHORsf32j79qYf0WHb5i0332x33n6HbVi/0bdlNkiu5aUc/6wRrTwKimHqqKeHnxet9R/e6dZoe8/uevFOnZ0cDKZEMP5M8xDYbt3c2mQ7dm73uo+UnvOzmsiR6R0MeEtjo7cHnDjWy5ADP9LEfP/3Lr3U7rnzLlP/YpOkJ7SVrBzgDboGP7lm4wnwCxsUes374CXXSOdxqh94cJpYW4MOXyeAvYcIDrnRd+bk7vH0mWfzeXXF4qEPBdIjgAgB4akGwwHd+f8oI95jtYTfLQVbt269Pf7YY+5J84ULUzlbNm1yw8nXczNmzrDisiKbPnu6FPr1dtFFb7CTTznFpiu+ua3Jlj/yoK1Zu1xeqjxucXC4GsJZZ51pX5OX//Of/9z+5ytfsbe9/e/sVa99jZ1x5iL3RNjihofElEb6sWUWkaUgVDGnMD7HrffUq0xKOHLUSL1XAVLoisoaK8RLUIaSUn7hSB1YG1sn+eWvNil4s61avdIeWLLEGhv2aXg9TZ7PSa70NAbwZ3mTyksdaASegf3pFKTGxKgcptXYRpsWHdP+78T/obIYCuCNxhPPlEdjqFMHP3HcRA3zJ1hvZ6811TepAZdadUWtFfbLS68bqRFFsRtYOi2MJ5+088xI55RTTrMP/8NH7eKLL7XP//uX7O/e/m57xYWvtjNOX+R17+jpVKeZPD0aHkaMY6NbmlqsQnwcIeNbo/juTrbKmv8mc0e37sXn1nY86LQHHDZQR+94c/zEg8PTZw59y9Zt1iDa0LlRo0f4SIzqdrS2+w/QbJDO3b94sW3asMF5esz8o3wkgxGAn8GboRCyeDL+cvIlP9oDzkoZ/FLRUl6ikXCRRpguu8G2AYSsCFEu8giD9cSAeUhGzLcSi0FM74wcOdyG1daoniPtqPnz7YILLrBFZ57paz2333GHwu3+rQ0jgO3btxm/4DVzxhz7xw9/wj78wX+yObMPt3FjJ8rrrrZCdeidMvjsxuns7JOBrvFfzmpr6rCBXnVIBaqPnhld4qXjVE2aMtmn9vjJT6ZgRb1P0+AcMCVDO6LzY5TIIXc1cgqgjR8n37ThcVv/6ForUPycOXN8q+msWbN8HQJ9TPwenL4Z2m7iPngEZPlJwJlEV3GQsDccA8MPooMzplrhay77QYdDbvQBZ6f+q6lNP+bNb1Syxze9eCIEYyMEPFFZEzf5HwVgqMnvhuLl4Tnefdfddt111/kWzfVr19nvfv1re3TVak9bwZeAGpb2q8O55fbbZEy+q6F+my04/jg7buHxGiHUWGc3BqhdSgjuYTJArfL818norraGxhbfW8yHRfc/8IAMFL9dmz4OwWNuVVqGeTQ0hpJRhagJioc2dMmYp739zeoI2ZLGD4GrU1PbT55Up23etMU9/Q0bH7P/+vJ/2XXXXmv18lyp78KFC30KinWCMPDwKzrGgCwvI34/DxU4thkF9lGR7AbzksTTMWeNfhZnAHG8A0Im0AIQz7lBzeJXk+StbkFGS6M7eXc01JIi1lNGuMfIrxvBM47IYCEPT5U1FjpzphU49mD4MLZYVsnI7LTly1a6R4lR5tRW9R3W1qXhtXjKYj6efm9nj3XpfkCNcsQwdSwyKn19rOlg5IuUlvUGGU+NEFw4CizGMYcMP6CLj8g2b05rNmz/BfjoiulJ5EwHw8hy9apV9qMffN8W33OPDE+XjR87zg6bd7gbI/8tgQPw7s8BSSl1yuqAu1iwbmyybl33n+bpHfOgk8Q9nS2dFtehcuM+ZJ9CyC0FT5lLE79Kx7oR+oYB5WtZ9GuV2tLjjz/uo509u/bKIWnXaHqYzZt7hE2bMlMGmDWWIjlNLdYrGsqryqxu1Dg5ZiNsX31D8tBrR1prU/oxfeRapBEynf++hr0iZcA7dNbl2E3HQX3oN7+JzXcc8IWf4ByhDpkf/t+1c5frGnx/0fnnq/P5iP3DBz5or33Vq+2oo472dSNvd6qhVxcM6WY//3hGd6NzHMq3eI50fq+QpqzTz1wyxUPHFI09g+KgwiE3+uynllNlPWzd1HirRUJu2qWhvhoHSgvvg/HhrWQFQDwQ3mMwPACmD5OX/9Lzz7P5Rx5uBWL6o+rtf/HrX9m/fvrT9sH3v9t+8Yuf2iMrl7mXsPCE0+z4BafYsKoaa9xb7x8Gfevb37Kvf/lrdt1vfm/t+9psfN1YO+20RRoFvNaOnr/AqsqH2+pHHrP//OKX7b3v+Tv79L983K656gp78P4HNNzdZHvZByyF7OlgyM/56/ISS+SJiD75v9JhKZKCK4g8TbUoK5N3388CsDqMCtFcya/6mEYs5YU2Wp4WHcu35N1+8H1/b5/71D/brX/4g7U1NPiiFPumjz7qWHlBMtAZxQqPLpQ0eBoh0kQ6+Nzfi2FgRKIhbxnbX3tNIjOZEaVOOACuEYCQEVcg3qXOY/BrVJ75AfemtkYrri620mp1TkX9NnpsnR177HzVdYztqW+0pUuX+W6dpUsXW011iU2ZPEEGrled7Wa79Pvft49/8qP26c9+0q66+je2+N47fVfNcBmOEZW1rPfJGGhUxLpNX7sMt4xCbYU1aHTUqnRN6lh71Am0yFPnx0X4JqCtQyMJ1krUWEOn+J+z3OuG11Jz6+6VtzmiVh1hhfV2tFuJGMOxH7t2NdtvfnOVfeQjH7a//8A77X+/8WW799471BHtsiOkg+ece5aNnzjeF3QxwPABeQSvsjyj7AhAyI4A4EiwiMt0V5nw0bH57wbLGWBNB4Df4AJvVgeinADiIm0EDGyReFIu52GgSx29HI80ypPhFxc6ulvl9VfagqOPkVE/3MoqR9im7TvE23oZ6V6rHiZeqbwt27bYj378Pbv0h9+0dY8ts4a23VZSWaqOtdi6ZKi72vZaTWW59KzcVq3bbD/86Q/t+huukmOzXoTxm879vl2YqZ1WOWG9ahdsqR05drTqXSkc3Vahjre2plJyK/ENAf57BlJrDL4UWXnb5TDV+4dx27Zut40a3a96dKVvDe3oks0pYFcS02SMejUaL0jrYfAreDVUFsRHAHgXo1jicA5wYPk1wFGj6tzosz2dvGLjIYEnWsiDDjBLxk2K1S9PmMbGsGv0cPX6PoRWY5DewSBPnWEucQdiOooaRozhqBBL63vVy4+yz3zmX/yDmarhI6youMx279ppW7ZslhHutEmTx9s/fPgf7Z3veK/0XMM8tZcqNabJUyf6/OjOrTvkFZodNfcYW7jgZBs1cpyNGTvJzjnnhXbeuS+R53aUjEmZ7+ZpaqyX1zNeQ/hjbObMGTI+tdatXp5f2JoydabVjZ6g5iK6qAN1SW3LheG/cCVPEo+wpanRF6U4Prevq81Mo4v+Hnmn/eoIqiqtSR4RX9+uWbnSKlX2qLrhdvSxR9u5579Q9ZnqHYkvwuUgOsbg1ZNB9j0/HsFzr8rsEp8amvZKWXs0yklTHECkHyonQjSYCGF08JZ55kdhOrs7rF54G9qarHOgy/oKumVsNWSvKbfDDjtcHv9w/+hqx45tklW7Rm2j7KQTF9rZZ50rGYy3zVu22h1336YO+i5raa23o48+wj/maWlsVUfY5D/sXlMzzH8svE48Akf1sCorr6lWY2c3Sod42meV5aVWqGt9PaOzDo0MK3xKAZqZRqG2yIUF5F4Z/D4pCbtwdu3c7vPQ6C7nOXV0DcjT3WJ3332PDNwq27Vnm/8E4rRpU+38819gp55+uo0ZP0Hea9qIgEwo46n0PMITQEk4DwdD3y0dB58QWon0lt1bnIrpyTL4shDxQ99TDu0ojeTQUXUY6KhCtQxsc0OLbZY82KxQUUXHVWS1GrVMnTrNvztY99hGW71mpUZiLTZz3mybOGWqbduxw269/Ua77/7brbOvWTQWiHetMoqtKrvDJk8YbhPGjVK7rLBHVq233119pS154G5rlzPQ3d0sj3+X7dy1xddWyssqfKqmuZFNAO34SGrn4p9GZ5ws289vdJQWWYf4wtRSi0YU7lioPd119532S43sr/r9Nfbjn/zMfvzTH9mdd99hO/fs8M0EODfpS3PxBAbnIPgf9iVkwTXLv+wzxp0ft2E79aaNj2sUU+/643xljvEQWd9DeuAawKfW+CNsbsN4/ffnv2gvOvcFds4LzrPRk8a7UdzPxBxjAcgmhOGJZ4xJtkrZvEyXMM9I78teb6Z6OCGRoT0LQEwHcJQBC4TM5dbX77Nd+3bJG1fjkqeIdlWoMdWNGW21I0fIU8PDMz9RceOmx91YcEQAH/Yw7VNTXWPjx03WELPLNm/ebNvlYTAUZm8++8E5754mRecUxjE8YeZEN2/eJMO+Tx7vMb5YBb3+NaPwcAxDtRoapxwyvw3dMUylLkyTCaHqlrwVIK7Bx+BZNj7o8HjJhD6zR0Zs6dIVdvnlP1Mj2m1vfetFdvJJpwt3hfrTQV4D2U4lGY60KBZAHIFydJFh6FM9N4p/a7zTnzp1ik2fNlvGc5jt3LHHtogH7MVvatrt/GL+deKEycJUJlrabN2G9fLatliJPEF28bGIPW7MRPF3mry+4bZ983YZoEfk2ZfbrDnT1RlPNj74eeCBZa4LtTWFNmHiZHlhE+UZD9jatWts/bo1NrymTGXNVKc9Vx2GvFXVA5rRIY4MWL58ue3evdNGj6mz009fJGNUYY+tf9xWrFgu49GpzkKesOSIPKkvC/3jxo1X3aapvInyzOEd3vfg6JR08C8rk3gHRFwAkzjditu6abPdfstNtmb1SnvBC861k0851Soqq90YwhPoQCbeeeVkC4Sc4hrxUb4fX83PFvJDIv2c3ImsNtuDD91vjZLHjBnT7ZhjjpGujbCOtl5bufJRnzJtVAd++OGz/HuVjp5Ce2TFCnWMO1QXdms1qBOvcjkxTXfMMUerkz7O2lt7xdNHbJN0Yfduzt7qVIc/zyZMmKq2sNUWL75TNGkkvvAkO/XUM62vp9iu/v1VtvThu+30M8+2BcedJAdggtrHcrvpxutlYHcI9wKrGzXD7rjzVlt8z+3irdkRhx8pnpRZw94We3zTOjkYzXaiHAgOeDxaoxV2VRUV8pOU6C28H5wSDVlk+QkM5V/wWOqkEWyn3XXbrXbjdVfZy176Ij9OokSdVn8h07iFLp+DDc8Jo98nJvVKoGtWr7Yvffbztui0M+wFLzrfJs+cvp+hcQ0IxgbEM4oUgJCIJ47OIBbgEBrbyxhJ8HFLt4atafU+nbfCXloUnHnkvmIJX42L35GtUmfg5YgUDqDibECTUqMbbMvjIDD0IH3JZ9651FQOU7ml3okwp4fniHdL4wZYuMUwoEAoGfh9a5rqAi09fezLTz9WzVCe6R6emb/E66mu4KiKZKyjwwMXO0aoZzE7UXJ84up4IC73DFBOQPAMkHn2umL0ly17xH71q8tEW5O9+tUvt+OPP9GqZJhVhOcBwBdGn3vwcs0aG+Kgizh2vTCPTklMu3TIa6Oz4hCusrIa6+QXh7zh6X0/Zx2xeCvPUp3zgEZjPUrX1NqsevOBVLUcp3ROUnkZR9iy1VSdtzoVBjtlFSqPX/1SYy6W59/bkxpzb2+LFWuUVFhY7o0UOnvk5VeUqlNSB15SWuX1i7ohK/hMOua03f0Vkzra0yI3u7P8A64CdKpM75KxZA0EfWCnEVMx5IcXXIM32XsCELw9ECC1LtVn17YddsMfr/UvYl/2sgvkJBwnwyIeSW/LS0v2yzcrJ4CyslfSRSCObbns1GExtb8v6SfrU3iqRcXCqbrzzKF/RepIcUDgD/wuKVEdZNT6BkrdwUIfq6srfXqFX05jFEW7YARZVaWRcJf0TG2ELZx8zMVojHl7mnNLS5Oo601TWKoX9LS391oFGyKKWG8Sf6VH6RfDOLFWeibZ4eU/unabXfbzn9odd9xiE8aPtbMWnW1TJk6xjRu32b333W2NLdts/vz59qpXvUodyokaWY90OaInSe5Jh4GQTfAn+Bn8i3RcCb3ymOobm+32m2+0ezTKefUrLrQzz1okfZOuyaogn+LcaOxgwqE9hkE8wugzzOmTCjP3dv+999moupE2a94cqxk+zBkbTAVCgYPpWYFEOuKzhobGxjYuGmsY2LSYxVQDjTdt1xIWx4/nj/HgORaQWP3Xo9KJWOWRWNUgZNBUFjsbiooLpZRq5MLDDgfmgjmYinxQyPvsj4KziJvow4tIikVIdNNoNORXHjoJdoekvfHEyTNUGq7QTfnkAS9GCU8/+JI6lkG+ANn7oUAe8kYanpl3YqsrC6SrVq4QLwb8Y5sJ4ycJv4ylOkrSp3oNGhXPK/gTfIKgL2gjG3FsqyzJ4WT7JvXCu1dOr0u1vEPfBz9AXflOg/clNqw2/WIUvGYutlQ4/IdzVARpMC4saMM/pxOapXRlpUXeicAz+MkXtOxDRz4lKjvxMuWJOqBDdBaOB8IFGCv0wn9eUsGP63XdkpxkEOnccCRYBIfuNOUWBv6J0wXERVlAxAPcZ9NhmOioOjQK3bRho23etNFHedNnzPTyqH+p9CiLM4sDyJYFQEsW+NDP13SUhc0I6KR/BSweoXtRH/jkMhDPqqrSFmh2OrF2VVc3zEfI8IupmZqqasWXSrcrvW35TjbhRsbInG9PGBn5sdbyuhkVsM0Z3KQj0J6RaaoPX/Mjc3Yt0d4G/MO5IpXR2cmpvdulv9vU4TTYY49tsLvvuUcjkrXW1t6s0cFIW7BggZ1w/Ak+gqQ+LkvVL3gTsg6+ZWVP3FAexjP875Hs99Xvse1bN2mUN9VmSjaFopFzPUg3JOtBgUT5IYbEOBSk1Lc2FpfTg7vLrLd/ylBCEnYSQpbpIRDiuKJEeFfcozR4C1yB6EC4Ru8dzwy/UTbOO8dEeLngVYN2vBJaqa54LTijRRq6Mu+LF4/xwQCEEWD7HorIX7oXeNWSwmDsCOl3ezl1kjrQyFLD5qf3+HO3W5m554A2PwFTeXTj+MBLB8Q9DUJdCSU5vcET6kbDJnAfShtphgKL24CnEU6MaTKGjJjSQmGA80gh7p8KyO8jG6gUHSpd9ZQn3SkXXWTj4RNAkzo1GomMA9JQvSUl0cZYSwZX9fdfq+onfZoewfCWlJA5eI+eecnCwZ/imLlQHEbZ96PL9ejREMF/h0DpOGsGIx884grdGDQMVBg7DCydCwYR94V6pd/5TfwgbZbXXHkm8By8fzKekT4bgJQ/OR4YZqagGOG4AdUftKFTUW7kGwqUmQ3QGgEc6Qfpuaqu4iUkprTUFVkkHoh8BfQ70atUyoNOw+8kT9pFRXnCx/lV3omwYKpM8I5fH6NDwXh7Xr0jLWnUSvRMp5I6Fp96EnAgG9shPU6qzzcfdAhOt8KIUcPs1NNO9i91Z8+dY+PGj7OJkybY9JmT7eRTTrKXv+wVduYZZ6uz5LuO1PkAqQ5ZXidbERB8hRdAlsfEJZkW+II6C7ktLel7D9qQEioNCT3qoEOq4SEErztM0h/nr7DlCu+tQEpAM0wKNhiyjWOoIIB4B4QgotFl83KPotA4k2IR5InkPBIEhsxRIg9QSF41Mh+dgE/UF8hTg1KuxGP46RDcBfP5AqXXHwbKP8tXOuI8nnuMnq4YHYKf/0HZAo8XDjf6JM3dQ0uJPMhSFFsNhjpi7MHNFkD/fBwaHUfiQUB8mEPIKnOqc+JPvA9Wkh1e0SnH5+2kpVEOBfJnw9NCzvJiANxbK1WDpfHxqh+Dm/iTaAJnUlmMcTKwqQynHYnoPcHpV1Lee0ediyeNpxdtyavHwEMCfMjJRCjhK156epf4R30w+Hi0XNEZjF4ybsnwoUPEuyHD8Atnikd3oRM88DZ4zMgg6V/wK8oLmYRc4j7xIqWBXLbyNjU3+1SLOwIq29M5FxMEbq7ZMBSIi3JyMSqLK//RSaWOL/GNNNky0sjKRwGqe6n4UljISIEpV8mqUKNo8cGPs0Auih0cKVJOagOD7TrFc6VT7+0loLPobkrrNJBfaZzHCqyVoB4Y2FGj6+z4ExfYu97zTvvCf/w/+/J//5d95+Jv2df+9yv28U98zC688JU2f/7RcvBqvBwg+IsuQNtQeWT5NvSZ+3jmHXJFX5JtqdgvE1Dm0B50CMkeUkCI/LGHmkVJbwBimLi3n4lZZgYMfQZCYHiyyTCkuOwVpUreblzTefjMvXIlWQoSkfSPhXZKwlZ7o8IuiGYPUgxXfU8rJRS+YtFFnFI6jghAXAH/XF55KJ8FYAKepmJVN7wjeWtqPCg0bQ6c4kz6A4/zTfE5Zcwlc7yDpQxC8ItrMkxJYbPxhKAXI4lxZPqC56TAzKdTTRpzNM5BiLwRng4ommkCaGFKx+uZe+Z7CdUmJRQEuqATQ0snyT2/4uTGzj3P4LsMBJ2q583hVp381uUMn9UwhYfpGLjASA1Qbo+PUY3HKWPSj1S3ME4Rl4zdoBGARx2dbeJfpzph1hPU4bJtoYCFQJyQQR5lcWZDvMvGgZcrOZnPZp2nq7NLtJb6F9i0J74doI6eLldGQPCPEOVGiPTpnpClLRnaeNY/sDnOBCm/3+1Pg2EmLo2kaFCJnWQOvKlM2gEfGzK1mtYOgjd+UTqNC2X8SQfexGcFvQcHH7pxwBn36C36yplVrCUwjTNp8gSbNGm8jRk3ysaPH20TJoz1hVuMMbxDf4IWwNH7dbCNxLvQUZ55F8+RNgLTWu4wlZZ53VhzUML9eA4FJG0+ZCCB0wB0VyQvrlyeq2KsvatVStwpF0aM4Z8YNDQMQvJEImrwPilEMuwoGsN1NRA3YChJEhZza8yxFeRW07E7ABeGmn6wkwszgp6jUxJ+ftg7fVZNUBxp1Pj9tD68GeKUzhVQIZTDg3BBC8pWzDC1lK8IRYd4QdtJNlBpcqGf9MLnQ3o992HUlDCG2G7Acl5eUrqkxOHdYyyy5QdNQJankZ/OAyOKB0Uj42Ok9jZ1Sn0YyFJ1PAl/FgJPNJ4IARHP1Y0Xr5wPiqMTEXt5lwIySnSm+iQcAbwbkCEgGgNOwDF0r94R6Z+84D7JHLlzQFkaDbEwnEZEos47czoc/6hJ9/AQSJ1a+n6CKhDQJWjlGvrEwrsv+ssgCbUD7/hWAINMGrxPyvWrQuALXgTwjLNCIN4XgSlLoZs68KxA+TCL84+YF0/rReYfI2FYWdz2dSmVEfUbeu9XeCS6/TmC8OaS5AD5cEWXgzeEQdl6u1C60C2eXcekl4x8kQnvva0kIaloZIxjRl2QdZJxXBN+OklOqWVnGB0x71Na9+w9vbL7jahjmk364h+9iUd8O1Go9lQiOqpkgFlA5ite977VwYMjddSpk4bnUSf/FiEXxzVC0s0UFzxINENIAu6Jj86Lr4f5SjgRm+p2qABJHDqg/hKg1EQcL/DdMXzhxzwY5+UgrKGQZW4wPNsoB40Z0zbJ+wvD4Qt6uWeG5JKb7nlOBhOC/D0KJEDxE40YWwU9EOVl8ax0/gw9Cpw7zq/d+48k+DvqJmWFJuFHCdmrH8ZFOUQXC32pDt4glGPwWR0VykU9vXwZEz1TBkf59ipdojtBkc9nUzSNTLTk4jEgLGATsjBU8UKR4wp9bvRVl67OdJBZVUWN6lNpA70FvssGw5GVBxCNghDPSU6p8+Ua5WDM6LwI7JEm+G+yYsBzsiJvKiMZRPJyxZgyn+34aeQ5TxQmOEUq3nmuNOEdxvQaqgVf05EfcF0R/kq1Vjxl8ufvRLMeBejeoHySfqVjGbhn6iHeY5SZB+dL3TTnXOYde9I3puQkT+GEdseM/uQCnmGMMHxty2uTykYnOY+m2D3TZLDc4Ova2tpizS1NiudgsRKVzbnt+qd0aZpEdHlHBv1JvlQxXRM97rjkAC4mmjDkSTdJPaifgTfqkdJGPQBRqP9T4D74mJyjxD9w4aVTBlN8TLF6+3R50fn1+EiJzgyDH06AH2GBvMEIHTLgOCoYfH7NbEBy985ctEEN+Sib8qhDooUr+kg5yYgD2TpQt2zIpnE9yYXQ6cF0yote64a2xzXRkHQqYT/4MCjhQwTBWABG4GXRiOgVXRlyTCbEPVcg4oP59Ko0thRQhvSe3hxA0ABF4v1SXhIUOFCKxA5lcQjS0jP/gS8pAWWRz98okjgMEffgxMviGu+8ASNoISU+mzbqxX0YZp7xHknH+5Qm8cuNXS5uf1Cde2TAKCPKhL64B3fQk4UDvQsaiIs6oqz+DQO7JqiHlwNNSRYBQ/HzzDQMdBMoD1zRcLmCj2s2XZaeuBLHO9InoziYH3rIz7MSkWl/Wn+fw0vYnyd3D34CcQGORzBYJnk9yoH3PPMO8tJUE2e3pOJ5z5RBLPryDki4Ek2kifLhS7zLAvxHL9NOs5Qvdp1hNeiQ6XCqKit9u6vvmgk8JBH+XsmIw/t6VQ4dKs4K8ZJ6rgw638Tv4DVGlHITndEu0vuQTZAaOkSb4hoQ6QInwD06ndKiPxh9jvVQ++0CB2f3C5+eGcXROTL6jTYNKjoWKsczox7KBy+8inYFvzmeHF5kA/ymTtyHvpGeawC0gQeItEA2TwB5CYDzMZcPIJ78dMhMW7OV13N6eboOojmo8EQNOwTgTNMVJnCeDE8IBgOG4SSEELLXEHRTU7OvjpOOON5xz2+ncrYHBgwPDNz8DiueHekQBp5rOvI0zSHy+7NRBsrEAhkGlj39fgJoJ+mSx0wc6bgPGrOKz3s+5EHYvIdW4njHM/ekjfcAz9DGu5Qn1YdyQrG4B/Yrn6KJY3QU+VzRFPB4OP/EjYPSpx1RSq+Gn3a+kF10KQ/n2HgJek864r1RKdCAOJBqP17FQQ/lEygfOl2WOTpJB41c4RG8IB9AekLIkCvPpCMN+YinLuAFB0BZpCEt91Fe4Ik0HufPKQ6c4CEvoCT70/HDIMg9deLeHnUFb7piXNGBlD7lpbyEM9Uh6g//KSNoRH5c0/1gBx9xwTOAd+RHJyN9eocho1OmU0hyh9aki/xmQ5/vg+eLU7Y58t75QWetfz1Mn8A/6iGZM7ppk/Hh5FGmi5LhTSMeymXOGfz8bkLoUypbhQtIQ/2gnXj0y9em0FXh4ITR5G2nZ9JFfUMOKa90QfQp2o08Bt536TBKleOHzFOHiL4mByZNbcF7aJYslC46TsgjcA/QUUlifu+XXKCuIT+QpLoPjh65hr4F7QD15x15B8tMnStX4gHiQwfSCCLJDkeWnYlORi7toQKNZGHfoQKURUZpIM1jr179qP3nlz9vRx99lJ1y8qny9odJqTmkqNiNDoylUUByCJevaAEUlHi8HRSfX9lBYTFYeKgYnb179/qWTQLbOInD2PHMkJL8fKVJPspDUJyDj+DxoEgT+/1paDwPH17rnQ64ABbSADod4shHHr6gBS+nRKII4KZc4jjCl/qMGTPGcUM7deCeLyuzxhz8KBllgqd2WLX5bw9I4Tn7nTwcFUu96VBICy6u4KBcaOd9GAjy8B58xFMOdBJXWlZhI8S/9esfs19efrnX7fRTT7OTTjrJf0xEau0Nn7pAG3WhsVBnjBC0h8GnPNIRR7khR8qJhgZ9xEEr6ZBT1CUaFPh8lxV5ZcygH3wcrwse5vAB3yVSmn7YhHy8gy4g9IV8xAcNhJAzNFAuwPZdFuPCKFMP0vIMDupM/YLXwU9+pyG8b9IGzwngoW6hy5RH3aLOjkP2gXj0mnlhjL0beeGqGTbc+gtK/fdxH1xyrzXu22OLzjrDjjn2WDe+XXJaOE6a8ql/lI9coI3zawrU/MrK0zny7JyDV8gAfXJa3fnhN4fTtBMA3dDph9HlplvgJekA8sEbfpWKESjPvA8+8www5VUg+uk86VwrKssdNwcYQl9NTaV0q8vjnBbxDOAeHnEMO4fnQRdxlA9dXGnzLPK3trd63XmfxUEcdPu0q2ijPN4he+pPmeDhGvICot1SJjqEfsBf6AE/soEG4jiqe09jsy29f4ktufs2e9WFL7PjFi706TkrLPGVjCLx42DDITf6UiH1fAjDjN/5/NjHPyIF7JMBHKdGXKWGTePoSQJSQHEAlAfmpp6fkw05OiEJCcEBIRgMMEcUIDCEjQAxahyJUKd4DCjGHqGhLJQBLvBiOCgXXOSj4YA/2Ja2mfHxTWqklA94XuEjDlzgIB9XnqE98FAe+aEDGomLNPyuKj/yEEq7e/dux00nQv5t27f4M78aFTRSZ3CiiDRwfgeWhXGMJD8vhxEhkDbqRpnQzhV8+w1VhzobWQDSbtq40T+gm6iyMPDsTMDoYzCgDTzQDYCfjhNawtDDY+Lo3ADO0yGeZ4waHQb5kGUYKhpRyAXe0Mgog/rxewQYJ+gm8GGOy0DGLHjKLxYx9UOdqCt4yR+0smOMOlfKqMtUexzP4KHcyqoKP3aBsqkz+dEBZMV7nrlCJ3RzTzmUzxw7xgzekZ946KDOoaekpzzSAGGYKR/cGH3wRh54SXp4U15RZW1dGnX1dtve3Tts25bNNmv2dJsxc6avWTCTDT5w86Pf5Ofo8uANnWRrg5yHnB7wuw7EtykPHfnwEcONs3ZoKwB0kZeyqQfTFqLc6SE/4PFKQ+tgLUV9gtfF45QOoAzuabslJel3EvjqlpNJ6djqRg6XHmg0Iv3v0Eh8mIwn8cie0Sv4OOeKstitA0BbtB3ikSNxxaWpQ8IGwAfaw2D50vdcp0QcAM/Bgx7CO8oMfQwHgPfUh3JIAz/Ai44CPIObr6IlHtu4fp3t2va4vfaVr7BFZ59lJeWSIes6alm5meeDCofc6Iv10g68WlPj2maf/swnxfBOGzt2vFVX1vmPYnOOTRhMGE4DQCgpLhl2DAYeLsznvHWEjCAxKFQRQWB0+LSbfHjTGFAMAnHgRrkRIkJOn4D32G7hQpg0NpQmvHCETrl4chgD8JMe3Bhb0mIISBdTI9DMaIP0GHLKglbKI4ADb520lO8GrC+NPqgbZRPPlXTkGVE3zMvdtGmTl8PZ/dQXg4qSDqdjUx5oIR/0oax0GuQDNzylTtBFHAEjDH2VGmlwuBW82S6cKPMRhx3uXlyH6k/5GF/yw0/qB8+RA+VxxC78g37KhSZop8OFT6RHduSnTIDGjuzAQR2hnXKhATlAJ7QxpRBz+TRKzmGHdow+PCC+umaYdGiwMyEvdFEGdFVX1XqejerQuE6ZMsX5AV3oUHlFqfMKWcPTyAdP4R0BuXGmDzRSP8qG/tpazmhPvwUAvdQXOtE18CFnaCKOe9JQ17Fjx/oz0yx0WkF76BC4wckozDhSgl9T27Xdmhv3uTzcGIqP/H6EiPEOCq+Yj7VwfpjOa2xo9HKry/mVsn6vFx/6oR98TR5fFLOoTb2i/JAF8uPraA5NozzeUS9wUn/qhz1jrz440WX4Di3cp/Yh/ari18Rwlph+4ycke1U2HW5aE9m5o94NPz9qBP/ACw/Y5ssvnOF4QDv4eE8IOlmYLdfoIXQ+tVd+trA64VI++AK9xAHUjTTUhYBsg+fccyU9usJ7+ELZyI5AGegx6Xbt2WsVNcNtmByHfbu32jve9hZ77etet9/oS3kPyfz6c8rob9u22T75qX+yw484zC546ctt6pTZ4ku/FDwpGswM5aNRwuRRo8Z4HEqzd2+amuFXjGi4zNeHUSWOOUEOMkPxJkxQpyJBNzW3+G+ugnvSpImOmzPwwY0B4DN21g1QIhQaw0pDZpjNh0rumcgAIGzSECg7pSvZ772iZJQR6VBUDBB5MYIE8tHgMVbQTSMZqfpxOBt1WbVqpRS4wubMme2KzFny6x9b678SNXfOXF8owjChtJMmTtJwucKaVFdwYYg5sZOW2CK84MZYswCIEYAnqeEmjwwa+JlC1jXw1jjk7corrnBjf94559rCE08U/cNUZrvtyxltDAFAWurN6ANjzzvoAmLUgveM4Qq+wA9kCu3T+N1g1Y9OhHje08CQSagrPKUu/iGfjAhz0Xjq5Ovt6fWRDbT29vOjJqOUhsW0VtUnTQcgH3Squ4svoJOxA2eUQRyeLh8b8QtQ8Aba0QH4CZ9Gjx7jhpTfQaYuNH7kCe6WlvSxFLtN0L8wTODhnnpCB+XwTDzyJx7+QBt0FMqpoUzwk5YOB3zeqUsnyqpHWNPePXb3nbfZts0b7dgFR9tpp50mD7fUdsvo9IgPM2fNsjGiFR1rVAeI3nNcA3v7d2zf6Z035deNGpn0oyW1N+evDD/lA+gI8XS8xPHzlu3qcPz4A9WFToJdMPAaWjHMqrQbVvDDY+pKoI44bMUlie8Y+coqpklwyHC+6ByKbMTw9EtY/PAROKLNYID3SD9ijQ586AmGft++BqeXoxvYNk1a2h3poB3aiKM+/AY2dKFDdPLEI7+sPnCPnlL3kCNx4IIm9BZZQRe40VvSTpk2w5raOuzB++61NY88bG+86LV28qmnukz7n69GH5PfP9At3VLv2c9pfCvt81/4tL3+9a+xl7/8FRr6sOWMeUBd9F+WVO6JS14D8WmahCSRLr33W29MaevZ4IIcceTRk09ROA6lQdmBtB2Ru+SZkBecAGVym6UrS1NAluYA4hKtT3xHPsqJe0AYPR2LQiiUblLZ0KL30M1+fxZc/fgA3ZM+0ZuG2UEjceTxYbleRFmO90BAIvIN8Dl5l/3we9+3LRvW2zve8Xabc+SRyu+JPGniI8nTc5QZ8QGpLk+s/9DnAJ7BQwPifbYMT+9PAj0HHwA4g24hv1RXynTW5CDRlp7Tvd9Bs+pEfC5KD0Fv0jPShA7BP94F/zB44MOAAbwLHgftPBN4Jl+kSWWkOe/gXYKgFWJTHP8zdaIMGgkMWOO+Rrvx+uts3dpH1XZeZ7PnzvbzmuBBSWHyvNEfRkUAHSQOEHSywE+dnS7dsOff+ac8LPan7z6ijaU6hWNATI9wYXATfVmdoixhUjraWYpLfCEt6RINvvFeKclLG0W3PZmXycF4aT998DgtjPpHeTk6A3/wnffEgRv5UxbGHBL5uBAOEkc62kyWdvAhBwLPBCBk4/XOpQlAP0kXfCBQPtuq+eH6h5bcZ7/91WX20he/2F744heJavGP7dXcpaIPKgxSfqhAQqbBEmBmOkRMnJAC9vcmQYVQgqGEEAKAUoYQiErPpPMoB5SGOCDiiUv4dK93eCbc85qQcOTeS3miPCDeASnNE2kKiHfZMEjrE+MB3gUeAiRDmytnLg+0YOD8PpeWc008Dzh0JT1XFooojSuHiHm8UsUzgfcHClJxKbMUWq2b0CavpUseWG0Nv1/MFEIYowTcZ+mPemYhG+/0HuA5G881POJsvKePoLjgA4FIT+eGJ3e/X5YE1S8jW+7Ts+5lNzA6XD0oPmTvfNdzwpl0AkPDPYFGH4YHSHmSwYqyuY/6ZNO4gcrVIeJTSDTkoh249Xe6lnGgXInu1Xb49SwONGMLJztEnFQF36efoYHREQf5xSiJows42I5RS9KrVCYnY2brPlhf+KVnhXJ5/Ok7FKVRGNQppcnRmfgyaBAB8nt50AaNCvAhnR2UAsdg+Dk80J6q4vf8UH+WTjoA7wRy+KGRfE678kAn00Dx+8FKpTi+CaD8VD9CVg4A16A90nElXeQhIE9GaYn+lI48Hl+q0dnwdCAgHQ9TpV4TeszUjx50SLU7hCBdzd2k35pl6MnUCXNmvsUwD4ccaAOctxNTZQxr2SHDzow8HDzAmAA4R36fc5TYVcTPR9Jm2JbsHyoJwkvNw6EBZNQhW8ZUJ6MmOgLvdTB6LsOU7mDDITf6AL12nODHvOB+TyinvHk4hCD9ZJjNXDiKyrwp3ox7Z/QGeTjosN/oC9gBw0dIGBTmoLEnyIzXacoyD4cKfBpIcmA6raoqefscJkhnnDrmQyOfQ95qveoop0JTU4s8yhZ5k+mkS7ZTPZtAuQgge82GJ3sXMPT52YBsuUPpiOdnE3ztQBZk2LAaGz1mjDW3tPjiFnPGLqNcumcDsnU9UDjYcCAani48k5DFF/PYQBw14EbFp5coO01rPJdhKI/i+c8N6P9zDYbSyMm0dL4sxLPdlN6Y9qQoD4cCDrlWUG8CngkLIq0tbLVKwny2PMlQGK4ADSiERHy8S8L5U2NLOBiQLTsaOVcC8UCW3mcDggZ+2JkdC+xw8MPwBHTYfkV4zxJQ/tAQdc4G4g8GRDmUCQQ96C4hdIn7ZwOi/DAczGkzrcPXr8nop/l83v8tefrU688Jwfe/DUBABb4OwW4nmXvpB7uiUnt5FpvNU8JzxhWQPH2umK8D+TAEBsVhSs8khPLQOGksWSOaVSzesfASShaNOZvuYADlhgHJlh3lcyU+6HymATlgQPgFoiYZ/MmTJltNbe1+vj3bkK1v1DkLQ2X3bAO8QB7oB+UypRLySYY46VakeyYBnABlpPt0xdAzrw8tviGCtsNunVz65zqE7EKPhwb4yBW+RlrguV4/pkUhlXVKtpa6fDKzF7lqHHR4Thh9RIf9GFZb40bFz5yWQJ8NoYbSMDXhXpHu2UXAFcVyhdK/WMmHhGhg2fzx/JfBkHzxeEBUKRIasrsCoJErgcZA/LMJPiQVNDQ2WUtr+mLS921LoQ/+QvsTO11C8CXeP5GZ8ZyNe3L4c1JheEJ3Bvebp90cAMY2bT18dnQ3ZB96ANV4+4zCoI2OmWe9TJn+RiDkmYXB5yTD9Jzigg/PdUjbeKlL+pLX1yoFUH6o6D/0Rn/Aq28DfQM+B1ldWW7+2xk26OE+08D+3KbGVrvttjts2dKHrLtXPTD7sdkjTCNCJJLSI4+ssIfuv9e6Olr0KE+DX3LSX2pr9Nh8QDPokaCU9O7gT0qchI2epufBdMT73mc98wA64jyQgW8qieQIWKXp6u70w7IGrNgeeOBhu3fx3bZu3SpHDs7whv4aSHRRdkBqWPQrhNGjR9ie+t1Ko86mqFB0PdEIP5MAPk5F7ejotQ3rN/iHR709khN/oglZSWl8q2JqO/BWow+2mMaf+MfWUvge9CW86Zmrs1pBMZ6e/O5R4qURlC4b4Ae85r6EM1TIKx2ub2iyVY+usk2Pr7OCfs7Rb/fyng2g7CRrpnAo36y9Ux1ybZUfG5HoQ4f/Nna/URdGTpwqu3XrNtuyeatt2rTVHn10jS1b9rA1NTeojnz0JblIUjBdLFC+lP+5CnS+ePfd3YVWWzPMSstENBud/fRQUqS6HGw49EZfJKCg/J5pw969tnrVSp8DgyvPTk8oQ2ZF/gPJv7jscrv+D9fJeK71L/do8GgSv4iFQf7xT39sH/voh231yhXqoTF+avAyCH0yJP7RjnpxjAowaBjSR1wuVP7Tv/QNQjJACB3jFA13v3GhzJQ8gd+QPu17ZyvePYsX21e++jX7x3/8mP3zpz5lN95wnePF22THEzifaQAljYuvGysqOJ5gj3+F6/PGeJQ5eDZkRW3q6/fZJz/+Sfv3z/6rNTXs82bSo7L56nfn9m0yrt3qDLqVGM83dQDwBMPND6VwT+OKM5KoTzLcSq+/MOwUpjv/vQLmYX0YTpzeEWJqgbwEjBT172hvt6XLVtjnPv8Fe8vb3mJf/I9/t/rd2yWPYqf1mYQsj32Ep0ei+MU1Dibjmwr/rV4/g4iTapNuPlcheEtg197ixffaJz7xSfvc5z5vn/3M5+wjH/6ove9971P8PZJXj297TIbyuQuhHwRExI/ESw39wMLWtkY/YgLZJEDDDz4ccqMPcxA69Wd/Po2wnFP/pLD8WMgzDZSFAWfvLIuSHDXAkQR4ef71oTqcXjVoDCnOElcMTL970sm7I51/9u+fDuboz+GmPmEgkrFPwevJn+698+hJJ1tScX7sIX2FmFMCv/CODjHh5dPuH/zgB3b99df7J+F8Oo/hIVBe8vyeBcjRj0zijBy+pBTxiUIRnurx10PwKoCtvHxAE2e2YOgIW7ZusS996Uv20X/6qBsEhszIJkLgIC23gTL9UAaGP0V4eYwOgn8SOAYT/iMtfoiD+yxNcU8nu2bNGvvMZz5r//LpT8sjXeYfALFLg7Ug0j1TfAmIssHr+qRn6ssRAxypkKab1Pnn0sbxCc9ViDogJ35KcPPmzX5sx3ve824Z/s/aV77yFTvxxBPtsssu238Uxt8SpPr124gRdX4MCjur0I1458p1COCQczEaB22OPeAYNM66KcJzfVYMWRrWMwdaU1tj7a1tNnH8BOOIVTcI+mM7IhaNA51Ix9kq/HJVCGrHzh1+kBhh3155n8qXjC9TA4Qe27Nnh4aoG2z9Y4+5we5xTyydGErgt3AxZE376m3jxvX28EMP286dnKAp+lRtfsKOKS8MEuXSsDn466yzzrLzzjvPz/lg7zxnCQHJwD3zShRfctIom1ua/TyfMhkTb4BiR2zpTLx5hsFRpgPrRqq+QEtri61cucrPV+GQuYceekB82+GNiR/iCM+9u5vzhJoU2vxMpnSmDp0xozN1AOq42CLc0dGqIXiHnyOzp75eeBud18iHKYX29jY/KwlZUQYyDOPDgV1Lly5zvb3wFRf6WUNsRihXEEM87TMN0V7iHlro9Ljn47ndu3f5OxwS6vm3Anz0d9FFr7evfvWrdvzxx/kBdnPnzrGFCxf6mUH333//s8LPZxOgly+L+b0G7tHN1FZyCQ4RFH1OkLs/JEBPiIKKFdbW3mJLltyjHrFAgj9BylwqozK4SPZMALgw+swX3nXXnVah4fBZZ59llTVV/p4Pvvnj14UW33+vrV6+zE466WQ7cv5RoqXQVjyy0j7/+X+3R5Yvt9WrVtm9Sx6w2bNn5w4FS9MwV1z5O3knP7O1a5mTXGE33HC9NTbt84PRKqXcKMCSJffbf37pP23ZQ/fbH2/4o61YuVLGp8fmHXaYN2B3AqTjfjZKAUfCVonOc2T0F2nkscNWPbLMxk8YY0cdvUBGsXa/AQiD9NdAlt8+VSI6MIZLH3zATMaQjqe0slp08ZHWM2/wU8MQTvGAM39u0OimvKzIjph/pC19ZJVdddXVtmf3TnWYe61+7x5bu269OqJymzJ1Grltr+J/+ctf2C9+ebmtXLHa/vjHP9pjG9bZ1GlT3CiDu6210775zW/Z7bfdYPfdv8RuvfV2u/+BB30ktXnzRps2dbLk96hd/qtf24033mTf+973fH521qxZ7kHTMdDxnrjwRDtHnfCIkSPt7rtutxHSozNOPdUqq4epwyzTqPBZbOGqh48+S4ptq7zkR1Yst1NOOcXGTZjoU4W4MMXPwmj5mYTQnejM0g/XM+JKRxdv3rLRVqheRx11lM2bN887OKXyAOSyP+eA+nBEPD9Us23rLlvz6HKbNGmUzZk9T220ItXbf/6RehzcShxyjQgjRbU5q71+T72fAMiPlbvxe4aBqQnQTp061YfEe+v3ygC0ISWftuFn5PBuKRmPnsbNkBODv3v3Hvv617/ucR/9p3+yj3/84xLiXF98wtNnlHDLrTfbb37zaw3nRtnrL3qtvfnNb/LjJX7605/aNddcnQ6x0jCvvn63jMwSdQpLbcGCY304+/rXv1b8oJNLig1XaNT8uDbGih9L4deSmjUS4nnTxk0+pYACReP5a+BAeOgAAc4y4dRJjjdmRw/8eabF82T1gN87du5UxzrMTjn5ZLvgggtshEZhnOp55hmn21vf+hY7QcaXH+HetaveLrnkErv99tvszDPPUNqX2dFHHy3DfaP9+Mc/8lEWnS7TBYvvWWxLlz2s0dI2dcgT7LjjjvNTTu+++077xCc+Zj/84fdt0Zln2hve8Ab34plmuOOOO4QjnYVPOPLII232nNk+GqFT2LF9u09TpHo8855p8Ic6pA43jVCZ2gFSx0/8oOye67Df4It2zvbnRFlOrrz9jjvlmN3lI6w6yTp2SUX9ns3+9JmBNJWL40Td0NeS0rLcu0FZHmw45EYf1QSwHx1tHbavYZ83MAyvb33zt88cMCfN3BpHzHJMa7VPJzX6HLvv3sB4uzUbsNa2NhcW9+wS4SjlFStW2LHHHusdAYbwxS95sRsVvD9+BOY3v/mNf736oQ+936ZPm2rTFN7y1je7V3jzzTdZg+oHYMhampvkqc+3N73lzTJoNa7ULMSVFKvhytNJI6BEc+ws4QwcplQ2PP64/yrSGBkpGgV0PhtKlBZCC5xP0MM0CbT7D2Q849IZAqoPXh/1ggdsecO4Hjn/CB9Z0ZlOmz5Vo6N5GgnVyPB12R+uu14y+J298IUvtJe+5CU2b+7hdtFFb/DO98abbnAj77IVHzlaesuWTXbGmafbG9/0RnuJ0r/oRS92fj7++GP2uoteY8cce4wfsY0HzRrQxRdf7Fe8UJ//h+fSDabwGL6P4+jokhLX39DtZxLQzWygGBwOgA4LvhDPaNadyOc4QCvypeNqaGjUqPhG+8d//Ed7+9vfad/X6Iqfgfzwhz9sp59+uk/3pno7yz08l8HrJSJxJpER04TUM4C6HAo45GqRhJ6u9PL8yAMLhokhavQp2V8BYBjEQmOlLTY2NnmgnPSrU7lT+mhFurI9EsNOWrxCjknlRx04zxzv46abbpLX3m+1MkIYIzqozZu32O49u23kqJFumNlN0dvX7capirP75SUz/0w57IDBCzjm2KPd+EAjDRWdgESuPkTXf+BiBJA6hRLf3cSoCM8fnM/Wzh3AlZahtgjiiAzkw+Kqfy39zNu0J4LKTr8F2+1ekvNZcRh34ln7GTN6tNefRVhku3btOps8aYrNnDkTBEKRFtXpVFmMXrPmUffU6bj4snjs2NF2zDFH+/QZnnNd3Qh57IofN8Zmz5qVdELWE2PKCJTfYUDGgK/jCBe7ZOh06HhZdGaqJ8EzLxPqguFAF3xLKnoiHeGHTxj9pVMw+WUsRot/S5DkV1+/xyZPnmSvfOUrJMNZvjtqyZIl4vkeGc/kBD1buv5sAL/HwXdAyIjfrkCnDzUcUqOPAAvVMEKQVTVV3ri379jhu3cKC9JPmP3fAQazbY1AD8tzobz6fgmi3H9VamfDDuvobvfy/ZxxvcPg49mPrhvpC3rtXe1WVFJgkyZPsI9+9MNu8H4pb/J/vv5N++2vf+M/1lFcLE9/8w7btn2Pbdy0w/7369+xb33rUvvxT35mP//Fr2Tsd6m8kaKATkUNsrDEaoeP8MVHyCpUfn65SLZdV/PyiksLdKUzSPuuSVtdXWnV4hMGv6ujR41kr+qUIOtF/F8AHgxtUMljNf+xGX4lCmPDEboYQzzbZxs6O7ptWM1w27F1m4+MClVke1Obye9X4FeZONukVwwTn2QBO7r5gfgOu+J3v7M/XPsHu/wXv7ZLv/t9u/qqa629rVMe/CbvNPhFrSLxfPKUiTLo1d6pUpvdu+vdeE6ZMkkddaXqX6LGWq3OYbJNnTpNeeHDTjErt9tLIxCNy6xkoMiqy2uUp9Yq1YGkkRl698wBPAdCRhh8Pfi8faHqv2fvLqvfu1ttp0vKoLJZjHn2RfRXQdQJB2iUnKW3vOVN9s//8kl7+9+9xT75qU/Y8cedbNdfe6N987+/Yts3bkLMrn9qDtav8Fyq3p+0H76T6CtUx9Ui3WuVvlQp8LvAWCPSpbofbDjknj4M8Krrv5LSYmvtaFdDl9JKqszR/vVsgbkRUlkoWFUlv5zUZ2MnjrbySs4ryU0liSD/zVB5S/Xbd1qdvP2Zs2e4ouHxvuAF59n/fuNbdt75L7ItMkTf+MbX7Jvf+F83iLt31VtFRY3Nm3eEnXzyabbwhBPdWzniiCPVWXzcPv7xf7YZM+aoXH7BhzPpB2znrt0qknlYRhpM0SSeODF8gCQrx2+XilQH+XnW2LA3edwyWvwaFp4wBv+vNfoHhJwiM50zetRo0abOSB437NSbXKJnDzC47W1pB47vnde/asmupLDcBnrxrPmh+R4Z2T7fXbRz107/ecRpU6b6ovwoddwzZ8yy8yWvd7/7PX6F94WFpb6Pv6291beAMlID2KXEZ/N8k4C8aSK4Jcgsrdv0qvNR51eY87aVwj8q5Cfw1CmXlpRZO1uP9ZfyP3MQBmXQUEpvdM+hXjgGHZ38upb52fiF0p3kFz/3gXox+mIqkXv4xj2dL/K64MUX2Pat2+2OW251fXS1izbyHAVkxKI0u8QGpJ81GgkODDAiF9EFbNdWJXy//sGvxCE3+gAyRIH5eTkWVdnTypTGoHSfOaC9YPQPO3yOexYN+5ps6UPLxIhCK5aQSuW58SMQnW3qfBSmTZlmxx69wA2Oy0l/UyZOsje+/iJ7+1veYuNGj7R7777T1qxeaccvOMrK1XFVyWCcvegMO/20U3RdZGeedoaddsqp/tuyVRUV3qG085N0qi/rCj6lJGV2RRgCLPxSJjTj0bGLhikdFu5YR2DagemNNMecvPJnEsLAMLXCtBXea6eG3EQ/26c4Uu+Ydps6baruS303BGsm7Hzo1SiMKTp3aiUfRmUY7alTptgrXvEKe8lLXmoveemL7EUvOt9e/vKX2xsueoPv+y7xLafstS92feuUo8E0EHXiYxpGhuzC8o6AciSDennRe+p3+fbOGTOnST8pk7l0jD+dQvopvcamZv/5SDoJavBsQFpn0hXjqDL8XBd1/DgCtcOGqS5M+zwLDsAzDBh4ghtI1Sl0DeeFe3R6/Lixxo+gU79JkqvzNNj6p83lOQU+NStFwYlgSpQPCaPjfpZU48+C54bRd/0csPb2TjdcvnvnGTMo4BnkMB4YnQvTJO9+9zusX+32pj/eag8/8JCMB1M88v5kkH9+2WW2e+ceO+OMRaJnonrtItu6abOtXrFKeXqtXzjmzppt8+bOlddZYCNHDJMXP82OOvIwdQCrbMWypUjdpyOYKtq04XF7dOUqbIgoSr/mX67AGgFUMdwLfcgChg9DSw14zSrHggUL3AsCUKww+PsV6pkE6FcDxBgyooBuZnUoifn1ZxOQVUPjPnnOHTZWOkEnV67Oh+mTyqpy6+zm90rZssh58oU2Vs7C0Ucf5cc/r1u7XnxJ9OFAsFOroUEdRI5f7fLwiedbh5Ej04/QUyI/ws89C4gYn77+Lj3zo9sVVl7Ob7oWenrntdc/Ga5SdfZ1I+p8kZepN5cHjHqGwb17Bcr0oLjm1hY/pLBOdFW4XrAALk//GR5pPNMAnxPfYSXtvz3n8Se+IdP169fbo2vX2Ii6Osm9Wgw4hNbyL4Vc3fAW0Qc3/IwWic/V8VDAIdcKn5LI8YZGzS4XPoShYSal/muYEwrClUDPqztZYqYD+CH0o+cfa5s2brYvfvFLdsstN9n9S+6zX11+uf3m17+xRWedbWeecZZysg7Q52fe/OIXv7Dr//AHu+/exfb/Pv/vyvu4nXveuTZ9xgx1DmN9OyEjiK/8z1fspptusJUrH7E/KP03vvENW716tdcLYB0AhWffvtdVBiJ0JAvUn/f19fW2dOlSu/Ouu0XHA77YvXXbNt+euHLlSjc20YCeURBKZMQHJmvXrpVx6fYtpwfLk2xuaxEN/b7wKmvnDYbzZY6cf6R33A8/vMIeeWSlT/+wGHvRRRfZOeeca7/+ze/s0ksutUcfXW0bN26w3/72N/bjH//Ydu/a44altKxEnUWR7gckA4beSc/w6qkaTr7/QIkvWhfYKI3o4C86ysd6jCy61PEvX77c7r57seRyl+dl5LVzx27bvHmrGniS9TMN3i480PFyxhDTIz3+TQMfmaE1KBPTlPubwHMc0O+rr77afv/737ue8eEjP/7OtzT7GvbaazRKO/b4haoz8/mxnvTX2IZnH5z1IpEfmqdTRh7eRnOyO1RwyD/OwvgWsLgpYXZ3ddqy5Q/5aZvz5x9tRYWl3rP/9cZsMH+aN+S8mkL3GidOnOxHK2BUli1fZvcuvsd3Cpx2+hn2ute/3kaNHavshfLw2C5Y60LkjJA777zTd9AwhfOGN73Zyiv4CrPQZs2e7TtA2KWzbt06W7bsEXmrjXbCwoUyRuf4l4c0yGR4Su2Iw+fZpMlT5JWxLTNN4wDpfymHFAX9WL5ipQzXFb5ldPeO7TZi+DBrbmywzWoYN918s393MH369L9qhASfh/I6dcqFtn3HTlv60ANWV1ttp516qpVUVDnNpH5ijmcOaBjt6mz27NpuE8aPseMXnmglZRUiJ+1O6e3r9C+S77v/fp/7n6WRV93IEdKf4cqzx9asWatO4UG7/8H71Sk22DHHHmeHH3GEZF/sHem2bVuttqbSTjrpVMlstPO5panFO9U5s+bYKSefmr4MHyj0aaRHV6+0yZMn2IJjFti4sZPUmWy1f/3sv9jll/9Ko7u1tmf3LunOdlu6fKk99PAyO+64hfL+h6fKPIMQHRR6hO0rki5v27bZ1j+2Vu1mvjqopLM4K89lb3+w8xpwR+/aa691o8/OuOuuu86u0/MqOTTvetc77fwXnu914rA9/2Axh4M1jecaDLYhOt4B27F9m23e+P+19x5wehbXvf/Z1e5Ku9pd9V7oYCQQBoMxzQ1s45JrmyQusWMc4wKOnbhc595PnOsk/5TPTRzbwXHsxMEFd4NN6Jjei5AEogoh1ECot9X2pv2f75n3px292hVF7+pdLntWo+d5Zs6cOXPOmTPlmWfeNXbMMUfZod5GsV+W5eIdXgHzYEKFC1zyKwOw/azbL+kFx/rnn7Pv/Ps37S1vOtPe9o53OXNpR8uBSWbvESnVTWu1PODUKq23q8daWne5I6kMR8wPgFdXjfbp/FgbNTotm6Ag98DW7aMplghaW1rccXTbFJ9Sw2MvWwkq08cjrM13d7XHaL7bR5JjxtTFdkEkTScHvfjy0Plw3+X9HUbAl7dM3ROfUWXK6/YZgTtX6O/a1RydU5UnNo6ts+1bN1lPRTpsje2lsZ3TG0SpQLLa7c5j9Zrn7OeXXmIVXa32P7/yZasd706ysjrt5CnglxoYwbZ1dFlna5PV+sh8tMtxNy9gPb6atfaOVh8F7rROH0Ux/R9b3+C53BG6ettdP2z3Y32eEzn5KGbsWLbXjkkOw5nmGIbezjar99F5zeg670R2u057fDaw0Sb4wKO21gcd7lDNOBKkz3Y1bXMZV3j8GK93rcdV2padG615V5u1NvESFfup8I6p2m2hxqZNm2WN9bwjKB3QCROwMxy+3/m12666+jc+A73GvvSFL9i81xzvmBhWlQ9WSmcPpQbqkdpWOo2Sbx3Yy04cz5yBxZbombNm+4CrPhxo2r5Me0GLfa6H0r/HerkA34CcPuOlDrffu++6067+79/6IPIP7Y1vPAsEbzvsFqNbHqrWMziUfRiQBITivbff1WJbtm6xqazpFwSXlHsgsLdQY6TvTSXOyME7MBqqrrGx3vAJNe6cJ7A2OrbeFeMdAvkxMr8wPav22QE/9DJ56pQ4C4etfrt7XXmMeh2PLqYH42SrX2zfqw8n0O3lIe04y8bx4jA56GIozhPOdaAXuawFwiv7rxndsy99+rSpsaZPYzj0kEPjo5zYqz5EQCdHo+Nl2iYfzcbBeD5S5h3IUAM7Ueq8g4vz4l1W6IDZEA6Dl8szZs62uXMOjXSpGueLg58yZapNnzE95MMXvCzNsIZPfQD27k/wzqu6yh2zR2GLvB+YPXuO5290mdeGfmmaDA7Gj5/schhnNdVj4hmFTp8+NWZY8+cfb8cdd3wcFcDzIXMPifKGArAZresDzBrpelkarXc94RhJOfC2M7SAvOUgqQ/HlPB9xbx58+KDxxNPOinO32nwNpSWqtLImSWtyBs5hy8gfdol7+34kJOlQi1blxPK7vSj/qE9H0m1NPlotsVa2zr8ySMrcaEHKiCI7x0qfHQ8ykepVe6YsTm3t/jgicadzrrmC1CWdDwGA/PgrTwccPr0HRwfZfiomlE4XMa2ycKWQkbx7OGmboy8wef0wwCPS+eLMNr3wgt79vNlGbhMkHhhGyDDOpoyfQUNAH/L3n46ruDL8+c0SgXUDfqsl493pzJuyiSfmHndnJEhKG4foIg0Ok8yjdUv5OzyYzksfIEzUu2yCDeAuXga5xWRmaOwKyr5PV/pAT2j0yTPSp82UY+kD796BxtLan7P8MBLharrgIPNHNFtx0naKH+u5BsKn8kh95ox3jkzRKCTcJ1iT6Mdp9RAHSiPTo9dQ1Ueujp8ANPl95U+A+EjD+cbW47Z6TAH6kNdNEPlyjNAmgu0oNL4P3QVY6PouNHM8ITglwGmX7E5BijR3v25vz7lgTJbBUorTM/8lp0RjY3jbc3a51ynMR5PaQcMlKPgVaZFR9WT4yLg2GgkOAecMsD/LF+k1VHPjcI8YIwEmhZf6rJuSk/O8QmjKj2WTgKdE9xBEeJo5p6YN4Ty2bYZo0jveDDscNqFMsVpAlwZ3yx4DGUXYrnhhRZ800gIQ+H0kRUj4x3b2Cq6y6p8RF1ZQyfFev7QTk6hnWrEzKg65O0+LlZcOAKhj6k9ckDQflPhvKZOmXRH8isOn+T0spPz2JOTTo2SBsgfTsZtrY9fxaI8GivHLTMqcxrJy5AQ8oiOulBuZQwg+GIZW4UWzjY5sFI37Jwe+nYWuHF50MHUxYds/MY09QE3We3wh9xuZctAamNJqgHUqXBLmtrpcAH5hX7wtuO+oGnnrliuihe5Xle9t1O1DjaUXWqh2IIx8zUuSyZ8Bs8PPUfPWGKQYl5sEHCPceZxgBwIhhoNLcPjysiFKZ4C8Xl4IcgbhOji6AkC7sVHqYHZS6XTbW9ptT7vtMY1jLMx1TWxFVV+cCiB+lIvguqvwHMe8rQ8XZDfC4rzKKRBQNIP+XJHlAdA/JXyfcpgoLJS4Hm31Y7h/dOY+IgN59KPF7fDFiS/XJ7Ftg0QX6zfVwow0GBH1Zja2ui8xDn6KReU3ekXV56th3ycxY6aoRBLseHkzwOFHCe/V8AYaezFRqlQDPtLKwZwckeV583zFz+XCpxqfKjmNUtLHsxaGC0zbfXn4GwIbZc6UX8F1TMPOQyWxj2ORHoiqKPUVQFcxdNJcw+QV2k5nu6Fy30eSg170+eZzj4d4Mc7BPbpO1fBy5Aqp0QgGalOkinyJyg915NwhzvE2UiuAr7GZfAUA4fgW7yXRz/DyunzYwnxAdDo0bHnOSTmggFH077ie4Cr4vPrCwGGo7x5yEHGlaflOLpPjawflG8g4xStnM5LgZw2QXSKyyouo7g8pe8/8NLbR/iNPsL30eTmTZvTi1xPO1BQGYJimgM9Ky6/FuMJJJ9cLrnTyHWWx+U4eTzXHFdBgN0Vxw/GG7C/tIFANLkmfuCVw/s6rMNnx5MmT06HejlaAXW/INnloRyQ10vAveop55/r5ZUALD/REU+YON4HBVVWN6awk8vlnOpQnnqU3emjSAIGx0/NccWpuGpjDUx2mCs7vx/MUGXEA6UPln8wWkCeR1eg+H5/NIA8XTTzMBDk6chKcWoEiisumzTgxXaCwlE+1qmJ4t0Dv5jFzqNuj0tf4lLXuBwQUGZxuYDic95JJ+iZq+L0DORxus/jiqEYJ8fLnwdKV5kAeiiWdX6fA/GDpb0YEA/Q4KBAtpSmUzZ5h+F0/Z+zsgf2V97+0g4W5LLN5ftKhVQP27MVle8Q2FQgKGc9y+70AQwOAfAjGXzRyLkn/ULZ2yC5p2GpcSlNNABdwQFyvGIQLpDfF4No5HSgTx6ujIb1DICX3ysfcXpW3MuFYjrF9JSWl1kMebz4ldxiSl2VtqHu2NVkHd2dNmPmTKvxmViFx/eVwHpynop55F4d2/5A+Yrl/UL5Xi6I/kBAmcXlCn+wPAcG6SthnD3HOjPi95JCbuzuEQzEFwBPih8a/l7dEEuKFfw2bnd8IDgcoOxOP28McTCRGzAvP/jcHyCJdJwq8TikPJDG2pmgeB9spGe4eZpAtAXCywMgGoDiiQvH5CG2UhbKpyFxTxDoWekaoR8I5DwV01NDl9zUuAVKB0jPeeMa58XzXGXWxEjFcWo5kKySXQkugwG+K3ipIKdOeTkPAPHwnsdxr7oQuCfkAK7wSwmim5cpPiRjIMchzbEiTrxzT3wp9M/yGx/+cdgaL3Lb29pjA0SapaUdS7n8chDvSk+8vkSA7P7CsIeBmFY4UHC9u753Nu0MffChWWnoHhiU9YtcCo6Gwo0b3OJFi+0b3/gXmzF9qp140gKbMWOGdwJ8IMOPC6cDsALfgR6Uez6m4iWa1v0wco464J6vZnkhTF7imP5SXZ4xdGiQj/cIODh1OkzJiCMP+JRDHPf8chONlfTYKeEOMLYPeuMjnvcRpEV+ft7QcUSTdGjAI+vj0OWH4EmnfA6cEg2AK3xCizzwDx3yEQcu8doVxLNeePEMHld95cgsirLUyLkHHxpMPymfOnPyJ/zwI+ScUVM7ptEWLlxsd99zh+N32Xnvf5/NnXO47e5hJmBBH9lRLrTjUCmnD/+8YIQ+8eKLAM+UhQ7IL7mRL0ZHjkt9Gb2CD5+AaJNGPDyjT+jBA3kpj3Khkb9gJV734oclRWiTD7oE+BB9yiMdOsQDxCNb8vCxF7qUjUETPNK552vsOF7X6TK9Z/8+9PiAChdb6dWCL/CRgfgUUK5sABrQ5BlAf2wf5fcDHrj3AVu06H47+5w3e9s50do7u+M7FDoBbFb1oF5cJUf4pkzhwAdAHGWBCyBP6gcQR92jnl7/+KUwx+cZ3sgbcnc8jq+mHOII0KccyV800SN5oAteyMiv4CKPPA7gSl7oSYfkx5YAZEkc6bQZ6JIOL5QtGXIOV+g+9v27K+Llq1+r+P7G8xbEEeXxTB25hz7P0BNIP1xTnUfFF+UP3HeP3XzjtfbpT33CTj31DQgwthtzvAdbwg82lN/pU7z/Qwf333uf/ft3v2Nj68a48FygbjBjauutoXFcCBvlS6lqlKgIw8U4MAIcG4c3bdq0KQx51oyZkZeXxBhu/N6t5+P8e/0oCF/M0YBwfNDhy0aUiiFysBn34ICLgWEkOEZ46OjqjDyIkS2nBPLAQ/zylhsTRofzgjfqgPHhKPgdUHiKs/G9fGhzlgyGQxxGFVN2xyEPnSD5n3zyydjlxM/4wQdHLROgzzNyoC6UiyNkNxQ8ybkiFwLlIRvuKZNyqAdxQOO4hphFtTR32tYtO6xp53Z/brUjj3SH31vhDqXH+MlGzn5BppSBjKAhehs3btwjT3imztSFry8pl0O1qCe/XiadUhdogEMaDVRxyJf6oRtwAa6UR53BR3Y8o1+eKRvgXniqNzThk0A6nTBx8AieBgLYGGuz6I0vfLnCEyfD8hUpeQnEkZd8wVf8EBCzpp6QDd9zMEhgW3KwX5GcIjZEPviDN/Lm9UPv6JM0cJEVL26bdrXa9m1bbcfWbVZTPSqOv+7s7gxnywtETjmhXOoCfcmGZ2jKFmSjyEoDEvCQvRwxciCdNOQV9Yu22xu2lJZmUwfML3lBr8+rwLPqAk1w1Q6gSYCeHDHPyASeqCt5qQPpBO6xAfAA+JPM4I007imH8sCjLNIoF9rUEejoSDjxxa/DaMels+I9CbN3PuKEB/gDD9rwwD1AmmgKKJu4pl0tcQzLxvXPeXtps//1lS/Z6WecYVU+kN3NR3/u+Mux1FJ2p+99Ytx0d/fZEh/pf+tfv2lHHnGozZt3jI8mZ/lAhkaSBI/SABkBBsZIm2cUQVW4B3gOxbrTxemQhtPD8WCcBHBopNDGWWL8pOMsUC4NF2PimXvyCB/jj/JGVcYzgCMCZFAYrbvD4BVQHgK4XDFYggwUXAyU8uREqRNp0FXj4gpfaqBz5syJhkxng0PA0JEPtDFAcNR4qZNkST3VkEOeDuTlmW8lGOk37Wy3VSvX2OLFC71xtNqZp59mRx99rE0YN8U2bt4Y+5BxhOSDthwCdaBMHD2yRQ8AMuQURRy9yqJTVh7kQhxOQzogDkAO4MGz8pIuJwKgD+LkHMABn/ohN+LhBzx0BI/EceUZwPkTB++Ux4F2lIfjp2NG7jhQ5yhoUifN2qBBHDh84Q1Ag0C6rnxA1ru7K/QmPqQr6gkOV+J0D89cAQZMnV10yk227PEn3PlvieMLDvX2w6+I7fL42pqxiQ9wvQwC9LAReJQsuYKDDAngqDzuwRFv3FNXZNze2hb0kS2yhgZyo23xe9dOONKhT/2oBzQE2Ao85fWjnUKPZ2wGfAJp0CYPvMMnZcILMqRseGOABi5xlCn9Qo970qDBjhq+loUWPMAjOgWH9gnftbVj9/ITxGE78CObRC7QJ6jNIV8f+tiq1c/a2jXPuIvvto9+5IN25lln2WgfyPb6KP9V6/Q10ufCGejf+uY37ZRTTrSzz36TzZwxPQmoV19TplELgIJQFEchMGVWNbodz5NcoenXhNg2FXiOg5HIgFAkRkAgLwolHYWRBg7GIAXyDA+kEQcuPLBdjm1zGBv1AIeXaRgxeEwbMTDKx0CDx4LRYUAqjzjxCF3iMDzoYdTQhwcaBGnqtBRHOvTJq0aBw6QMcHCg8AQe5UBXdSYgAxoxNMGBL5x+R2e7j3oq7allK+yK315uY+oslneOOOxIL29cnI3D+xfyUpZoI3NoUqbo0yDgRWVSPiN9Ru80bsqmo+Oq2Rd5iKNumm1BmwCPxEMTWaFLnomn/uQFH/1RHjwiK+KQH0BZyIsr/IOHs4A3ngkAtADRR55J7rXuKCY6P11RZltbq9dnopdZ6+mtgcNSAY4CJ9Psz/BbP9ZnED7q53eUoU15AOXBC7wC4p106Ks+8IDtbfYZGL+kttBnyUuXPmTvete77LgTjrPxEyfETK2t2XG8o1Knix7oyCgTeSJ76o+MoauOmrJwdMgJe0Cn4JAGnuS+s5Av2Wey9fRhJYMU70xcJ8iAeOxYDplnAnWjTGgxK+TKDA9gAIYcyEcZyIXBAbxQF2yddOhRPrTJj/7Apc7wSznUF/uAFld4AgenzzMAHeQLLeLI29bWHrbGs+oNfcolnXjxQUBexEOf42R2NrXYooX32TNPP+7t5vfstNNPt8oqH/y9mpd34tNk/8NgNm3YaBd/+9t21pmn2bnnvs0biwuE6bEbUA6wjKDz+7waSsMApFABeMpDAAdQnhyK4zAS0RMNnonHELnHaJQOEMc95YCHkQOKI13lKA+Ql62yCDkO9PJ4rpSve6XnoPqKT+EB4lX542Ar79DYpvP08tX2wx/8l82YNcE+/alPWp13xn29/FxgwiEvtMknHnnGcYumAsAVXPLpGRC/5FWcZMSz+AZ4Jqie4h8QHYA4yVrliT54os1VeAJoKx9pwklAmcibgQS8kS/REm5xeQkHnuLiz/1lA8pHnED3KjvR8XI9jtNXe7s77ZYbb7a77rrDPvGJT9gxPkuO71y8qMq+5Jj6ee6X5/5AZek+h5y3HPJ6FIPS8nTRoRzJiXTFC5dn9ABe3n5EL6fDM7SIU8jrq3y6B0RDuDkorRiH51ymAuL22KN39s0tHXbPXbfbPXffYh/5ow/a8QsWOFEfDJbR6e9dwzJAqnMSKr9stGXzFmL7FTWATCK+ANzzxIskQjyhSw9xNkfS6x4IZWRGwL2ei0Mx0NCUltPgHB1+p5Qe3lPjj7IJMgzyMoLAaADy5yMF0VQQbUDPMj4FaOb4xdc8PY8jDASk70XHAw4NJUyePNHGTxhvzT7CpYPLjZ+g/ADxlKEGKpoKPIesCnmL0wmkk5+r6lHMt/KpTnn+nK544V6geOHqSpzyAqKtOIXUuOnoUx79rGOyZfLBB7jwmZ7jsDd/IMAKId2nsoH8qkA6ARA/ckCg8xOSnV2dMUvAxuR0OKBOvCufngcDlaVyB8Ilbk+gjoXAGVT5c8QV6A1ULs+k5e1A8YT+OqYXwwwglCZ8tS/uKYN4Pefl5rQE3KdD6dKVDpz7PIhOMT0gpyUAh/qkOsG326/fM+MnDR4EA+U/GJAkVGZADNSfKTPGW1NTePHjgesLB5SSgpz/nk5ggIDwBwsD4ReHHJ+jCTwyledGEtcsPU6G9Cv5AMUPRGugILz94ROfG/xgUEyLAIhOfq+ATLFTGh0/GtPi0341Hhq1yiVwr+fichRIo0Fwn+dVnmIgHsgbrYLilVf3g9HL8yrk+IMFAfgAccgDB5sD6Tj3PNDwBwqilUMxPzznIeeF+2RbFXHuPMsxaXkmvYtgWYVZWE6vOBTTJxRDcfpe+YPGfkI4zn4opkXIoTgt51Ppe5Xvz8X2Vpw+UPzegbQUcnyFF4JiXK4hf7+6OcY9v44H8PsO2Gi5Yf9e4iAAI0kXmV8rYn2xsaEx1uDowZOA+oU6YAAFPAXA4xWK8QHoDhaAvfLoj7yD5Pf/+uPjrh9yWvmzoJhWHoDivP3pjHD6y1XaC4HoiSagBjAYkMT6MeuiseVwD67TKNARD8W0i0H8C/Scx+WQ4l+4XoIXolfMY45fHIqhuG4D4RDVH/al2W/XiV4OxbiAyiwuN9I9igs/lMJ7Axw/szAwYwScSOyBnHbkd8jp52UAA6UV09jfXxqD7w3F9IqhOD3nE8jLziGPHygdGAiHZqTgLIfs8rA/yHlV2AucHu2Kdzes9/OOgn37keRphHJAmZ0+tWYdzu9cFrzQST9MzU4cNPFCYnfYL0qi3x/2lnIInmIi5MbgU/fdPbGm3cdyN3geeOnM6Mlj91DiV7NQdrD6AuzmhrGPgQwCiR/u0shB/O3u48V2Ya/xILRUXh5eKlRQnl+b3KG0dXbY5ImT4ihfaPHByWAkByvvhXhQPuG5WmDCBc0WOq8vzwVVOlaMNokKtGLa4GT09kl/ETBQnr3pybbQRQocy0zh6KoYcnoD0d4fFOOzjMNv9TLjYPcZgyVeOjpi4O6vIy8FvBD3PngOPvKQw0BpaoPqHIkOe/f2uEfxe4UEOY0c8riB0qMSeTgAyHmIq4uf33XAa9TxMnpsg1WOqgm2fZhVNudbZqfvDMCBywcZ8fN1W7Zu8oc0TU/f+b+AJkK4RcH/9Ye9jQOgLfLiDWevmQJOH3Qg3Jw/cOVM9d4ejA6Dc/Bpa5QZ6Qlw+KFweC7k2+uvYMjF4cXAnoabWAqe0ygOGmoEPKaR9kuB3EiBAfM7eVitYsnNeWE5K2Tm4O5tr3q8UJ1U3v7C3uDPlM8tPzPputgDKTICf4WIAKcUf4BkPVAA8jIVl0Nx3L684pyQRHL2dMboJZWx/zoXw4vBGQjA8tJipsy6PmXH+6wieLn0BQPlZxFnsMDfSwHoAZJ5anPIMbU94kHZO+zNT3EABorvD3vTC5bzcICAXrq601n6NTXpx5Be1AhxCGFfyzjo0F95tn81t6SvaFkvZiQzVIABBX0vXgpnJB+N1SOTc8X4WBflWkg7wKCyMWjKL04vDvAAbnRSbiwYai4z0sAbCoiSvDwvOV6isUbN9r9OH1F6oS6X9GI157ek4OTggR+fgXS/fkIb/leoe4oISOn+l19fIOQwUPr+AiNtv3hGZj7+7AOEkFmM9pOzKhVQnpyV7tn909HZZVu3bgt7QifxYRGC27tqwx4kUyA5/LQFGiBeca8k8BrFgBL+k1/z7hDlZHU92DAMnL5XnH8eEAgjlVhGcQWHcEoM7MXFkJgG08G0tTZbd0+Xs4BBpYZEw8XdNDe32K7mndbJj5zHl7d81ASvKCyN7DSqS1Pt5MT3B+AM5qgT3b0DPCXHHxjxKX9rq/O1a1ess++NOwQQtJPzZY9yqMQ7ZP7SJCQ5IYVSAz9H2Nrcah1tHX7vMnZBhHONqzsEv6/wwBUZIFs+TIqQhDYogL8/fRSD8LGh9K1AR3wfwJ7spqYW275th+umPewrlt8q0jJPqQE5wwtXXkDC09ixaa/8npe4yKT06hhSoE6sfSNT5LtrV1O8p0A/yPTF6Gg4AfyKb1YMeCeGrgRD0V5eDJTd6acGhwAsXuJyXg1nidBW2AJWamDnCOXdcced9tWvftV+8Yufu/NkRwpfduqrX8782G2//e1v7dOf/BO7/fZbnD++VtTXhIX90sF7v9NNyk2OJr8SL+cCCA+lKx3jEI7iAN3DX7M7v6efXmFf+9pf2+c//3m77rrrwgHJeJSnlADNWDHz/xjtT506LbanEklxxbseSg3PrV1vX/s/f2vf//7344fZ2X/u0vCBNY7fG5DLRyBZwDNOn4+EuEe2AmSsIAgnXaCTZJ1CsU4IasQAH5Z9+9++bV/60pftggs+ZR/96Pn2F3/xv23JQ4udELh8YDU0Okn19I6N5Ta/x8nzMRUhwOWDAx3OQD1k38iZD69+/etf21//9V/bF77wBbvooovs7/7u7+zZZ58NnFwfwxHgkZCDt4qwWQYGcSxIZnflgmEw0k/NgiXI6hocctpmhpMBSu1GpBgMaM3qNfboo0t9tN8Szit3YIyYnn12nW3ZyleCfNKfPodPbZgGxdd74DqP0QDVEPsVLyeUOwqAOEC4Mvzi7WdyTMQxSrj22uvs2xdfbEuXLrXn16/3DuDp+GIQvOCtxBB6oeN1XnbubLINGzbGvmPOJslB/JYaQma7K23tmmftsUcfsw6XAcW0trXYFVdeYdded03MeGhI0QEz2icjSB6qvZNitI9cJWNAToMrfGsPP88K6I44xSuv6olDvf7668Mhvfa1J9pb33q2nff+P7B169bbJZf8wDZv3ujlBmrJIJcx9yEerzNfvo4pjPI183SM2NEznEH1Qb44RAYxDz30UByFcOyxx9rhhx8Ry4mXXXZZ7HxBT9LDKwGoHg6fWUtdbZ2NqR0TNhk1yHR5sKHsTj8U71JwE461SBoxDS0kk6TDfyUDjAYHziFkDY0NNn78uHCaLN3wfQBHPmBXsMXyTuUozu4ZF50Q+dy1B058Lu8jTXDhN6bVnomAA5ZBs6OCMuU8AMoDH+AqHAI46iTIk64Vdv/9D4ST4eCuo446ysY1NkYZ+rBlqKDPeaUmfL4+a9bMcKL6VbNCFYcUcOStLUzxC7MoL3Tzls12w43X289/9Qu79657vFGxPOd6cP3ESJB1dv/jWGi+mwg6fk+a5CpdScbQzuO4EkcaIN2hL9JZSnnnO99pf+WzxU9/+jP2yQsusPPOO8/OOvMsW7/+ebvltpu9o05nMQ0VOIuoYY/+c7tTPV8JAJ/Y1+te97oY3X/5y1+2P/uzP7PPfvYiO+yww9z27w/nL128kgC7YVkSvYwZPSYpDFsrpJcDRv2NQ+G+LMCWJuvDYZqP6NbZbbffbKecclL08jT4ysKHPC8fZCjQwGGnmcT27Tvs5ptusqlTJtr84+bbxDg8C4etkWGfXX311dbbvcve/JY327Tpc5zSqPhl+9/+5jd204032AP33+d0dsbIJN5FuDLJy7T/2muvtYULF9rdd99tK1assOnTp8eHM5QBzuOPP24PPPCA7fARzp133Wn33XdfdHgcnMaIRg4HRwW/vKB7zWteY6e8/hQvc5ute36tzfPR0BvecFqkQRM5HZisiiHJjsOh2n1k+9gjS23T+ufs9NNOs1pvpK6dVGZglR5oH8+v3Wh33nGLzZg11U4/43R77PEn7MabbrZlTz3hTrXVWrY32xZ3CMw+Jk6cZD5OD2+45OEldvc999jTy56yNWvWxMic3S3MVNABsn7o4YfDoSxfvtxWrlwZM6jFSxbHmvKMGdPjetVVV9kVV1xhy5YtCz1PnDhhj0Nlm2TSaWW8pOOKbp5a/oQPEnpswYLjrbEh2VUpod/5JZvu9k5v9arVPhNb7/bwBhvHQMYHJKztj6oo8XSjhEA9sHNsiMELp9Jypg6yJZ4ZDG0Hh3/22W8NeacPv3I7Hyrre/kg3hh4oINtPkh5atmTdrQP1uYeckjYKoNHeN9TjYMIZR8KJKW7Y/G2you5cePrrbaWE/cYcaUG+vKBvFSRIDo4qQpbtXK11Y7hpEEfjXnZNA7aEgeIsdRUOarCpkyZbJ3t3bZl/ZY4aqHJO4pLf/Qju/P2262+tsGqKqrs/vvutc2bNriGcfgVtuLp5fazn/7Ebr75Rn+utNr6erv73nvt+9/7nu3ksCh+CtI7lAcefND+9u//3v7xH/7WVj79VJQ1c9YsN/50DjkfQVV5ftbRkcthRx5ip515mndQC2zG9NnW1uwOb9d276Q4JK3Hr+nArj2AX5BveJFAI+x3KAl4qY5+qt14W3e1WGPd2Bg9x9bNobZYJ99XxYi9xyYws2HU7/qio+3t9BlHS6dV1fRZ926fKfngIabOfT4r8g70+9/5tt196822cdMW+92NN9p3//079vBDizydtf5ee3L5Svv2v/2HXf7rX3gHfq07+4X24OIH7LdXXG7fuvgbdvW1V9olP/gPu+qaq72DXuY4t9ol3/9PH5isCIfOS/we54flL2yVl8vr16+3Rx59zEZX19mJJ7zeGusnFCpSOqC9CMK6XS/xQrmjxZwjq6hy3YDT6+1ntxvyS7SBgw2yITpldQLUifitW7fbtm27YqNFa8tOr6+nuX592OS4NFuWP4dnBVNbch34H7PChob6aKusKMQs1O2lXJyX3emjQlV+0mTOgh8TxwOHp4m9xgcqGoyqP2BMjOZ37WoO58rSQEP9OFLcmaXP2sMQC8s5NB7ScXKrfTR422232mmnvsEu/MyFPgX9on34gx+KUT58rvUR5U/d4a9atTKm++eff7590qf+F/qUlZHide5AOts53a/bO5caa21vtyk+cvzYx/7Y/uD3z7PXHHNs8JQaNmMBHK7zE223NyTBUcfVVaPTUcZVldbmo114Dl6HANQom5ua4zPyOu8oa6JjYlkkkoYURtV4Oe7QW1rS0cVnnfVGe+tbzrZJ4yfb3Bmz7AMfOM8+9vGP2nHHH2dd3d12+2132M8u/YkdNvcQ+z9f/Uv7zIUX2sfO/7iNHzfObrzxd/bYY49Yq9ejo6vHduxsig670Tvm973vvfbFL33R3v1777bVa1bZN7/5dZd1lX3rW9+wH/7wh/bud73b1qxebXffdbvLvCleJPf09tlGH4Xe7zO2m2+51a688irbvm27nXzyyT4bOt3qvIMcWnALcSXUjq2LXzRrbtllO5u2Rzwzjz633eEO2Bd14Mp7FF5Er1271pYsWWK//vVl9qTP1E5xec6cMc2dlRuc/6Ot8v9wg2irhfYSQPvwurX5QIWfSmSWWe2DSiDqHXcHH8rv9AtCSs42ra+yNhl7jSOltEB5LJngQNgONmH8hKQALzf1vf3KYHrPSJuemhFinTsH7lesfMaeemp5jLDnHTffDjn00Fhe4cdNWCZ4y1veEj+WwIiYIwuOOfroWJu85557Yv0eXH46bfKkyTZv3jw71POH4bsMWFby2z1APPiJt8QfSxN6YcdSUKxjZyPAUgMq4shqtmzi7BmJ+X8FnoYWar1DnTBh/F42wTJNQ31DyCUO4XK5YT/NLS0+w7o5Driiw2XmBJx04on2/vPeHy9dFy1aFPn4sYzQw7hGO+uNZ9lrX/tamzZ1ms2ePSeW+hYsWGAf/vCHvKyJMRCZ7HHMvnBImzdt9vJGhX0sfGCRdya32F133RXLeuiowjuppqZt1tPdEeUPGbgwsANsLOrisyH4SrbAYGEoWlDpAPsFaH/YFLt3rrzySvuRz6bZOffoo49G/KGHHhLnCkWFX2HAoJLt3uiHd2HohittqlxQdqeP4mWbO3fsjN6etVOENBSCgSbrh7wM5YUfZ8EzgkUZ8QIw87gcLsY2wTZ31Lwa5FeJ+LUi1uKv+O8rYq2YM8Y58Ir981rXx7ksffhhW/HMM2G4dAYbN22yXa0taTeMV5jdCOw64cc5cFLR+XnRjNijAwwO3K2yhBCdYTx6vpY47ZLGza4ARnTIKhzxEAE+hE6qwTs9TtmMrYCht6E3H5aXWprTeewoj1+eYl1duyKQP9JCPh3t/I5ASwQcMh/7sR6MPtAVHTK/qAbsam62Oh8hTxg/zqZPnxZxLCfOnXOITZkyxQ4//NDYEYPQe3p6PW6q1XtHs27durAfOlo2AbznPf/Dvva1r9nf/s3f2F/91V/a5CmT7Oqr/9su+cF/2rr1a4PuUELwsrs3Nh2gl/TOIsEQNJ+SAjZLeyNgw/yozoc+9CH73Oc+Fy9yP/KRj0RH9tOf/tSWPbUsOv5XFvDuhx/nqfZBZr3bGu22MGgqI5Td6QM0WIBGzOgbodDY+SFuHF0pgZF00Hfa0wqNnR9F4BnDgxmMiwbD2/YJkyc6L6xfV8YI8ytf+Z/2hx/4gG3dts2+8hd/EXv9cew4fhw3I0FGk4xULr/8crv+muvshutvsOqaajvn7W+z+saGKBNnzhk2E30kyYxAI/YkC0pPTRaa8BadggM48NfknYZ+EIJ04vIO60BBjRHajCY51CvOdnHHEmXxEuYgADtgqDPnMuHQWAvFwQHEEwSIiN1NOPf/+I//8BHjj+3SSy+1X/7yl3bH7bfHi8IjjzwyZI2gm5tZL+60+oZ61zEEKv1+XMh006aNMUJD7umDuFbvuDd6WkWSu8fHRgPHjV1dnp/O6FOfusDeevZb7IknHrdVK1clxkoM6ERXOiQ6Phw+g4444jscf9LfcAb4Q74EbW9GtrzMpQM466yz7Jxzzollsktdl8uXP5WUPEyrpTaTA8dpoyc+NGMgAsT7w7grD5Td6cuZIawaH1kximVPOkADK/VwhUbKDh5G2uPHjQ9FNPhoIhy+A0c7U2iLx7sKE36hkTFCP+LII+yCCy6wCy+6MHbaPPXUU/aDH/wgHCK0WAI56aST7E99tHLhpz9jX/zCn9uXv/Ql++evf93++PzzbbSno/Bub6S97qDYoQAw6k+NdV9IxgQP6efgcHTw2eGdJL+0T7p2/BwIqAHuBc4seqBD5psAOinKiqWo4GlogbpR33QMRNqeGvV2/eHoWKvnBS4A76wJ00G8733vsz/+6EftYx8738PH4iOfSy75L3vve98b9KDDksEUn72N4XdrvQPmtVtXJ78mxpKR15tZmUON1xe7hC4jN0b75Cc9PsCqwFKSfiZPmhh8MnuTTZUKkIV0hK5RFfeM9pkBxcDBR/1sEbQ+x3MehzOoLtQLWSU7T+6QgQUOc/68ebFVeNt2Xuqmn64UeO7C3fCDfj7T9m5G+3zrQucG26pnOWDYWAUy4FNyPiiJF7kurJ6uoZnOMTI76qgjbfbs2fbII4/YU8uWhRL4VJoGhLpYksGR82PkU6dNDScXRkl+N0aWh77wpS9GOmuRfHFHZ8UohW8AGFVOmTolPsrAWRD4SjRRsPgpN5ZMtm7ZGmvV/MoOoIaQG3fqqHD03Z7PDchxKSP4KYw2uedaakjrwsmZ8qU0zgYHHF7xINgtjhkZI1+NlGb685TJU8LZ864BRtThMRubOWNm/Fg5L7vZekn++A1k79w59Io1ejpnOg1Ob4x3JJ6dWeDmzVvTgMDxR41KS2ux5OZXdMbMg9/IZSDALhl+wL+3l2880rJcR0en28NWG1NT6+Wmdwqlhn49Jxtp9NkJNoFTZCksOgTsNaYvwxfgk0B9sHfZMY6RTiBm1xPHx0iftsn3Gq80oC4sH/MNEMuB+JfQT9a+DzYMC6efHBY/1JF+W5J1PHpxBDQUwO4dnPIJJyywObPn2JVXXenT8Sdsw8aN3nC22+233x77s3EGH/zgh+yYY491B9FtDz74oONeHVP9He4YnnvuuXD0fD1Ib3788cfHC0G+Krz1lltiZMxXpGzl+81vfhP7wNMWyLTbBjptns6OHYAlA2whzCF8rTeCgkPzbNbpDgWHtGPndpdTa3QYNBSm93QKyLHk4DRxhrF84I4SvpLBpnoMNTB6bXaboI40IGQxddpkO+rooyKO9yZNPoJCDjjy446bHz/Ufuedd4bc0Ru8o6vf3fC7WLbBmTBjApg1JMeTRs8s0/HugmUGRuzIlPo3+fQcp8ryEe91mPnwbmfVqhUx2meETceIjjdv2mKz5xxi48aVfsumZC7HD8+UTT1oL8wWSVOdhjNQFzl6ZMcON5ZaVTdmt3fccZc94zrmozfaVsTH/68A8PphQ7wT3LZ1W/gDILXT8tWirB9nhUmGAFByha1ZtcYWLbrPzjn7zT5amxWjrwP/OGtf6PGRGRTnHjLHjj76aLvl1lvtencIv/rVr+NjnWXLnrRxjQ32uc9+1ubNm+888mtP1bb22efsit/+xp54/HF7cOFCu/XWW+Kc7I+df77NnXuITZ4yNeg17Wq2e++7z55d+2x0Jvfcc7eXVmGnnXa61Y/lB7kr7KmnlsX6/xtOO80d2DHu36tifTaWBJy5VGVuLKbrS5Y8ZP/xve/ZL3/+C7v/gftszZrV1ukO6tZb7/BO6s7YJshOkz2y4lK4fbGgTiOXdzLP9OPyjyxdZC07t9kbTj/VausaXCyMgId2kr1l65b4EO4wH7m/+a1n++g+HTdAZ/qkO4mVK1dbazvr2bWx++aIww8Px3Gbd9x8yLV58xa3qQfji+ZanzUce+y8eFezceMGu+/eu22sx51x5ptcd5O9HnS6u22xd+4tza12pseP9hE7HQcvgB9cvMgax/Hy9r3eadTaNddeYz+45BJbs3qtO6aVduONN0Z43Ukn2ycuuMBnGjPdblh6Kq2E0FPoyslWVPZZR9vu+O5k+47n3A4W2MQJ02O7JrMYZqVDqqADBOrBgIUOlfcwdNa0Czpp2s71111nxxxztP3hBz5ks2bNcf34rIDOrFCnZKvDq4JqPz4sMs5u3Lpliz2zYrm9xutxyCFzXSccJ4GtMcMJ1IMKZf1hdMTCtM37HnfwFd4I77VLfvgd+/AHz7Nz3vZO291TYdVj6vYIsRSAgWlNl3VDRo+3utNnhsGv6eNQGIEf7s6DETyjJ/AZGTKq5+tNRpgs/RDHTg8cPTwSECf52S3ClThogMOSAeXxzJIQoxuWIFjCSNNZRgb968DQAh9g1Prwww8Hn/Cu0RCNA9rnnntujIrz/C8VZAqSN8+8a+jxTo8X1//2r1+32ore2M/eMHGa9VZU2ShvgENlt5TPzIZ6s5xFPYMnH8Uyel+1alXIhThe/B1zzDEhA+TObItrLEU5sLw2f/78uALocOnShz3vbjvxxBNj6g2gExwPdM4++xy/jg554JTgAx2ecMIJQZdlnttuuy10gi2gV5aXOE6AL7DhUzOKUoD0wzXZsN9X9NnzzzbbzTdfbytW3W8XXfRJmz19nuuFcndbBfZQBsfyYoB6KKBPvl6n3SBv7J6BBno9++yzo22CR1pu/7LV4QDwB4gnHH6X6+mxpQ/ZlVf82t597tu8Uz7FRtfy/UaVIw7NDsUXgrI7ffa6V/Dr8O70lyxebN/7z2/Zmaef7KPnC5w5d2I1Y0qqWDl9GihOHyfJM6B7DEpl0nAJOAGMkMaOyHID5F60BgLiSRdd6Cm/rgoyZoA0cMUTgWcB6YDokF5qp49++OV+Zjnf/ubXbeakRvv8n33OasdNdqdfY1XO7lDZLeUTVGeuqitAXYmTzIhHzuiWeNLBR35cCcSLDsDpqem6dzo0occ2TpXHVTRxSjgqloHAFw734gubUTmlgLyMuMYXqbtt57Zeu+66q23J0hvts5/9lB19+MmOzI+Iu924LIar0weK6wTkMtS92gD4XKXzUsr3QEF1EU9scOv09nPf3XfZby77uZ333vfYW895m9en2pFYui6P0+/3MGUEZEXlWZPlxScv59L+9NJLBJoYEYBzwHjyETLpuUFxLwPE4XMljrw5f6SJNulK40oe8AEZrfILH8jpCYgTf9DhWfhciSduoLylAKjC8/oNG2Pt2AtKZcU1GflQAmVLRtIX12L5SSbISlfyqiEKwJc8U4AmATlCh103pFNGOn2TQFkqE5rQSB8M7a0H4fKMvkoJKpvAPYBO6uqcLy+XmSidHhDr+cN8Tb9YNwBxkiUgmee65woMlH84Afy1t3fGFmNqg42xHJoSy8d/kl4ZITUSBJD26QPsvkBKUnwpAZpqmDl94jA2OQ2ehUe8nvOGr3SugOjxTB5wuRLy+ByPe9EoNoKcNqC8BN2LJiHHLRl4GbDF/m+2a/LBEy82iYzrEEJef9Vbz1wVB3CVDIQjuUgPyp+H5OjTlaA8eiZNNFRewu+/1zNXOSU9DyVgL2w15dsFZh0MPJh5pB9R8Q5naNVTUkDGufwAyVH3elacrsMJ0IkCW5pZHmWPPsvBsUFlGLA8tFb5oiFZJydObty4MbY9sgWt1CMlQEYzUBAUGxv3ucEN9JzHDQTCye+LA/kHgmKcgfAVV2oIx1I4fI4dIryLiCODo/zSl1cMqlceVO88Ln/OZVQcL1BccShOyyGPJxTTy8vVfSkBXYh+LHdEx1Rh7W3pvQ8zDxx/tCfwhvlIX3Uh6FnAvWSYy1mQ5xu24GpoaBhr06ZNj1+5g1++EQooI//7SvMgQ+oVQwY+YknLF3xGHz0lzwW8ESgPMJpHPzgTnDzfHvDhUexRL5PRjoA6gPArMdJnyzBbnmkzHCcSfpLEESgb0FkxbuX7DgayfOfCR5m0nXI2nbI7ffXYOBY+mmF3BCdgYq9M+UbstrzA7hYc/3PPrYtvAzBgtjlitejsFQ/UYX9hGEFqJ4kp2kbqkPu83aTRPbPk1HZSvHBHoEzgjj0+KmttjUPx2DnGr2exo6qcuimz08eIcfouHM5MnzjOel0WldV1brbOGp+3h9NJgSktL6p0zzomQfFc2VWhe/C4z/MonoDg8/iB0vN40VGaguIUwFU8566zXzp2wcQ9aSlwX5yP+lDOQPXQVQHcPE00yKt8XBVyvH7+3F0MGvpijZWHjtZ2d/rt1ldVzantoT1GlLtdYXzsxrQVJ6SZgZMuPPfzpfu8Djl/iZ+0TbU4XriiVRyUNw/E5fh6VlzQRAfYGHniL9U7cDyo3IFkSpzsj3jyKY178qo85dP9YHVX3jwojwJxAD/gX9lXZaNrKtyZjLKxYydadVWDOZZ197pthPMHz+l66ENX3V6W30dwnakM8TGQnFUPrgPVaX8hxy3G51n147lYJnl5ihO/4hkdSDeKK86TpxWXqbT8WXwoLs+TxyleQfEqH2Oq9NDR1u7y5oyknTFYEiQtHnwo+0i/H/ps2/atxpn206fPiEao3Qe5gAEJldFOzAYKAgc0GiKdOO6JA0IRhasC6cLnqnQ1ZqURoKOy83gF5RXNHEedF9f+9P68lEXIR3NceU75+usuowRk9KKhPKIjXMXrnsA9HQ/n+xMSb+JVRt8dLn7WzFk2YcIk27xtu7V2duJOwnjSlltoU1d4SvWiU4M+5VMuINkB/eX3y4Nn6qI6K033gPjXM7jQJQ4QrfxZ5SsvwDUvH96TrJxH+Pe/VJeED4h/la21ZvENbqKVaALCVxzX4joAyguvuicMBuDx3qvCRllnV5s1N++w+rHjfKY8pZCe7DWWTINNtwXq6zSjo/NndWriLeXrl5XkI57EL8/Cy0HxeVpeFwUAHO6hmZdfDDleLjfkDe/ogEA86SqfZ9HM78FJei5uB4kH4QlyHROAweoH5OV3d7lNuMhqqjlHvzpOAfDUwpBpX/kdLBgWTh8BISh+wpC33CE4/0OMKAPBS5Da4SNnr7zgSHEyBOUjiA7p3CueQJwMAWdPHCNc4XIlEA8NyuZeNHkWbeFBC8MEeB4sKD+gK0A86ZQhgB44xOkePAL8g08cV/GiXSfcKw/Aczh2n2HhFBwl3buzcBOP4FKJl4Ha1cJHSGwL9KyxLuklOH1ouex8NsN1926cX6JTKCr4pTzxCj8KPItXQM9qYNxTNkGyoK4xA3EQXWjlsgJEF1qkgQeItrZuggOQngfxJ7qUyT3xAPKEFjjQ4T53KMIbCMSvyhYuV/FNAAd6hLxsyqFzYoYFH0Rr27DwvObWs7vTunf7qL/C64w+Kr0uo7xMrt5Rwzvl5GXwnMtAvHAveeg5B+EJ8ntwha/74vzQLgbVX/yobOStNgqIlp7zq+jqHlzRA/K8kh0geRAEOV0CuHkAVAaP8IiOaDsMhqIXABJqWaDsv5ELSGBr1qyKg844ZOmwQw8LobN0QEegpQzwiCeOoE6ARsB9vuTBWhqHdKEc4gnk1X5mrjQY6Ig28XwFmhpSOl2S/OCCh0Kho2cZBXE6ohl8xTNyhCaBsvOQ4tM9+cGnXIJoAkrL47hXvcQT9DAupcEf9ecqAAfeKdOrF46eI4R74+cWU0fASJDn9APo7kR6WdN/Pr5gbWystaOP5ofZx3sZjCTd8dF5KLhRBw3q7WWwhADAE2UDqr8aHWmA6gHvNGqeSRM+QBoALeEB0hP4CuQhTjYDbe4B0pFzTheakq9oEUfIeSUPdNRhULbskI5EdqTywBE93RNP+aqH0kVfOHkeAsBVPPV5dfhaeOkjD8fRz8e85jXxlTh7wuMn+ejEnfXdPvNiyaeHDnkUJ8fSMbvz469QN66SZ15PgvgEFJfzk0P+zL1krDw8Q59nQHUcCJRHsuaqfAA8iz5pIRPHE79KJ6ieQF4/xec8ASpbcXka8QLuFUQjaPpgCbvgyJXnnl1t8+cfa7P4YZ+YeqWQkTxoUOYvcpMDkDBvvPEGu+SSS2z2nJnxS1M4p7raBldgcpASJr0nDYZ0GhYfdZGmBovg2c2AEdAgqCJ5+CSegBNU4MUxDZUOgisBepRDnHB4gSmDo2zKAgd61IE0NURocFgbOGzZkgGCQxr4PEMHxTNCIw7ghFHwOQEUWpRPJwRP4FEvziaBNj+UDsATRzyzZY/P1eFV9QOfdPLKMYkXRh6VPuoT3+SXLIgDh1Mpe7urbNmy5fbMM097Ye120utOsgnjJ3me0Ta2PskM2pQnGQFcm3e1GT9YLvkAqr++ZqWz5J46Qge98ozO1EEBlEMgj+rCsQfQQt7EUw8F4skLHzyLL9GDH8ogDQAfIB15ATpiQeXSiVImecFDh7ygIy9yIx91BZcrATw9Ux5XyhTPxBEAyoEWARlQf3ChoXjZC3ndsuNH8h977GGXSXscEcHRBY3eKY+tH2uVVaOCRktrS5SLjD2T7WreZXVjaq2hbpx1dXaF7tQ+oKt6UCfkRjp8YE+kA/BCGlcA3snDM/IBD/kQoAtIb+SjzsRjy9SHZ8kdnqGnunPPFcC+yacBDbQoA1zsn7JVH3hBzpTLPnlsHDrYnOhCj7zEgU8dSYM+dOFJx3dIDpIJPFMeONDhmfpgNx2dPqBs77KlDy2259ettE9/+gI748wzvPKua04h6MMOguxBhbI7/dyArrnmKvvP//xPO+LIw+InBAGcBgdeIWSUgSKlTBkGwJkpxAMyKBSdHG9SBrsbyMNIiLNRcLCcjQ5djt8F2IeOodPgcPaUAw7GTGMCd/v27VGGOhsMAzw1evGHUbC2TV7xTn0plzj4qqkZE+fAkBeeyIfBYFgYKXxDhzN2uIcnysVAOQSMXxmjTmwJ4+f6uCcuGrcDONAhH+WTTvngUMcdO7bYjp07olyOK64ZXRPlITd45WXh2LqJLrvNtn7DOjfknXbqqac47+NdNx3W3tHk6WPjh0hoKHRQHBDX0Mgun7H+3Ox8rY+yKBNAxjREnpELdYcnykM3OFU6a371Cr0gF+qLjuGfdMmFBgevyBMZIFP4QKZqiNAHjzzq2NAh+bnHUSBv4qBPHvC4p0x0LGcB39AiH+UhN5wDZUCHMrjH9nAUyJ108lJX6kh+dAFNnsGFHvxSF+oqnUGLAF05HviEXkNDo42qHu26ed5Wr13p9WmL33iI+vhosrml2UZ7mfUue2wUmZCPzqCnuye+i7HeyniHhn4oB5lwDz/wiVzIg67gD96II5CObKgLz9wD4BOkH2QE79gkOgVXDjiOqXZc9JfscYetXr06aFEmZy5RJgMd8vFLc5Qn/SEX7EFlqlMhL/joUDoH4Ed6J55ndABQP+KhIYdPWQTKkT+hHsRRF+KgA//wjG1DL9qyD+iad7XauufW2KjKHvvrr/2lvfnNb/aZVo3PwHD6LsdX40hfAkdgV1zxG/vxj39s/+O974nfmUXh7r5dmf3TP4QPLvlQKApA4CgDpXMFBwUCKJV4FIOCyEd+4lEciiU/tIinYQKUR4PHOIWPM5ZxUgZ0NRLgGRycHvfkA5fRF41Jhk+Z0CUveLwchS8ZFEYHHnQVhxMiP4EDxnghRMOGZwBnz0B4U14AADNDSURBVLMcPcYIr/FTjM4DBgwufINH2dCigbH3njr39DBz6vC6pJ92gzd+uX/btq1WXTXWnn56pV13/TUet8ve83vvtvnzFrjTm+by7PL67PKG1O51S1tuoU95STY+G/BykQ28I0t0gcNEVizn8dsE5IMnnD/5VR/qj86QsZ6RJziSO40YIB3alItz5oo8pQvwJGueKYM46MEjeaGP/IjDcSBr6NDpwsfcuXNDXvwEI7hM19Ep8sY5UU/qgg6RL3KAB/LAr/iS4+OegFxIJ7/44xmgHJ4B2Q1Xfgi+ubU9jnd+9LGlrocddvrpp8eACafDj8HsdOfY5fSmTpsW8kHm8Alf06dNt8aGCeGo6GTpcOEJe0EulIvtoSvkAe/UBb7gHz7hF96IB6QbZAIOaeQDcM7EQR8eqAcBuUMH3fOMTCmbDgGeyQc9DtijbHiEL8pnIMc9ONiPHDHyhicC/MAHcpYtAegMIL/S4I+g9gaoHtAhyN7wT9CCb2TI7BxZkU6d29o6nO5uW7JooS1efK996Yufd/2c4bOv5PRjeScoHVwou9OXcAm/+tUv7Prrr7c//8Ln4+xsGsKoSl5O9a/tEqcAKA6lYDgoSGkoEiOSMqV8ygJH5XJPXnDB45440VH+/Jl74gDuidN9Tl/n0yhO/JKXOM56wcABeANES7yLlvjQfY6veyDHQwY0GJUvWvDBlUbB1kqeKc+T4xmgQ4itpT4afOaZNfbDH13iFeywiy76tM2exUyMhp7oJnxGO6l88VBIirIIxJGm8rgH4J970dK9+M3jyJeDaAD9vPTLSfnyMnK6XJVP9/CnZ8rTM2mireecjvJTTqp/oiU6widIFgI9cyUP93Km4APEUY949nbR5bOqle70b7rpBh/Z74pfCZvtM9Je6NuoeGfLOxfOEnIqBdrIxONcX2DBEwBN1ZNyxSdBPHEFxAP8cNUzARDNvL7cK175eFa9eRZ97tWhUG6y0yQrrjktrjha7Jx7lQetYnoAeiCetgFtdQLKC33Sc1rcE5fzTcj5lg9RHt5Hss357rtutxuuv9L+9LOfdr92oo/0XbacLOyyL8cHjmVYURoYUC7TVRTHaMElEuDi2yNkKYt7AfkAlCdFKMjZAVzJD0BDBgweabnBgCcjBrjP6Soupw0ov3AAneFC8CfPlw7zUhxGg9Fh1KJP+QTu87K5h2fS1CjpMHQPLUD1A5+REnlzuYkWAZ5w7qm8VBeeuY9vCwy5QpsRTruPYsfZpMkTPRt6ofEFyciDtsDjCj2u0KMxcKU8rioffsUH8QLi4TfHJ3BPvOqpPKQRT1AcV91DBxzyFaeLF8mHOJyB4lM99gXRQ855OeKDfIrnHh2TByBdPOk+f+ZKHumV5zwvcSq7xvEmT5xsY2vH2o6t2/Dw4cyrK6qtygcUnsMrSx7qBg3Kw76cnzhoLrkAyYZy4YVnyuSeOPDgh2flydPFo56FJxmIf+gCPKtMAjJXPEDevFzhc5UsKQPgHjsXX3le0oRLPuJVJnSZEYAnXPCKyxMt1UX59ay8XFWnyFfts5j6sfG7E/ygTqUPYDlOudwbeJKUyggSHMAPSzPVYurJ74+igBcSTJ4fkDIIKEDOPWgVFEMaz7nR6V7pBPC55nShJwAXEF3dK6Q4asAzhpGMQ3Epvr8M7gfiqThd8TxjkDjVnE5+1T2gZ8WRx2ML93HZB/ac79LOunWLjR6Tfk+WuvXLSnymRsI9HUZxQ95ffQB0AkiWQD+9frkDoilaokt8nh/a5FXZpKlM0daz0lUvQHnhDVkDg+WXHgDRkt2RTpzSBS/0LPoAaTyLDqPE3u7d1ljfYBPGjbfR1a4b11eo1HG4xvcujpfokj8lcQ/k9FS2roDSVUcgT89B8cozECAPyZh74XJPEKgs0hjYEMijuDyf4gCe4UPp3Of8cp/j5MCz6km6yuO5GFeQx4su+bhy8J0PCfye+rJc6gMod7mkIf/BaA419LeOMoOUnByFC8XlwV5w7kOAgwQZEAGh7xF4IahnL274XKVcGQ734AmnmBbP6vWFfyBBZQj0rHQgx8+D0jQqIV9eD92/VBBtgHtkgWkyE2JUlGYp/c6a8pGJcFU2V8WDo7jioPoC0ofio2wPAPmhA5CusgYKwiHAA0F8AtCSfPJ8CkrnXrwD8Me99MQ96cJRHvGte0C0XypQDiCaKpuQnAlLk4V3KN7pMFhKxaSyxJdCDjlvid6+sigOxbC/NGBvfvvtRrqGJ9JkK4QcnyDdiX/JQTLJ6RTXqRiIz3EGCznt/B6aKotn7pUnf05lp7i0TMrMojD787hwcGWCfaVykAGhCHixgjGwhMB+b0DCHCwMhIPAFVCCGr4UwogM2FtBiQ73UnIoyEFGyjN5uYKrK8D1pQYAGuKVe3gi8Cyc/QF8qR7KR1DcgYSgH3VOL8KRYVtbelEHfZ4BcFVm/kw61zzuxQZA8iVwL73pGSjOp7Q8L6C4HEgrzpvHcS86PKt+kjNAmqAYV2mKE80XG5QnD3unpys/rM9L9EMPOSReSLNmn5bbknzEN7B3/pQmPeUhxxko/uUG0eBK2bmccp3lAVx45B585c2vOShfMSheafkzATqE/JlrzmeOl4fitASpbTNYolPmvQNtRwB+OWBvaZUBqDjKRji8dVcckKbLcTsoSNh5GAgULxyUCMih6x7oV1oC8IkTn8qb03y5IH4GAuIpE9BMBVAe5UNOSs/TigO8F4c8XaBnfrydJQQCfLAVs7U1bT8EW8s5gpxOHp9DcdkA1+JnxckRcF/cyQi/GJR/oKB8uh8IlA7k+ICuAPfwJ7vgWY2aOPSR53+pQcB9MR0gyYZl/LRrDRxsM5Wd7CbH5wpOHpQG5LjFaQLh5LiC4rQXGyhLThWZSaY5INdU373zCVSf3DkTBoLB6iYQbeEV08qfi9OLeeR9GDvjGMTGj/LgOzKcckDZnb6ExJXRJL0h28cA1sSKoV+Y+4aBIE/Lr3pZh2IxqGIla0RPnBovQJwMsxiU98VCjl+cV8/hYP2qjga+5Vjk5MVPzj+g64uFffN68H/8uDby4MosrLqG3Qep8Qj3xYYciuMHuqcMyqaOis+vxaB8eXoel4diKI4vxsnTdZUOZC/cE0eQfF4uqDyVld8DmCBl6rcn2CKKfdBZ769DHgjy9IFwB4p7qSAag9FSfLEtE4qfi0MOA6XnIcd5KVCcZ3/5lcbLc74zohOOKK9bHGGC8soEZXf6aswIoba2LvY3s4aHktOoJZJLBmqY0JdDBXQPP+DkSiGNxkQeBXAVhhKQgRwKoGmunknT9FyyLCVIXkDtmFp3+hNsdI1+7Hto6y6QvIcjwBuQbLXfZoZCFwMBZbKUQ2DfvgYEr2RAptQLGebtcbjawKDg5sDqBXUYNy59K5LbSLmg7E5fiuTKlkCu7OABhkpA0OVDj8suu8wWLVrkz3kDTfxgeHfddZfdcMP13lOnj2XyTgIaMsgY9g4WAgaMdND9YOn+5PThhQ9a7r33Hrv42xfbxRdfbD/5yU/soYcfLvDTv8QwFIB8qmtq4uvOFj5A6u5xKaVyhxra3Saefvpp27xlk8vfOz+PS6XyP3ojDMRHP+a+oLT94ewN/djpT/mQO2voW7dstWXLlrldrfSOuP9gvKEG9M87F17i1rp+GAAwqkzfTCRbfSVASNPZjXOfPPAuaefOJtu0caPPYDhKhbY2mK6HKbj8q312zMwLvmmf2AUrGKn9lAeGhdMn0HjYn6+PLJRWevBRUUWlrXxmrV166c/s5z/7kW3cuM4VUhg997lIPJ1zM2688Ub78Q++b2tXrfApGaca9lqXN+juni7r7upw59duvT66Yrq2myUI7xTy0OvOsaszrbXv7utKAaN2J5HOE+KQNL7I7PLyWq2nt9PTGBkkHKaGHDXd1tpml19+mV17/dVxVo6NqrBFSx+273z3e/bf/32ZtbY07Zky0iQIXqL/vfxRX9BCHrtdLq6H3W6oHV1d1tbcZt0um9DZEBsuHxgteexx+7Mvfc5+9ON/95Fsq3W7Q9u4aZstXfqQrVn5hOug1TvltniZ2d3lcuvpC/44MI7fMcBP9PbSQXtV/MqMrbPTdYesd3e7Prn2xPsKtj/2QAM89OOZOHSuq9vvXZTEdTt+Z3ebp3FwXac9+thjdt11N9g//9+v2z/+/d/Zzy69xDtGlifRearHUIKbSHKSzmc4fbddtxq3YZ8hUulhDNhXHPXsSurlhFZvXx0+wOrytrP62eft//z1/2cf+aMP2nf+7RvW1LTBdejtzXXg1U1GPkxBbYc2icPnRS7vXMIPeOD4hfTdRCHDQYayO31BOBg3V5w+a5ModShGSpTT1tYZn07Xc9yAO/uecNw4Z5QFFh+EjLbasXVWXzc6HDyNGEfHaJ9tcVXVo7wXr4Jld9ieHqPsNPrXzz7qnQQvcXp6Ew3y86UeuN4+4+q5Ci9M6W9YpkkzCs69wVF1tKejAs4++2y76LOf9XCRffjDf2Q7mnbad7/zb/bEE497HpaAoJfDgVtVcusV3hBxft1WV1trozAbPJrzOKTgRbS3d7lcem1MDc4svcxbtXat/ft3v+sznm/a+vXPRsPqgx8akouWdw/Ik44XfOSaTvtMjREdJV2yG4iuC+fjcd6ZplGYO1LvRCCGLhidAeHE+cLaAx31ps2bYsb17Yu/bUsWPWRrV6+2mhrOWUpfjw7VzGsPBC8WtshApmVXYRbmdWNQMdA7seEFSDrZULQC1w3vi7Zs3Wa/+e8r7ZlnVka9mnZutWbvSNOx3yhheAJyz4E60UY42gR74AiM/ja6N+7BhLJbRXL2+Ex+ToztZr1xNg0yUVopAZqMrulcMDJO85w4KR0EBg/oDZxqb0i8YwAvfgwh8qWDtrb4VP6B+++3pY8stc3eeXCSIePqHsfxgXE4kOc3rrflK562p55abhs3MEqhM/AhiqdXVXGCZ1sc5EYHxxkjDyxcaM+vXx98OJkoL4L/NY5rtPPPP9/OOuuscGb89NrrXvtae+MZZ8b5MY8++mjIrdjoSgHsBVfdcX6NDQ3xG7kA8UMJ1GfMqGprGDPWdnd0W3tbm21Yv9GefGJZdLQbfOr/mM8ENrjcOn2EyGwtZlHu+GhgnMsCzrZt273TTTsoWCKIXUDeQfDzj1u3bHZ9boqzUjas3xT62radw9qqXO+dsazECaPPr1vPmSWFzoX15UrbtGmzj/y74xCtt7/j7XFgHcsqQOooSq+PHJBPyMhHkpwRRJlhB/4XHdsQl18ScD+OHcXM2NsH7e222263FcuX25FHHhXnCKGnDp9VIfNXErBzp6OjM2xL5wUNBxgW5+kLnnvuWXv88cftuOPn29FHHR0OrsKnqaV1ZjiGPluzZq0tXrLYJk9stNNOP90bK/v4q2Ok6AVGo+Go59ZdO+wd7zjXOB6YmcDDSx+xyy77lS1+8EFbtXKlrXGeZ82ZHScXYpMcWXv9DdfbVddcZStWPGP33bvQHnjwXhtTW22zZ83x0r0+Hm6//Tb7xS9/Znfdfac99NCSWA+m8R5x+JHBCw0hHK63Chx/fBgVnRLOJO1oWbN6lTujtTZ16jQ7+uhjrM5nLvzoSQIcMqPYA2koXrrLgYqtdwe3aOEDNnvmVDthwQIb5Z2fj6FDR0MGXoVtm7bavXfeaj7Qt3nzFjgfO+3OO++xe++5w/p6213uHLNb6w2KQ84a3XF0u46W2uWX/9rlv8LaWruic3788cdsxozpjpeOQaYj+K/vf99uuvF62+FOvmlXqz257Cm75rrrvTN+1pp2bLWHXS+r1qxxOT9nN//uZmtx3c7y+qMLdDRp0hRb4LI4/rgFLucKe/75tVbfUGvz5s/zKweA0UEPnXyoB1rudEf56NKHbfu2rfb6178+ZILL59+oodRPCUDchZ15fWgHl132G5s6ZZrNmD7DtvsAiyXNs954po2fMNkx2ciQBmcx09lDYfhBD0u0zug69xHP+ADw2Ne8Jk7qrWBggLNw1suhnrJ3naFsBwyYXp4GpRPz9ii3xKCzbviBb5XLi0p4GcUU38vkxElOj2TpR2d90En80z/9kzf4SvvqV79qf/qnn40fFNmydUsokPXi317xW/vhj34YZ93/ySf+xD7wgT+MI4avuOIKW/708hiNMTpc7iOZm266KV5ScjLiV77yFXvrW84OZ5JGcHDK6D19sJXiUofBAkSrjx4ee3Spj4Ka47Q/TvdLL4xKB7BAcBHFxz/wwbIYMyUA2Q059FW6s221OpfhjBkz7cTXLrD3vvc9Pig4Jk4RPfHEE+0Ud3SMdBnl3nfvA/bP//TPMdJ/29vO8VH4G2369Gl211132GWX/ypOoqTDXLFilT205BF7aNGD4eQnTBhvJ59yio8uj7Brrr7a9fx/7enlT9lb3vJWe+Mbz4pZxk9/dKmt8JkAvoayakaPtjmzZ9sc7/SxW3ZqYAPQj4GKO/1SQzj6gtx1z3ox5fJhFidr8h4CXR0U/bwEEL85X3Hvgykkxczseu90u70+815zrM2dPdc7NGytymqZ7Tleete1L53hAMX84Cf4ISE+zMIe0E8s+QWa/1cm9svu9KNxFK5Mu9OLts6YijPdGwq9ohxtpaJ4yk5HPtCYk1HRqHftakpLBCy7OA67CThilzSm8RxF+yZ3CEccdmiMqFa4U194/3327neea+e973021R3R619/sv3xx/44GuGNv7vRdjbtjHI5ApZDoj7+8fPt3He8wyb7qHHsWLZ1JaeftuG5grwTYkkCvird4bPGz5T4eedj3bNr3PkdZeeee27wB06pIPTigZkDvKS934XfCGCJgzRwhhK8mLZ4sddtk1zWo2vrvHPmEL10vDWdIMfZcl48vPG18P333w9r9tGPfjRmP2wBPvPMM7wDODte/j7sI2LeqXDOOb9lcOjc2faHv3+enXzy6+zQQw/xkfsJsYR1+qmvt8985lM2bdq0+JWwo488ijem3kkssg5vxFWuz2DQC6Ps/ItLltxip0mMRIcGkH2yk3RaJMCV9xSeEk40HMwwA2RFoA3onYv43bB+QwyGjjj8iDhld6Z38p7sDr/OZ5TMftOWZewxecyhk++BgHRD4JyqujoOg0tHTMeBhM4/dfHkssCwcfoACqXhMMrGYIfGaPt/YhCn6xzEiA3jYy0YZXDPy5dJkybbFB9F01sDrC++7nWvs8WLF9svf/kLd/IrIg9OosKNeLlPTZ9/bl3s2tm2ZbOtemaFG/GKMGbO237s8cd8xNgeHQBrfIxOG8c1hPYxChwG5g9vYTSVNBB39u5wU7o3EOdv3bPP2g3X32ANY+vtnHPOid1OOCHNmkoFe5qW/8eWUV4mMzuKNX0ShhgYKPfxUtbr19zZbt27e0JW9DnsnKHzwanzDJOtzuOzzz4XsxKO9Ni5c4c1x3VndF5tbS2xhNjVzRbcanf8Ldbg+SdPmhRLZ9CO9X6HGT47mOyjf6Cxod4OP/Qw78Sn2JrVa2zThg0xW0sOLL2cR/aM8Okc0R2j0oMB8MAsAzkA8IC9yJkON1B7h7844qML2fWGXG/2me+8Y4+1j59/fgxmmCHX1ta73XX4YGmX56WD40M9l+3wq9o+kKrKS3/eBVbFQAU7iTZ9EG2kGIbVUACB4PBiaiqBlFy5aeSKA+PL3zG1Y8JhRmP1stPpnulnEHnxghNg5IaB8mMfF110kR1zzDF2511329f/5V/sZz/5iW31UTu7OVp8ZsDWTdb7L/7Wv9p//df37Wc/+7n9+rJf27p1z9ukiekXrTBelmOoL3uQebGbHDb7SFKD2BP8j1kPxoNf2uXGf83V19ijS5faKd4BnXnmWdGQyDcknWRBDeyigHeOv65yR6yZ0VCaLbSrRldbvTvfbe642zvS7w6Ma2ywMSzRVVXHS3/0OXrM6Nhxs2HDenv00aX27Ysvtn/4h3+0b3zjX2Kp5jLXQVt7W+iTj8tYBqnxMHnSBOv2WV+avdExtIX+mT1ge+iAL14nTJhoY92xMkMc450KZWOnyAUY4/bC9lq9yKWTYXvhUIKzFmHvA99SpwOwg2c4QQxkspDe2VXEr2Ddd9991uQ6PvX1p/oMerLXqzdepOP4Ob4gJk7+hy7I80oAnDr2w0kDaWCQVgjgHn8SN2WAYeH0+50cv3401htco8d642HPPC2/hBCNuHqUzZk7y2bPmRG/KtTW0kyKG2Fh2uk4rT7b2LK1yar4CnUSP4vHro9RNv/Y+fbnn/uSXfiZz9uMmYfZ73zEffVVV8cOmjHuFKrc+Zz0+pPt4xd8wi741CftTz/3GfvSF79s//5v37c//7Mvu9Mc50abtgLyoo+1ZNbtKyoxCBppaqjReM2nsrvdkexOL0yfX7cufmjmwcUP2tlvf7t95GMft5ox9T7yHh3LPnlboIGw/n8gkESf6Nb5aHJ8faN1trb56KwbBj2lxMopAqpT4XKK0Z2bKp3yKJfV+Hp+t7fXqmvqQk/dPnLfbey5b/HZQYcde9zR9icXnG8f/qMP2TvfeW5sb/3f/+sv7ev/9K/2znPfa7Uus5oq73x9tN/ujrHJBwC70YHXie2eYxvqXJdjPJ2toBWxP3+Xz9A6+3qsxqfqo8fyC1edtGqXO7ODahvjDdszW4/ralczPxPY5XaWOuuhAOy4ICGvf69t3b7DOr3To8mwPZWdRu4eh6r4AwJ4xwliP5U+sdruM7L77n/AFi1+yK739vSTSy/18GO79vor7elVy+yJZU/YL351md162x3W1OyzNtcV1af9DFegjoyLWILkyqAQYFwG/+ilXJ3XsHD6AKNURiaMVsa4o8WYk1JLLZjkxI488nCbOXOGPfLwI7Zo4aIwQl7ievHOx25bs3attbS12gknnmiN48b7DIAeOu3q4efc3vzmt9iHPvRHNtmn/E88/riPNGtt0uRJ1jh+nI2bMMHmz58fM4OpUyfb3LmH2NFH80v4c0PRLC+xvsd6Hy+te3q7jA+EqGp0AI4TfzFqSyO39c8/b7+94jd20y032VFHH23vfNe7rLaOpY20GylGDg6SWIFCxB0QeNmQrvHRJKNkRtZpL3gkBspQAd3K7q4e62hpj+2QMZp2917lznj6jOlW38jv/rLcxEv4vvh930MPO8SOOOLw+IFwluJOPfVUe8MbTrWTTz7F9XFMrM/zARdbPFlKZNfO+ImTYwSGE6p3h+89bOxW6uzujlkgdtnqttDswSO880mjat7j4GBZS2/raIsfzKiqGRNfLpMeLbvEELaRhL/nPspvTz+gjkrifYIrLa19D1+Ievg/drR8/OMft8997nP2tre9zdsJv0XNj7x4WxjV5zo9zA47/Ejjx97JE1uflX8YgfQhQP7MwtgQwu8VV9ewdFiwCRx/mWDYOH2cqX7ZJi11DA3QA9MgeQE4z0ftbe3ddu11v7OVK1a7kblSXGebNm+wq666wqfwfXbaG05zR9AQv+l5yy232MMPL41Gxou7dc89Fw6QNWQ6Au2iYarKl5qUhRGQ93e/+10c+aD3CeTHmTBKqxpVE0sDCQpGU7gwcut2I39wySJb/PASm3vYofYHH/yAzZwzO0aiqZNMv/5T6kYQ1Aq2GXXxK0td6AinMuTgRex2+Xb6aJ5pPY2oo7PLqt358+Xm2ueedfmxPorNmNXXj7O5cw611avW2i233u5yZ9cEJp6WEPiIjcbX5aOuHTu2e4NMS3c4fNkcNsgWyOgyI29qvIiWpR3kzEdqLD8iAWZ/rKNDnyVD8rL8gy4YSAwlwBODBF7gU4/a2lRujCTdYe5R3jABbIgAyF6RO8sfbDV9//vfH07/937v93xA9aG4skPriCOOsHe/+93ecZ8cS66pjgxGhlf99gEfkMEjdsY7vKFe7nuxUPZ9+lIcDYTR71NPPRUOFEVLuYRSAeXhtHFc/IA1TmPTpq32yCOP2nXXXWd33nmn8/CE7Wzabm9965vs9NNOi1EuxzI8+sjjdtddd9ryp1fY4sVL7GbvBMY11Nt5v//7Pvo+xiZOmuwj0Bm2cuUqu98df3tbR+wVv+eee+2ZZ56xY4891mZ4OuWzHMT2xxNOWBAdUDU/X1cY2e/x+A6d7qD4Ee7LLr/cFi5caKO9YW/atMmd2i225KGHbKXT5SUxHQ7Ov6Sy4g/9eAPdsGGTPbzkIZs5bZK99sTX+rS8yjskd8Q4ngJ+qYGit2/ZYQ8svNfGj6u3U3zUzqh+rMt8xcpn7Emf9re38kPnPe70+NU1fsS+yjZu3OyyWmTr12+IF7qcs3TnnXfY5s2b3K6OjO2f27dtd73cHXRPdR3Xe15qstZneDffdKOdsOB4e+0Jr/WoSu9wql3mW+yee+/y2USlnXjiCd65T3H97bDbb3d7WP60LXzwgXhJHD+q3tbmnXunTZ82wzsRjhQZGgnFgN6vbKFdvfqZeD90/PHHx5fmlElnEDOOoVLQywTZKFc5f93n8XSk2DydKTM3vQfL8xCGK7BQ0dnVbSvcPlpbdtpxx82LzRu0cb5xSfwXkA8iDJuPs3AubI/k4yz17sRJwaUEaDI6Y2nlEB8ZTnJF8N54wqQJMbWsG1trJ3nDfsub32x1tXWxXj7WG9KsWbP3zEQ4NW/WrBn2prPOstef+vpY/mE9ePr0GcE7+XjZh4LZ9nfGGWfYvHnzYrpHYEp7yimn2Pz589wJeSONOmIEezt9nA4jS2YGTHPZpUEHyciOJQqcPnVhKUmjoJcL6oD7afQZn4bBAx3jY48stSkTGuz4BQus0uvQ5/HxMq6AfaCwT/n+uLvbZ2Y+sViwYF50rO7HXH/VNveQufFehlkSa/6NjeNsypSpMWA47rjjfNTLNxjuED2NzmuS6xYd0DmyLZYX9eymWLBgvh151DGuE3fOyJqtvC7fE45fEPTYqeQuKI4G4Myl97z7HXas65FyN27YYvc/cF8cx4BOpk2bEju8GLmyRDl9+nQvoyHVpUSAjLA/ZMSSFnZrfb325JNP2K6mnXby617nZdZ5ujduXhpiT6VSUAlBOuZaHATMkFmCY+ME371g37RdgiDHH26A/TEzfXr5cluzaoXX42ibwcdZrpNyOv0KN6LU0soINBgEwMdKnHz5yU9+MhwicYxUSqlYGgyBMmn83V3paIXUMJgqs17t/PgQlnVyH+f5M4aW1rbJC8BTiM47BNI4NKrCnT7rjbE+DJ6nu1oDX4ZKnqTsNLXlPUI6ECwtb6WqpjzgshRBZOSnfMrkJhBo2KkDU2OIpZeXCTIFyTu2I8bLwSpb8cxa+8kPfmCTG6rtwj+9yMaOn2A9NsqqvMyEfeCwT/k4NY7Aqej2qvIZPt9xuOycn5Db7i4b5XHIC33GzgjPihygxXo79/g9l5yjoZMk7x7vTNiW29fbHTMZApqlE8MGqrj6CLqyCrnzM400Us/Xy+83o7/qsA3exWAfBZb9mvTqmaJsbKxUIPlE3byMOKfJ67Nz5za74orLbPOmjXbhhZ+xSRPYeADHbrs+SymZgoYY8vqpjlxlD7qGTovihhvAd7fbWYf7l9tuudnuvuNGO/9jH7Xjjzs+7JfX7M48/w46JE9URpCCAX3goi9gh0KhootzhDwHPDGaTXwkI2MPN+vEVT6iTB9LpZfMpOFgcTA4EU7exLnT+DhkLdH30WJh3Z7tfHRa5FPHJocEJOeAAfNisPD7mXtaKPd9Vu28cHIinYsjxFLtbuel2vE54ROIsgqh5FDQAf/zpWdHjIThu/S62Qe87HCf8OAyQCKsj1bguNm9406eKuOM9RI+rXEjF8/p9+iDZQ70l5xIOvmwqho9cM9xEgnovKlWbMP0MkijaHZaMaqmQ0+DENerN1xG2bF8gi24bhTQAx0UeYYCsCPKQQOqb6oTjiQvc2jKH0pIbSDVEZBNq91Kxq8U4J0PdtfpPoFr2GAhrVwwBF7ipQOKxSmy3MIUjv3zUvBQgehzRC775Gnn8BGjfm/wyWfAFyMO75cLSzWk08DgFwXSabCEsKejctrsMlEZBDoY8nFPHsqh7DAAvJqbATRJ3xu8QTPSxsmSz6mjsNHVNdbnToz95sojmqUG9ktTBOvGdHB8hcyeeE9wbor5LS14844X2QXvFnH8TxSy6PFZEI4bx8dOj86udkcoHKXhz/iLNPNCb7wIZucNM7iEg7TQbXTsOHyU7mngU1KaObCNk99YpkTw+/WXviVBgTiiwqzCbaRfDYnnUoF0DQ90Nsz6ks7TttHoIj0tgeNSjajlKw+oqwJyTTpJnazuhzugLpYKGQSy1MtRHtgJUE6tlF16clQol3Vq1kPT58pp9FRqkBFxxYBGF5wxozwZV1qfZ2rMSD0FFAgOeXDgrAGzTRMctgpGPm/wscuEkSDBcfPyVCbPUTZbEN355Ok5eIqP3ryToTxwfdTAC1Qc1Ch3YvBI3jRrSbRLDWwqwtlXuq12uNHW1TdYlXdwwZ13jntzXFqAtlc51qZHVdbEOnroxkfp1aOrXO583o4MXBY+K+N8Fq4R5yNtnDmnpSb9uew8LmZwzOQch45gVA3xLjt053EE9MyoGd3y/oD86Am919R4mU4jBgDkJU9VOsspbCBsJNkMo7xSQ95e6JBxItWj6pz/UdbZ2eSDkXaP89mlP/fyzcdeI//hD3k7UFtR+9Cz0oc7YFf0w+MaGm18Y2Ps8sNuyg3DostEiSiTXS2MoHlLz/1QOH1AhrUneByOOo/z/+KaOoP++EjD4YXxufh4LqSj5D2hYJzFIY/XPfT3hQIP0CY9HvVcKLcQJzoHCkG/iA4aoJ6sb/MjHewmSu8VHK/E6ikun/skTzpUHG2hE42RPAEnkJZbBg+JZgo8Cz+LhxZX/vwayzsF2apM/1fASzSSTfTzvG9ZKW2ogEERkMpxh9/RZV0dPpL0mQ0/0kEcdXglwd7y2zfkMFDccIP4YNKvjPA5WobNHYlvjywj62V3+lIcDl4/7My2Rnp14oa7Yv9fhxitOLAdlKWQtWvWxLsXPP6Iag4+qD3EMlOho2H5oKuT70VGx8wQj0KfkPrkESWVG/i9jNWrVsWx68MBhsVIX85dh3rpI5ihWK4YgZcG6IaBvQ51491FzMBCZwWkETgoEHIvQP+AKP1KVsyGKn02FE3aR5Px/7Bo3q9aQD34sKlTpsbBjSxdDwcou1XIkJNz6YtDvfgYSc9KB7hn+Yer1vy55vdcCcIfKE7x0NILWXblKF5pxVdwitMHCqTl6TkNla+yuAry8oUjWnpWnPAIxfRzWorL77kSqE9eJ9KEGyFeOjFq7In3LHTIGC8dQHI2/fznefMrQeUpTvcKzO64Sgd5/px2Hp/fc1UYCC+PKw45LnwVP+s+j8+DcLgq8Cxc3edxhLxeAu7JzzXH11U4OHuCcvKSsNdnYV2dPuL3UT+6weOAq1Bcvu4H4zfHK34G8jSl5/f5c14npRFUtp6Fq/jBeMvjFfJ03YuuguIE+T0wGG4eD1B+jqP74jJx+mzEIH706JrQz3CAYbG8g4AY2bMzhM+Vuc+Fh9CkaADnACgeHK7CIR3jL3YipMvBcC8aBMrUO4U8j/jLg+K58pyXXZyfa14OPIHDNX/WvfJxTwAUp3LyOHDgRfHEUQ9mS8TlebkXnuoF6JrzQnoCT/N7vh7Wh2kpb+oQAsPzizZB9VAceQg85/c5ju6lH4W8Q1AAknNLPOf4POc6Fl2lq16KA1flKk7y5J64vA4qTzQA8QQeoHRANGWPBOJ0FX2lAXl5woE/5dkTj6Pv6vaBUk3sfKuMF9e8ZHce2OIbHXOiPRBvkqEgL5MrebjP0xQvesGHB2gJFxANruBij4pTfI4H5Fd4lo2Sn2flVfkExYFXTF95clyuxEsmOV0F4lWu8om+8IvTdY+eJAt2/rFdmJf8LI0SR510Tla/tA4uDIuRvpTLSJIDvVjm4co56AQcDuv9rCUjVISrPf0SNvmJY0QKPe1oIQAqA+eO4rhHWQJoQRs8rvCQ1q5TXtL5pF840ABHxgykM9x37mlMpMM3PJGfsqEJjgBa8A+u8olX4okTDnHgiX89Q49pJLzBD18yApRHPspEtjld8qguxMEfV54JyCbq62XFWfMOfA1Mee2Oi0Nhq6SMWUCZ5IdvlanAM3S5ByiTQKOAhmQKv+qE4YE6UT/ywTv1U0NTeZJPzgtxgOoFCE9APPS55jjCE201dp6Jl06Jgzd4Bk+8Ek8cz8QTlwPpgMoBqAv3xOW8ECd7Jp/40HcDrS2dtnnzVuepyTZt3OS54DvlFY/gy67Rg+xKMpf+VT64BD3n9QeI15V41ZkgOtyTj7Tgt1AX4gHhAnn54BKQHfmRC8A9cTkeNKCb06RuiuMKnvIAopcDcbKlPIgueblXnGhxhS+upInGnrr64Kizq8NlUBlLowHeZhylbFD2L3JDMC5Ewk9/+lO7/PLL44gCjjLAEDB2jIYrAtU9gLBlmDRCXjYiWAROg2MZAhycCnEYN884LzVIHAjHJHAOD2kYDHQmTZoU+PxSFrMPPqln6YnzQOCBHUbwAx05XcoGh7NwSKdMAnjQBYcyAOKoH2XBJ86NYwGoCy9+iIcn0uI8F2+ozIQI0OSHXOCJszyoH3Q5k4dtr+QDh46T7x6oC/nhlaCfFoRf5AZvyITySUcXlBvnz9e4Y+iutLUrn7WlS5bYqKoeO+usM+II4d29o6x+XJ2Xx3HRfBm6M+iRnzKgB08EjkeAX8rlHCJtzwXQA+Wid+qC3NEx8mEEiyzU6ZMPfpEzuqcseKf+0CHAO4Gy4As8ngFoQh/5wx/lEUc+8EWPMomnTHgAl3KxF8pGT6QBpFG+ypJtSK7r169PI3GPowxwyU8dCcShf3hUvWXn1FedOPkomyu0m9zJ1zeMt2eeWmcLF97pHfQme/vb3mEzZ82Pj4Fq651GRXXUBXzoUV+ekQHlwhN8Ux5XcLAZeMDWJUdshTTlgw6ykmzJT5145h4cnslHHHnBgw/ihUs8+Mhf5UMbXK7gYFPSCXjYsmwcHOQDv8gGXZCHZ5VP4Bl+KYsrgXhwoEke7ilfeiRdgMwJxIkGQJnIkLyUwTdG8Ebo6uJ3rJ+1+++/z5qbNttnP3uhHXvsPKusqnYHkL4kL4fvHzZOH7jyyivjKAaUjNBQgNIRNIYg5WEE4KEIhI7iUDgK4x7jAngGyEs+8kADRwhNHKqUPGfOnGjINFKcK+e0QB8nTh7o00EQRyMlPx0CQDpOjwaDIZIfA4AX8OWslI/yoEd5qidOEB7JBw584SzAAV/GDy0Mn86BvOkQpzRqW7lyZZxdBIBHHHwhTzki4jBeyqdceCKOMmXElJc6ilanM9Hr5x2kdyJ8/FTnOOPGT3BeOZF0Y/BAWfAOfQL0iYeO4pENcTgO6kg88iSe9zjUk3zIDl6Y4SG/uXPnBi756MjAoTz4RwbIG/7RMY6BOkGLZ2jjhHFg6JE48olP6kpZADSIQ5bgkEZ5pCN3eCA/ZRIHPjZDpwYeMqY8+MQe4IUAPeoBnyqHOsAnMoaWyiMf6TyDT14CQJ2oC7SQDfnHT5gYh85t2rTeWtt22lTkWT+xwEOr028LG4IG/FMezhIZQ48yoQeflIct8Ew9sAX0Bx55kTl1BAf6yAK5QJtn7FflkFfOGJ7Ble7hgXvwVGfocOUZ+uiKOGQDL8iXARhtksAzdg0dZCX56Jk6Qx886gYNaFGGeIQnZIjO1UlRB9kPtLhHV6SDR5z0w7M6ZGQn+VFH/AvnL7H8tmzZkzZ96hT75re+YYcddpjxe9zGtuBXs9MXC4zm5CgRMgYgQ1KDRAEIHKWBD2AE4GJMKFUGDA2UR14MiIDjJJ8aFUoEh4ARgAsNjBYjIR56xMMX5ZIvbyTwDz3wSccY4VtOl45FfBOv8gDwMUie4RcccOEBg4JnaEAbYyINOdD4qAd8YNg4NQyKsmhkdFyUBR55kQ/OiU4KeUIHWVAujpdn6EMLXHUkOBfwkIccBeWTRv3Apb7IABzJCjzJBh64Ulf4ggfqDFBH6FFPcCiLgE7BQeY8A5SPE4I+eZAVz+iN8uAfHjTSRobYBLSJF0/Ig7LIxz1lQA95YQ/QhBblkJd4HD0HAuLkoSX5gY8dgIvtAsgFOZBGHu6hQ3mUBR73ckw8gwtdAnHgwT/xyAv6kidAfmSH7KmrZJDTgS9oURfkgCMinXviAepGOQTqDQ55KR/HS7nM0JSPZ4D6cy9bQI7IHTqyU/IQwMG24RFcAL6pN3nQM2nYJ/mRCzKjPrI95Act7AfayAG+oAEOtoCdQQddUSZyAcgLiFdwqL9kCW/EE8eVeOIElAst4rlSJumUh/ykG+LgCd6RFXxBk/zo8E1velPwjl4kh3JA2Z1+LnyBnqUEBM1VygGIIx1QXI4jhYu+cADuURS4GCsAPkaBQQhoBKSLnmgpD0AcAUVCT0Ae4ZFHQXRIz+MAeOJe5UGPK/F5mfCFIQlUFwwQ2gCNljzwpTLBIx/0xTfly6iFwz15cxwCtHRPPHgKlK846APQIk48gIOMeQaI4xl6NAbygUOAJ+KVjzTJmDjJQHURcA/vpHEPD+BIfsSJnspQnOQAQB/QM+nIlAYtWsrLM3ikqy4C6JCmPDm/os0z8QBX4uEbWuJdeYgHFKf6wTugOGRFoHzoADyLZ4L4Ik71BYc4aOR4kj24BOJUF8VJH+ARL75IE57iKA/dq3MAkB/l0gbFO7QAcChTjptAXvAJogHv5CEIj3wqnyu0BYoHR8+AngHFQUuygTfKJBAvecl/UL5kCp/QU/1z2jwfbBhWI30BgiAOwSEgnnPhKD4H5RFwrzjl5R7lSOk8oyhoES+aKJK0YhpcwVGa4gVKz+MA4gGVBSgOXMXn6YDKzHEBPYMrWRCndOjonutAdPSMEQNKExQ/kwe6gBwFUMwzoDSVUwzwrEaap3MvfvM6EC/5KD1PEw3FCV4oHoAXyUB0SddV98LjWbzkeQDhSyY5Ld0Debzi8uecvuIJehaOQM9c9QyID4ArdRAdIKcpGChdci8uJ8+vdF3z+GLI43Wf58vTcpCtF+PCn3RDEI/5PaBnQXE8V0Jx+fmz7gE9E3SvPMWgeJWf5z3YUHanDxSzsD/hCXIcCS7PM1DcCwG4L0UJ4iEvS3FAfg8UP79UOND8A8GLoUk6eMWQ5y2+B14qr4PR4yqaLxcG4mmw8oDi58FAeIPhv1D6y4GBaL0Q/RdbPnjFkOdT+v7KH6is4nSgGGd/MBDN/YHwVRaQ5x+M3mD4ghfDx/5witPy8g4WDAunPwIjMAIjMAIHB/ael4/ACIzACIzA/9Mw4vRHYARGYAReRTDi9EdgBEZgBF5FMOL0R2AERmAEXkUw4vRHYARGYAReRTDi9EdgBEZgBF5FMOL0R2AERmAEXkUw4vRHYARGYAReRTDi9EdgBEZgBF5FMOL0R2AERmAEXkUw4vRHYARGYAReRTDi9EdgBEZgBF41YPb/A+yphc6axZXHAAAAAElFTkSuQmCC)"
      ],
      "metadata": {
        "id": "-em31Mhb5LCY"
      }
    },
    {
      "cell_type": "code",
      "source": [
        "# SVD로 잠재 요인 협업 필터링 수행\n",
        "algo = SVD()  # 알고리즘 객체 생성\n",
        "algo.fit(trainset)  # 학습 데이터 세트 기반으로 추천 알고리즘 학습"
      ],
      "metadata": {
        "id": "nFvVMrrd56ur",
        "colab": {
          "base_uri": "https://localhost:8080/"
        },
        "outputId": "5ffea75d-00bf-43ea-b3e6-d651ad6b21e7"
      },
      "execution_count": null,
      "outputs": [
        {
          "output_type": "execute_result",
          "data": {
            "text/plain": [
              "<surprise.prediction_algorithms.matrix_factorization.SVD at 0x7a23295e0b50>"
            ]
          },
          "metadata": {},
          "execution_count": 4
        }
      ]
    },
    {
      "cell_type": "markdown",
      "source": [
        "* Surprise에서 추천을 예측하는 메서드는 test()와 predict() 두 개\n",
        "  * test()는 사용자-아이템 평점 데이터 세트 전체에 대해서 추천을 예측하는 메서드. 즉, 입력된 데이터 세트에 대해 추천 데이터 세트를 만들어 줌\n",
        "  * predict()는 개별 사용자와 영화에 대한 추천 평점을 반환해 줌"
      ],
      "metadata": {
        "id": "wIqoAcJv5tMr"
      }
    },
    {
      "cell_type": "code",
      "source": [
        "# test() 메서드 실행\n",
        "# 테스트 데이터 세트 전체에 대해 추천 영화 평점 데이터를 생성한 뒤에 최초 5개만 추출\n",
        "predictions = algo.test(testset)\n",
        "print('prediction type:', type(predictions), 'size:', len(predictions))\n",
        "print('prediction 결과의 최초 5개 추출')\n",
        "predictions[:5]"
      ],
      "metadata": {
        "id": "jj-xJDoz56sU",
        "colab": {
          "base_uri": "https://localhost:8080/"
        },
        "outputId": "37932c7c-a1ae-4a76-e6b5-72fb0af055e5"
      },
      "execution_count": null,
      "outputs": [
        {
          "output_type": "stream",
          "name": "stdout",
          "text": [
            "prediction type: <class 'list'> size: 25000\n",
            "prediction 결과의 최초 5개 추출\n"
          ]
        },
        {
          "output_type": "execute_result",
          "data": {
            "text/plain": [
              "[Prediction(uid='120', iid='282', r_ui=4.0, est=3.580445892412626, details={'was_impossible': False}),\n",
              " Prediction(uid='882', iid='291', r_ui=4.0, est=3.8062636289718164, details={'was_impossible': False}),\n",
              " Prediction(uid='535', iid='507', r_ui=5.0, est=3.749282542863726, details={'was_impossible': False}),\n",
              " Prediction(uid='697', iid='244', r_ui=5.0, est=3.71337997389996, details={'was_impossible': False}),\n",
              " Prediction(uid='751', iid='385', r_ui=4.0, est=3.251389224011936, details={'was_impossible': False})]"
            ]
          },
          "metadata": {},
          "execution_count": 5
        }
      ]
    },
    {
      "cell_type": "markdown",
      "source": [
        "→ SVD 알고리즘 객체의 test(데이터 세트) 메서드의 호출 결과는 파이썬 리스트이며 크기는 입력 인자 데이터 세트의 크기와 같은 25000개\n",
        "\n",
        "→ 호출 결과로 반환된 리스트 객체는 25000개의 Prediction 객체를 내부에 가지고 있음\n",
        "\n",
        "→ Prediction 객체는 Surprise 패키지에서 제공하는 데이터 타입. 개별 사용자 아이디(uid), 영화(또는 아이템) 아이디(iid)와 실제 평점(r_ui) 정보에 기반해 Surprise의 추천 예측 평점(est) 데이터를 튜플 형태로 가지고 있음\n",
        "\n",
        "→ Prediction 객체의 details 속성은 내부 처리 시 추천 예측을 할 수 없는 경우에 로그용으로 데이터를 남기는 데 사용됨. 'was_impossible'이 True이면 예측값을 생성할 수 없는 데이터라는 의미\n",
        "\n",
        "→ 리스트 객체 내에 내포된 Prediction 객체의 uid, iid, r_ui, est 등의 속성에 접근하려면 객체명.uid와 같은 형식으로 가능"
      ],
      "metadata": {
        "id": "ridL3zeR6aPH"
      }
    },
    {
      "cell_type": "code",
      "source": [
        "[ (pred.uid, pred.iid, pred.est) for pred in predictions[:3]]"
      ],
      "metadata": {
        "id": "f_rumQ9T56p_",
        "colab": {
          "base_uri": "https://localhost:8080/"
        },
        "outputId": "5c6f7aec-c541-4b8c-b33f-5a17ea746599"
      },
      "execution_count": null,
      "outputs": [
        {
          "output_type": "execute_result",
          "data": {
            "text/plain": [
              "[('120', '282', 3.580445892412626),\n",
              " ('882', '291', 3.8062636289718164),\n",
              " ('535', '507', 3.749282542863726)]"
            ]
          },
          "metadata": {},
          "execution_count": 6
        }
      ]
    },
    {
      "cell_type": "code",
      "source": [
        "# predict() 메서드 실행\n",
        "# predict()는 개별 사용자의 아이템에 대한 추천 평점을 예측\n",
        "\n",
        "# 사용자 아이디, 아이템 아이디는 문자열로 입력해야 함\n",
        "uid = str(196)\n",
        "iid = str(302)\n",
        "pred = algo.predict(uid, iid)\n",
        "print(pred)"
      ],
      "metadata": {
        "id": "NSoUZGf_56np",
        "colab": {
          "base_uri": "https://localhost:8080/"
        },
        "outputId": "404b2af2-a7ae-4d90-dd3d-55f835b4d42a"
      },
      "execution_count": null,
      "outputs": [
        {
          "output_type": "stream",
          "name": "stdout",
          "text": [
            "user: 196        item: 302        r_ui = None   est = 4.10   {'was_impossible': False}\n"
          ]
        }
      ]
    },
    {
      "cell_type": "markdown",
      "source": [
        "→ 결과처럼 predict()는 개별 사용자와 아이템 정보를 입력하면 추천 예측 평점을 est로 반환\n",
        "\n",
        "→ test() 메서드는 입력 데이터 세트의 모든 사용자와 아이템 아이디에 대해서 predict()를 반복적으로 수행한 결과라고 생각하면 이해하기 쉬움"
      ],
      "metadata": {
        "id": "sTy_Oz-V8jT2"
      }
    },
    {
      "cell_type": "code",
      "source": [
        "# 테스트 데이터 세트 이용해 추천 예측 평점과 실제 평점과의 차이 평가\n",
        "accuracy.rmse(predictions)"
      ],
      "metadata": {
        "id": "VZ9dDQV956lb",
        "colab": {
          "base_uri": "https://localhost:8080/"
        },
        "outputId": "a919d4df-6330-493b-cad4-4462f0dd8d05"
      },
      "execution_count": null,
      "outputs": [
        {
          "output_type": "stream",
          "name": "stdout",
          "text": [
            "RMSE: 0.9481\n"
          ]
        },
        {
          "output_type": "execute_result",
          "data": {
            "text/plain": [
              "0.9481425387222899"
            ]
          },
          "metadata": {},
          "execution_count": 8
        }
      ]
    },
    {
      "cell_type": "markdown",
      "source": [
        "**Surprise 주요 모듈 소개**\n",
        "\n",
        "**Dataset**\n",
        "\n",
        "* Surprise는 user_id(사용자 아이디), item_id(아이템 아이디), rating(평점) 데이터가 로우 레벨로 된 데이터 세트만 적용할 수 있음\n",
        "* 데이터의 첫 번째 칼럼을 사용자 아이디, 두 번째 칼럼을 아이템 아이디, 세 번째 칼럼을 평점으로 가정해 데이터를 로딩하고 네 번째 칼럼부터는 아예 로딩을 수행하지 않음\n",
        "\n",
        "|API 명|내용|\n",
        "|:---|:---|\n",
        "|Dataset.load_builtin|무비렌즈 아카이브 FTP 서버에서 무비렌즈 데이터를 내려받음. ml-100k, ml-1M를 내려받을 수 있음.|\n",
        "(name='ml-100k')|일단 내려받은 데이터는 surprise_data 디렉터리 밑에 저장되고, 해당 디렉터리에 데이터가 있으면 FTP에서 내려받지 않고 해당 데이터를 이용함.|\n",
        "||입력 파라미터인 name으로 대상 데이터가 ml-100k인지 ml-1M인지를 입력함. 디폴트는 ml-100k|\n",
        "|Dataset.load_from_file|OS 파일에서 데이터를 로딩할 때 사용함.|\n",
        "|(file_path, reader)|콤마, 탭 등으로 칼럼이 분리된 포맷의 OS 파일에서 데이터를 로딩함.|\n",
        "||입력 파라미터로 OS 파일명, Reader로 파일의 포맷을 지정함.|\n",
        "|Dataset.load_from_df|판다스의 DataFrame에서 데이터를 로딩. 파라미터로 DataFrame을 입력받으며 DataFrame 역시|\n",
        "|(df, reader)|반드시 3개의 칼럼인 사용자 아이디, 아이템 아이디, 평점 순으로 칼럼 순서가 정해져 있어야 함.|\n",
        "||입력 파라미터로 DataFrame 객체, Reader로 파일의 포맷을 지정함.|\n"
      ],
      "metadata": {
        "id": "fv6J4I-S88Xa"
      }
    },
    {
      "cell_type": "markdown",
      "source": [
        "**OS 파일 데이터를 Surprise 데이터 세트로 로딩**\n",
        "\n",
        "* Surprise에 OS 파일을 로딩할 때의 주의할 점 - 로딩되는 데이터 파일에 칼럼명을 가지는 헤더 문자열이 있어서는 안 됨"
      ],
      "metadata": {
        "id": "7uH5kdln_loh"
      }
    },
    {
      "cell_type": "code",
      "source": [
        "from google.colab import drive\n",
        "drive.mount('/content/drive')"
      ],
      "metadata": {
        "colab": {
          "base_uri": "https://localhost:8080/"
        },
        "id": "b8BRvt-zBhdq",
        "outputId": "a04d2a27-08d6-41a3-a68e-5551ef1634a3"
      },
      "execution_count": null,
      "outputs": [
        {
          "output_type": "stream",
          "name": "stdout",
          "text": [
            "Drive already mounted at /content/drive; to attempt to forcibly remount, call drive.mount(\"/content/drive\", force_remount=True).\n"
          ]
        }
      ]
    },
    {
      "cell_type": "code",
      "source": [
        "!wget -c https://github.com/euphoris/datasets/raw/master/ml-100k.zip"
      ],
      "metadata": {
        "colab": {
          "base_uri": "https://localhost:8080/"
        },
        "id": "KpsowPfRCdLA",
        "outputId": "3b5e7de4-e703-43f3-9233-b6fed2ef2038"
      },
      "execution_count": null,
      "outputs": [
        {
          "output_type": "stream",
          "name": "stdout",
          "text": [
            "--2023-08-10 06:02:14--  https://github.com/euphoris/datasets/raw/master/ml-100k.zip\n",
            "Resolving github.com (github.com)... 140.82.112.3\n",
            "Connecting to github.com (github.com)|140.82.112.3|:443... connected.\n",
            "HTTP request sent, awaiting response... 302 Found\n",
            "Location: https://raw.githubusercontent.com/euphoris/datasets/master/ml-100k.zip [following]\n",
            "--2023-08-10 06:02:15--  https://raw.githubusercontent.com/euphoris/datasets/master/ml-100k.zip\n",
            "Resolving raw.githubusercontent.com (raw.githubusercontent.com)... 185.199.109.133, 185.199.108.133, 185.199.111.133, ...\n",
            "Connecting to raw.githubusercontent.com (raw.githubusercontent.com)|185.199.109.133|:443... connected.\n",
            "HTTP request sent, awaiting response... 200 OK\n",
            "Length: 873734 (853K) [application/zip]\n",
            "Saving to: ‘ml-100k.zip’\n",
            "\n",
            "ml-100k.zip         100%[===================>] 853.26K  --.-KB/s    in 0.03s   \n",
            "\n",
            "2023-08-10 06:02:15 (28.5 MB/s) - ‘ml-100k.zip’ saved [873734/873734]\n",
            "\n"
          ]
        }
      ]
    },
    {
      "cell_type": "code",
      "source": [
        "ratings = pd.read_csv('/content/drive/MyDrive/ESAA/OB/data/ml-latest-small/ratings.csv')"
      ],
      "metadata": {
        "id": "esTUH7b_CgwA"
      },
      "execution_count": null,
      "outputs": []
    },
    {
      "cell_type": "code",
      "source": [
        "ratings.head()"
      ],
      "metadata": {
        "colab": {
          "base_uri": "https://localhost:8080/",
          "height": 206
        },
        "id": "yre_kHymCj-o",
        "outputId": "156d3ce7-5f3a-4369-b002-0fe0731a1344"
      },
      "execution_count": null,
      "outputs": [
        {
          "output_type": "execute_result",
          "data": {
            "text/plain": [
              "   userId  movieId  rating  timestamp\n",
              "0       1        1     4.0  964982703\n",
              "1       1        3     4.0  964981247\n",
              "2       1        6     4.0  964982224\n",
              "3       1       47     5.0  964983815\n",
              "4       1       50     5.0  964982931"
            ],
            "text/html": [
              "\n",
              "\n",
              "  <div id=\"df-f479a758-3b0b-4e49-b8f9-02644e0c58c7\">\n",
              "    <div class=\"colab-df-container\">\n",
              "      <div>\n",
              "<style scoped>\n",
              "    .dataframe tbody tr th:only-of-type {\n",
              "        vertical-align: middle;\n",
              "    }\n",
              "\n",
              "    .dataframe tbody tr th {\n",
              "        vertical-align: top;\n",
              "    }\n",
              "\n",
              "    .dataframe thead th {\n",
              "        text-align: right;\n",
              "    }\n",
              "</style>\n",
              "<table border=\"1\" class=\"dataframe\">\n",
              "  <thead>\n",
              "    <tr style=\"text-align: right;\">\n",
              "      <th></th>\n",
              "      <th>userId</th>\n",
              "      <th>movieId</th>\n",
              "      <th>rating</th>\n",
              "      <th>timestamp</th>\n",
              "    </tr>\n",
              "  </thead>\n",
              "  <tbody>\n",
              "    <tr>\n",
              "      <th>0</th>\n",
              "      <td>1</td>\n",
              "      <td>1</td>\n",
              "      <td>4.0</td>\n",
              "      <td>964982703</td>\n",
              "    </tr>\n",
              "    <tr>\n",
              "      <th>1</th>\n",
              "      <td>1</td>\n",
              "      <td>3</td>\n",
              "      <td>4.0</td>\n",
              "      <td>964981247</td>\n",
              "    </tr>\n",
              "    <tr>\n",
              "      <th>2</th>\n",
              "      <td>1</td>\n",
              "      <td>6</td>\n",
              "      <td>4.0</td>\n",
              "      <td>964982224</td>\n",
              "    </tr>\n",
              "    <tr>\n",
              "      <th>3</th>\n",
              "      <td>1</td>\n",
              "      <td>47</td>\n",
              "      <td>5.0</td>\n",
              "      <td>964983815</td>\n",
              "    </tr>\n",
              "    <tr>\n",
              "      <th>4</th>\n",
              "      <td>1</td>\n",
              "      <td>50</td>\n",
              "      <td>5.0</td>\n",
              "      <td>964982931</td>\n",
              "    </tr>\n",
              "  </tbody>\n",
              "</table>\n",
              "</div>\n",
              "      <button class=\"colab-df-convert\" onclick=\"convertToInteractive('df-f479a758-3b0b-4e49-b8f9-02644e0c58c7')\"\n",
              "              title=\"Convert this dataframe to an interactive table.\"\n",
              "              style=\"display:none;\">\n",
              "\n",
              "  <svg xmlns=\"http://www.w3.org/2000/svg\" height=\"24px\"viewBox=\"0 0 24 24\"\n",
              "       width=\"24px\">\n",
              "    <path d=\"M0 0h24v24H0V0z\" fill=\"none\"/>\n",
              "    <path d=\"M18.56 5.44l.94 2.06.94-2.06 2.06-.94-2.06-.94-.94-2.06-.94 2.06-2.06.94zm-11 1L8.5 8.5l.94-2.06 2.06-.94-2.06-.94L8.5 2.5l-.94 2.06-2.06.94zm10 10l.94 2.06.94-2.06 2.06-.94-2.06-.94-.94-2.06-.94 2.06-2.06.94z\"/><path d=\"M17.41 7.96l-1.37-1.37c-.4-.4-.92-.59-1.43-.59-.52 0-1.04.2-1.43.59L10.3 9.45l-7.72 7.72c-.78.78-.78 2.05 0 2.83L4 21.41c.39.39.9.59 1.41.59.51 0 1.02-.2 1.41-.59l7.78-7.78 2.81-2.81c.8-.78.8-2.07 0-2.86zM5.41 20L4 18.59l7.72-7.72 1.47 1.35L5.41 20z\"/>\n",
              "  </svg>\n",
              "      </button>\n",
              "\n",
              "\n",
              "\n",
              "    <div id=\"df-33a6ee37-9bec-4e2d-b8a1-4789f9bd00e6\">\n",
              "      <button class=\"colab-df-quickchart\" onclick=\"quickchart('df-33a6ee37-9bec-4e2d-b8a1-4789f9bd00e6')\"\n",
              "              title=\"Suggest charts.\"\n",
              "              style=\"display:none;\">\n",
              "\n",
              "<svg xmlns=\"http://www.w3.org/2000/svg\" height=\"24px\"viewBox=\"0 0 24 24\"\n",
              "     width=\"24px\">\n",
              "    <g>\n",
              "        <path d=\"M19 3H5c-1.1 0-2 .9-2 2v14c0 1.1.9 2 2 2h14c1.1 0 2-.9 2-2V5c0-1.1-.9-2-2-2zM9 17H7v-7h2v7zm4 0h-2V7h2v10zm4 0h-2v-4h2v4z\"/>\n",
              "    </g>\n",
              "</svg>\n",
              "      </button>\n",
              "    </div>\n",
              "\n",
              "<style>\n",
              "  .colab-df-quickchart {\n",
              "    background-color: #E8F0FE;\n",
              "    border: none;\n",
              "    border-radius: 50%;\n",
              "    cursor: pointer;\n",
              "    display: none;\n",
              "    fill: #1967D2;\n",
              "    height: 32px;\n",
              "    padding: 0 0 0 0;\n",
              "    width: 32px;\n",
              "  }\n",
              "\n",
              "  .colab-df-quickchart:hover {\n",
              "    background-color: #E2EBFA;\n",
              "    box-shadow: 0px 1px 2px rgba(60, 64, 67, 0.3), 0px 1px 3px 1px rgba(60, 64, 67, 0.15);\n",
              "    fill: #174EA6;\n",
              "  }\n",
              "\n",
              "  [theme=dark] .colab-df-quickchart {\n",
              "    background-color: #3B4455;\n",
              "    fill: #D2E3FC;\n",
              "  }\n",
              "\n",
              "  [theme=dark] .colab-df-quickchart:hover {\n",
              "    background-color: #434B5C;\n",
              "    box-shadow: 0px 1px 3px 1px rgba(0, 0, 0, 0.15);\n",
              "    filter: drop-shadow(0px 1px 2px rgba(0, 0, 0, 0.3));\n",
              "    fill: #FFFFFF;\n",
              "  }\n",
              "</style>\n",
              "\n",
              "    <script>\n",
              "      async function quickchart(key) {\n",
              "        const containerElement = document.querySelector('#' + key);\n",
              "        const charts = await google.colab.kernel.invokeFunction(\n",
              "            'suggestCharts', [key], {});\n",
              "      }\n",
              "    </script>\n",
              "\n",
              "      <script>\n",
              "\n",
              "function displayQuickchartButton(domScope) {\n",
              "  let quickchartButtonEl =\n",
              "    domScope.querySelector('#df-33a6ee37-9bec-4e2d-b8a1-4789f9bd00e6 button.colab-df-quickchart');\n",
              "  quickchartButtonEl.style.display =\n",
              "    google.colab.kernel.accessAllowed ? 'block' : 'none';\n",
              "}\n",
              "\n",
              "        displayQuickchartButton(document);\n",
              "      </script>\n",
              "      <style>\n",
              "    .colab-df-container {\n",
              "      display:flex;\n",
              "      flex-wrap:wrap;\n",
              "      gap: 12px;\n",
              "    }\n",
              "\n",
              "    .colab-df-convert {\n",
              "      background-color: #E8F0FE;\n",
              "      border: none;\n",
              "      border-radius: 50%;\n",
              "      cursor: pointer;\n",
              "      display: none;\n",
              "      fill: #1967D2;\n",
              "      height: 32px;\n",
              "      padding: 0 0 0 0;\n",
              "      width: 32px;\n",
              "    }\n",
              "\n",
              "    .colab-df-convert:hover {\n",
              "      background-color: #E2EBFA;\n",
              "      box-shadow: 0px 1px 2px rgba(60, 64, 67, 0.3), 0px 1px 3px 1px rgba(60, 64, 67, 0.15);\n",
              "      fill: #174EA6;\n",
              "    }\n",
              "\n",
              "    [theme=dark] .colab-df-convert {\n",
              "      background-color: #3B4455;\n",
              "      fill: #D2E3FC;\n",
              "    }\n",
              "\n",
              "    [theme=dark] .colab-df-convert:hover {\n",
              "      background-color: #434B5C;\n",
              "      box-shadow: 0px 1px 3px 1px rgba(0, 0, 0, 0.15);\n",
              "      filter: drop-shadow(0px 1px 2px rgba(0, 0, 0, 0.3));\n",
              "      fill: #FFFFFF;\n",
              "    }\n",
              "  </style>\n",
              "\n",
              "      <script>\n",
              "        const buttonEl =\n",
              "          document.querySelector('#df-f479a758-3b0b-4e49-b8f9-02644e0c58c7 button.colab-df-convert');\n",
              "        buttonEl.style.display =\n",
              "          google.colab.kernel.accessAllowed ? 'block' : 'none';\n",
              "\n",
              "        async function convertToInteractive(key) {\n",
              "          const element = document.querySelector('#df-f479a758-3b0b-4e49-b8f9-02644e0c58c7');\n",
              "          const dataTable =\n",
              "            await google.colab.kernel.invokeFunction('convertToInteractive',\n",
              "                                                     [key], {});\n",
              "          if (!dataTable) return;\n",
              "\n",
              "          const docLinkHtml = 'Like what you see? Visit the ' +\n",
              "            '<a target=\"_blank\" href=https://colab.research.google.com/notebooks/data_table.ipynb>data table notebook</a>'\n",
              "            + ' to learn more about interactive tables.';\n",
              "          element.innerHTML = '';\n",
              "          dataTable['output_type'] = 'display_data';\n",
              "          await google.colab.output.renderOutput(dataTable, element);\n",
              "          const docLink = document.createElement('div');\n",
              "          docLink.innerHTML = docLinkHtml;\n",
              "          element.appendChild(docLink);\n",
              "        }\n",
              "      </script>\n",
              "    </div>\n",
              "  </div>\n"
            ]
          },
          "metadata": {},
          "execution_count": 32
        }
      ]
    },
    {
      "cell_type": "code",
      "source": [
        "import pandas as pd\n",
        "\n",
        "# ratings_noh.csv 파일로 언로드 시 인덱스와 헤더를 모두 제거한 새로운 파일 생성\n",
        "ratings.to_csv('/content/drive/MyDrive/ESAA/OB/data/ml-latest-small/ratings_noh.csv', index=False, header=False)"
      ],
      "metadata": {
        "id": "P1St3mhq56i7"
      },
      "execution_count": null,
      "outputs": []
    },
    {
      "cell_type": "code",
      "source": [
        "# Reader 클래스 이용해 데이터 파일의 파싱 포맷 정의\n",
        "from surprise import Reader\n",
        "\n",
        "# Reader 클래스의 생성자에 각 필드의 칼럼명과 칼럼 분리문자, 최소~최대 평점 입력해 객체 생성\n",
        "reader = Reader(line_format='user item rating timestamp', sep=',', rating_scale=(0.5, 5))\n",
        "# load_from_file()로 생성된 Reader 객체를 참조해 데이터 파일을 파싱하면서 로딩\n",
        "data = Dataset.load_from_file('/content/drive/MyDrive/ESAA/OB/data/ml-latest-small/ratings_noh.csv', reader=reader)"
      ],
      "metadata": {
        "id": "_0R52ivx56gp"
      },
      "execution_count": null,
      "outputs": []
    },
    {
      "cell_type": "markdown",
      "source": [
        "* Surprise 데이터 세트는 기본적으로 무비렌즈 데이터 형식을 따르므로 무비렌즈 데이터 형식이 아닌 다른 OS 파일의 경우 Reader 클래스를 먼저 설정해야 함\n",
        "* Reader 클래스의 주요 생성 파라미터\n",
        "  * line_format(string): 칼럼을 순서대로 나열함. 입력된 문자열을 공백으로 분리해 칼럼으로 인식\n",
        "  * sep(char): 칼럼을 분리하는 분리자이며, 디폴트는 '\\t'. 판다스 DataFrame에서 입력받을 경우에는 기재할 필요 없음\n",
        "  * rating_scale(tuple, optional): 평점 값의 최소~최대 평점을 설정함. 디폴트는 (1, 5)이지만 ratings.csv 파일의 경우 최소 평점이 0.5, 최대 평점이 5이므로 (0.5, 5)로 설정"
      ],
      "metadata": {
        "id": "VdFv1-tIE-tp"
      }
    },
    {
      "cell_type": "code",
      "source": [
        "# SVD 행렬 분해 기법 이용해 추천 예측\n",
        "trainset, testset = train_test_split(data, test_size=.25, random_state=0)\n",
        "\n",
        "# 수행 시마다 동일한 결과를 도출하기 위해 random_state 설정\n",
        "algo = SVD(n_factors=50, random_state=0)\n",
        "\n",
        "# 학습 데이터 세트로 학습하고 나서 테스트 데이터 세트로 평점 예측 후 RMSE 평가\n",
        "algo.fit(trainset)\n",
        "predictions = algo.test(testset)\n",
        "accuracy.rmse(predictions)"
      ],
      "metadata": {
        "id": "NtiuXFrx56eN",
        "colab": {
          "base_uri": "https://localhost:8080/"
        },
        "outputId": "4c9d4752-cad8-44a7-f9dc-35b7c2be7d2c"
      },
      "execution_count": null,
      "outputs": [
        {
          "output_type": "stream",
          "name": "stdout",
          "text": [
            "RMSE: 0.8682\n"
          ]
        },
        {
          "output_type": "execute_result",
          "data": {
            "text/plain": [
              "0.8681952927143516"
            ]
          },
          "metadata": {},
          "execution_count": 35
        }
      ]
    },
    {
      "cell_type": "markdown",
      "source": [
        "**판다스 DataFrame에서 Surprise 데이터 세트로 로딩**\n",
        "\n",
        "* DataFrame 역시 사용자 아이디, 아이템 아이디, 평점 칼럼 순서를 지켜야 함"
      ],
      "metadata": {
        "id": "J0F2WbyWGNh4"
      }
    },
    {
      "cell_type": "code",
      "source": [
        "import pandas as pd\n",
        "from surprise import Reader, Dataset\n",
        "\n",
        "ratings = pd.read_csv('ml-100k.zip')\n",
        "reader = Reader(rating_scale=(0.5, 5.0))\n",
        "\n",
        "# ratings DataFrame 에서 컬럼은 사용자 아이디, 아이템 아이디, 평점 순서를 지켜야 함\n",
        "data = Dataset.load_from_df(ratings[['user_id', 'item_id', 'rating']], reader)\n",
        "trainset, testset = train_test_split(data, test_size=.25, random_state=0)\n",
        "\n",
        "algo = SVD(n_factors=50, random_state=0)\n",
        "algo.fit(trainset)\n",
        "predictions = algo.test(testset)\n",
        "accuracy.rmse(predictions)"
      ],
      "metadata": {
        "id": "I7XY3WhO56ZB",
        "colab": {
          "base_uri": "https://localhost:8080/"
        },
        "outputId": "24b50b66-d6b6-43ba-cb42-45195d8fde3a"
      },
      "execution_count": null,
      "outputs": [
        {
          "output_type": "stream",
          "name": "stdout",
          "text": [
            "RMSE: 0.9458\n"
          ]
        },
        {
          "output_type": "execute_result",
          "data": {
            "text/plain": [
              "0.9457855197571977"
            ]
          },
          "metadata": {},
          "execution_count": 36
        }
      ]
    },
    {
      "cell_type": "markdown",
      "source": [
        "**Surprise 추천 알고리즘 클래스**\n",
        "\n",
        "* Surprise에서 추천 예측을 위해 자주 사용되는 추천 알고리즘 클래스\n",
        "\n",
        "|클래스명|설명|\n",
        "|:---|:---|\n",
        "|SVD|행렬 분해를 통한 잠재 요인 협업 필터링을 위한 SVD 알고리즘|\n",
        "|KNNBasic|최근접 이웃 협업 필터링을 위한 KNN 알고리즘|\n",
        "|BaselineOnly|사용자 Bias와 아이템 Bias를 감안한 SGD 베이스라인 알고리즘|\n",
        "\n",
        "* Surprise SVD의 비용 함수는 사용자 베이스라인(Baseline) 편향성을 감안한 평점 예측에 Regularization을 적용한 것\n",
        "* SVD 클래스의 입력 파라미터\n",
        "\n",
        "\n",
        "|파라미터명|내용|\n",
        "|:---|:---|\n",
        "|n_factors|잠재 요인 K의 개수. 디폴트는 100. 커질수록 정확도가 높아질 수 있으나 과적합 문제 발생할 수 있음|\n",
        "|n_epochs|SGD(Stochastic Gradient Descent) 수행 시 반복 횟수. 디폴트는 20|\n",
        "|biased(bool)|베이스라인 사용자 편향 적용 여부. 디폴트는 True|"
      ],
      "metadata": {
        "id": "rn_RSFJaG0Sf"
      }
    },
    {
      "cell_type": "markdown",
      "source": [
        "**베이스라인 평점**\n",
        "\n",
        "* 베이스라인 평점(Baseline Rating): 개인의 성향을 반영해 아이템 평가에 편향성(bias) 요소를 반영하여 평점을 부과하는 것\n",
        "* 보통 베이스라인 평점은 전체 평균 평점 + 사용자 편향 점수 + 아이템 편향 점수 공식으로 계산\n",
        "  * 전체 평균 평점 = 모든 사용자의 아이템에 대한 평점을 평균한 값\n",
        "  * 사용자 편향 점수 = 사용자별 아이템 평점 평균 값 - 전체 평균 평점\n",
        "  * 아이템 편향 점수 = 아이템별 평점 평균 값 - 전체 평균 평점"
      ],
      "metadata": {
        "id": "h9q9VaE2IPF8"
      }
    },
    {
      "cell_type": "markdown",
      "source": [
        "**교차 검증과 하이퍼 파라미터 튜닝**\n",
        "\n",
        "* Surprise는 교차 검증과 하이퍼 파라미터 튜닝을 위해 사이킷런과 유사한 cross_validate()와 GridSearchCV 클래스 제공\n",
        "  * cross_validat() 함수는 surprise.model_selection 모듈 내에 존재하며, 폴드된 데이터 세트의 개수와 성능 측정 방법을 명시해 교차 검증을 수행함"
      ],
      "metadata": {
        "id": "eFzxm6HpIsr6"
      }
    },
    {
      "cell_type": "code",
      "source": [
        "# crsoss_validate() 이용해 데이터를 5개의 학습/검증 폴드 데이터 세트로 분리해 교차 검증 수행하고 RMSE, MAE로 성능 평가\n",
        "from surprise.model_selection import cross_validate\n",
        "\n",
        "# 판다스 DataFrame에서 Surprise 데이터 세트로 데이터 로딩\n",
        "ratings = pd.read_csv('/content/drive/MyDrive/ESAA/OB/data/ml-latest-small/ratings.csv')\n",
        "reader = Reader(rating_scale=(0.5, 5.0))\n",
        "data = Dataset.load_from_df(ratings[['userId', 'movieId', 'rating']], reader)\n",
        "\n",
        "algo = SVD(random_state=0)\n",
        "cross_validate(algo, data, measures=['RMSE', 'MAE'], cv=5, verbose=True)"
      ],
      "metadata": {
        "id": "y0q-lH8f56Wp",
        "colab": {
          "base_uri": "https://localhost:8080/"
        },
        "outputId": "949a2921-7c1c-41c8-957c-e720db3bb0b1"
      },
      "execution_count": null,
      "outputs": [
        {
          "output_type": "stream",
          "name": "stdout",
          "text": [
            "Evaluating RMSE, MAE of algorithm SVD on 5 split(s).\n",
            "\n",
            "                  Fold 1  Fold 2  Fold 3  Fold 4  Fold 5  Mean    Std     \n",
            "RMSE (testset)    0.8754  0.8751  0.8729  0.8693  0.8707  0.8727  0.0024  \n",
            "MAE (testset)     0.6732  0.6712  0.6703  0.6692  0.6700  0.6708  0.0014  \n",
            "Fit time          1.47    1.52    2.20    1.68    1.46    1.66    0.28    \n",
            "Test time         0.14    0.22    0.22    0.36    0.15    0.22    0.08    \n"
          ]
        },
        {
          "output_type": "execute_result",
          "data": {
            "text/plain": [
              "{'test_rmse': array([0.8754105 , 0.87505534, 0.87294039, 0.86933415, 0.87072181]),\n",
              " 'test_mae': array([0.67315609, 0.67124117, 0.67032829, 0.66919898, 0.66998981]),\n",
              " 'fit_time': (1.468623399734497,\n",
              "  1.5188853740692139,\n",
              "  2.198782444000244,\n",
              "  1.6766040325164795,\n",
              "  1.4601209163665771),\n",
              " 'test_time': (0.13773107528686523,\n",
              "  0.2249147891998291,\n",
              "  0.22086191177368164,\n",
              "  0.3591885566711426,\n",
              "  0.15034055709838867)}"
            ]
          },
          "metadata": {},
          "execution_count": 40
        }
      ]
    },
    {
      "cell_type": "markdown",
      "source": [
        "→ cross_validate()는 위의 출력 결과와 같이 폴드별 성능 평가 수치와 전체 폴드의 평균 성능 평가 수치를 함께 보여줌"
      ],
      "metadata": {
        "id": "lby7sO_yJ4bV"
      }
    },
    {
      "cell_type": "markdown",
      "source": [
        "* Surprise의 GridSearchCV도 사이킷런의 GridSearchCV와 유사하게 교차 검증을 통한 하이퍼 파라미터 최적화를 수행함\n",
        "* 하이퍼 파라미터 최적화는 알고리즘 유형에 따라 다를 수 있지만, SVD의 경우 주로 점진적 하강 방식(Stomachastic Gradient Descent)의 반복 횟수를 지정하는 n_epochs와 SVD의 잠재 요인 K의 크기를 지정하는 n_factors를 튜닝함"
      ],
      "metadata": {
        "id": "R1dtHj5cKGhL"
      }
    },
    {
      "cell_type": "code",
      "source": [
        "# 'n_epochs':[20, 40, 60], 'n_factors':[50, 100, 200]로 변경하면서 CV가 3일 때의 최적 하이퍼 파라미터 도출\n",
        "from surprise.model_selection import GridSearchCV\n",
        "\n",
        "# 최적화할 파라미터를 딕셔너리 형태로 지정\n",
        "param_grid = {'n_epochs': [20, 40, 60], 'n_factors': [50, 100, 200]}\n",
        "\n",
        "# CV를 3개 폴드 세트로 지정, 성능 평가는 rmse, mae로 수행하도록 GridSearchCV 구성\n",
        "gs = GridSearchCV(SVD, param_grid, measures=['rmse', 'mae'], cv=3)\n",
        "gs.fit(data)\n",
        "\n",
        "# 최고 RMSE Evaluation 점수와 그때의 하이퍼 파라미터\n",
        "print(gs.best_score['rmse'])\n",
        "print(gs.best_params['rmse'])"
      ],
      "metadata": {
        "id": "cdJB5Pbo56Tl",
        "colab": {
          "base_uri": "https://localhost:8080/"
        },
        "outputId": "a7a1e447-340a-4827-f6c3-5373f4570881"
      },
      "execution_count": null,
      "outputs": [
        {
          "output_type": "stream",
          "name": "stdout",
          "text": [
            "0.8771228421737886\n",
            "{'n_epochs': 20, 'n_factors': 50}\n"
          ]
        }
      ]
    },
    {
      "cell_type": "markdown",
      "source": [
        "→ 'n_epochs': 20, 'n_factors': 50일 때 3개 폴드의 검증 데이터 세트에서 최적 RMSE가 0.877로 도출"
      ],
      "metadata": {
        "id": "OF02OHMPLVko"
      }
    },
    {
      "cell_type": "markdown",
      "source": [
        "**Surprise를 이용한 개인화 영화 추천 시스템 구축**\n",
        "\n",
        "Surprise 패키지로 학습된 추천 알고리즘을 기반으로 특정 사용자가 아직 평점을 매기지 않은 영화 중에서 개인 취향에 가장 적절한 영화 추천\n",
        "\n"
      ],
      "metadata": {
        "id": "ycmVvdmyLdYz"
      }
    },
    {
      "cell_type": "code",
      "source": [
        "# 다음 코드는 train_test_split()으로 분리되지 않는 데이터 세트에 fit()을 호출해 오류 발생\n",
        "\n",
        "# data=Dataset.load_from_df(ratings[['userId', 'movieId', 'rating']], reader)\n",
        "# algo=SVD(n_factors=50, random_state=0)\n",
        "# algo.fit(data)"
      ],
      "metadata": {
        "id": "aNulrEcS56RM"
      },
      "execution_count": null,
      "outputs": []
    },
    {
      "cell_type": "markdown",
      "source": [
        "* 데이터 세트 전체를 학습 데이터로 사용하려면 DatasetAutoFolds 클래스를 이용\n",
        "  * DatasetAutoFolds 객체 생성한 뒤 build_full_trainset() 메서드 호출하면 전체 데이터를 학습 데이터 세트로 만들 수 있음"
      ],
      "metadata": {
        "id": "XWAiQZYiMCkM"
      }
    },
    {
      "cell_type": "code",
      "source": [
        "from surprise.dataset import DatasetAutoFolds\n",
        "\n",
        "reader = Reader(line_format='user item rating timestamp', sep=',', rating_scale=(0.5, 5))\n",
        "# DatasetAutoFolds 클래스를 ratings_noh.csv 파일 기반으로 생성\n",
        "data_folds = DatasetAutoFolds(ratings_file='/content/drive/MyDrive/ESAA/OB/data/ml-latest-small/ratings_noh.csv', reader=reader)\n",
        "\n",
        "# 전체 데이터를 학습 데이터로 생성함\n",
        "trainset = data_folds.build_full_trainset()"
      ],
      "metadata": {
        "id": "vCnWdlYI56Oy"
      },
      "execution_count": null,
      "outputs": []
    },
    {
      "cell_type": "code",
      "source": [
        "algo = SVD(n_epochs=20, n_factors=50, random_state=0)\n",
        "algo.fit(trainset)"
      ],
      "metadata": {
        "id": "rfuw3RYa56MP",
        "colab": {
          "base_uri": "https://localhost:8080/"
        },
        "outputId": "3a2b93e5-c254-44e9-bb2d-c0a16ded7cff"
      },
      "execution_count": null,
      "outputs": [
        {
          "output_type": "execute_result",
          "data": {
            "text/plain": [
              "<surprise.prediction_algorithms.matrix_factorization.SVD at 0x7a23084e85b0>"
            ]
          },
          "metadata": {},
          "execution_count": 44
        }
      ]
    },
    {
      "cell_type": "code",
      "source": [
        "# userId 9가 아직 평점을 매기지 않은 영화를 movieId 42로 선정한 뒤 예측 평점 계산\n",
        "\n",
        "# 영화에 대한 상세 속성 정보 DataFrame 로딩\n",
        "movies = pd.read_csv('/content/drive/MyDrive/ESAA/OB/data/ml-latest-small/movies.csv')\n",
        "\n",
        "# userId=9의 movieId 데이터를 추출해 movieId=42 데이터가 있는지 확인\n",
        "movieIds=ratings[ratings['userId']==9]['movieId']\n",
        "\n",
        "if movieIds[movieIds==42].count()==0:\n",
        "  print('사용자 아이디 9는 영화 아이디 42의 평점 없음')\n",
        "\n",
        "print(movies[movies['movieId']==42])"
      ],
      "metadata": {
        "id": "NGSmg2gU56Ju",
        "colab": {
          "base_uri": "https://localhost:8080/"
        },
        "outputId": "e4e63929-783b-4752-f361-089e834d17a3"
      },
      "execution_count": null,
      "outputs": [
        {
          "output_type": "stream",
          "name": "stdout",
          "text": [
            "사용자 아이디 9는 영화 아이디 42의 평점 없음\n",
            "    movieId                   title              genres\n",
            "38       42  Dead Presidents (1995)  Action|Crime|Drama\n"
          ]
        }
      ]
    },
    {
      "cell_type": "code",
      "source": [
        "# predict() 메서드 이용해 movieId 42인 영화에 대해서 userId 9 사용자의 추천 예상 평점 구하기\n",
        "uid = str(9)\n",
        "iid = str(42)\n",
        "\n",
        "pred = algo.predict(uid, iid, verbose=True)"
      ],
      "metadata": {
        "colab": {
          "base_uri": "https://localhost:8080/"
        },
        "id": "7JzY6CK2Pb3n",
        "outputId": "3c510d4e-6682-475e-a70d-e53dc2c2a3ba"
      },
      "execution_count": null,
      "outputs": [
        {
          "output_type": "stream",
          "name": "stdout",
          "text": [
            "user: 9          item: 42         r_ui = None   est = 3.13   {'was_impossible': False}\n"
          ]
        }
      ]
    },
    {
      "cell_type": "markdown",
      "source": [
        "→ 추천 예측 평점은 est 값으로 3.13\n",
        "\n",
        "→ 사용자가 평점을 매기지 않은 영화의 추천 예측 평점을 간단하게 구하는 방법을 알았으니 이제 사용자가 평점을 매기지 않은 전체 영화를 추출한 뒤에 예측 평점 순으로 영화 추천"
      ],
      "metadata": {
        "id": "rguC5MZKP5IY"
      }
    },
    {
      "cell_type": "code",
      "source": [
        "# 사용자가 아직 평점을 매기지 않은 영화 정보 반환\n",
        "\n",
        "def get_unseen_surprise(ratings, movies, userId):\n",
        "  # 입력값으로 들어온 userId에 해당하는 사용자가 평점을 매긴 모든 영화를 리스트로 생성\n",
        "  seen_movies = ratings[ratings['userId']==userId]['movieId'].tolist()\n",
        "\n",
        "  # 모든 영화의 movieId를 리스트로 생성\n",
        "  total_movies = movies['movieId'].tolist()\n",
        "\n",
        "  # 모든 영화의 movieId 중 이미 평점을 매긴 영화의 movieId를 제외한 후 리스트로 생성\n",
        "  unseen_movies = [movie for movie in total_movies if movie not in seen_movies]\n",
        "  print('평점 매긴 영화 수:', len(seen_movies), '추천 대상 영화 수:', len(unseen_movies), '전체 영화 수:', len(total_movies))\n",
        "\n",
        "  return unseen_movies\n",
        "\n",
        "unseen_movies = get_unseen_surprise(ratings, movies, 9)"
      ],
      "metadata": {
        "colab": {
          "base_uri": "https://localhost:8080/"
        },
        "id": "qiSMkrFpPb1A",
        "outputId": "703e02f8-038a-4fa2-819e-2143afa5826b"
      },
      "execution_count": null,
      "outputs": [
        {
          "output_type": "stream",
          "name": "stdout",
          "text": [
            "평점 매긴 영화 수: 46 추천 대상 영화 수: 9696 전체 영화 수: 9742\n"
          ]
        }
      ]
    },
    {
      "cell_type": "markdown",
      "source": [
        "→ 사용자 아이디 9번은 전체 9742개의 영화 중에서 46개만 평점을 매김\n",
        "\n",
        "→ 따라서 추천 대상 영화는 9696개\n",
        "\n",
        "→ 이중 앞에서 학습된 추천 알고리즘 클래스인 SVD를 이용해 높은 예측 평점을 가진 순으로 영화 추천"
      ],
      "metadata": {
        "id": "cFqFZ_RIQuIt"
      }
    },
    {
      "cell_type": "code",
      "source": [
        "# 함수 생성 - 인자로 학습이 완료된 추천 알고리즘 객체, 추천 대상 사용자 아이디, 추천 대상 영화의 리스트 객체, 추천 상위 N개 개수를 받음\n",
        "def recomm_movie_by_surprise(algo, userId, unseen_movies, top_n=10):\n",
        "  # 알고리즘 객체의 predict() 메서드를 평점이 없는 영화에 반복 수행한 후 결과를 list로 저장\n",
        "  predictions = [algo.predict(str(userId), str(movieId)) for movieId in unseen_movies]\n",
        "\n",
        "  # predictions list 객체는 surprise의 predictions 객체를 원소로 갖고 있다.\n",
        "  # [Prediction(uid='9', iid='1', est=3.69), Predictions(uid='9', iid='2', est=2.98),,,]\n",
        "\n",
        "  # 이를 est 값으로 정렬하기 위해 아리애 sortkey_est 함수 정의\n",
        "  # sortdey_est 함수는 list 객체의 sort() 함수의 키 값으로 사용되어 정렬 수행\n",
        "  def sortkey_est(pred):\n",
        "    return pred.est\n",
        "\n",
        "  # sortkey_est() 반환값의 내림차순으로 정렬 수행하고 top_n개의 최상위 값 추출\n",
        "  predictions.sort(key=sortkey_est, reverse=True)\n",
        "  top_predictions = predictions[:top_n]\n",
        "\n",
        "  # top_n 으로 추출된 영화의 정보 추출. 영화 아이디, 추천 예상 평점, 제목 추출\n",
        "  top_movie_ids = [int(pred.iid) for pred in top_predictions]\n",
        "  top_movie_rating = [pred.est for pred in top_predictions]\n",
        "  top_movie_titles = movies[movies.movieId.isin(top_movie_ids)]['title']\n",
        "  top_movie_preds = [(id, title, rating) for id, title, rating in zip(top_movie_ids, top_movie_titles, top_movie_rating)]\n",
        "\n",
        "  return top_movie_preds\n",
        "\n",
        "unseen_movies = get_unseen_surprise(ratings, movies, 9)\n",
        "top_movie_preds = recomm_movie_by_surprise(algo, 9, unseen_movies, top_n=10)\n",
        "\n",
        "print('### top-10 추천 영화 리스트 ###')\n",
        "for top_movie in top_movie_preds:\n",
        "  print(top_movie[1], ':', top_movie[2])"
      ],
      "metadata": {
        "id": "gEp5RkDG56Hg",
        "colab": {
          "base_uri": "https://localhost:8080/"
        },
        "outputId": "8bb601a8-2b19-4f81-e442-b21cd127c02d"
      },
      "execution_count": null,
      "outputs": [
        {
          "output_type": "stream",
          "name": "stdout",
          "text": [
            "평점 매긴 영화 수: 46 추천 대상 영화 수: 9696 전체 영화 수: 9742\n",
            "### top-10 추천 영화 리스트 ###\n",
            "Usual Suspects, The (1995) : 4.306302135700814\n",
            "Star Wars: Episode IV - A New Hope (1977) : 4.281663842987387\n",
            "Pulp Fiction (1994) : 4.278152632122759\n",
            "Silence of the Lambs, The (1991) : 4.226073566460876\n",
            "Godfather, The (1972) : 4.1918097904381995\n",
            "Streetcar Named Desire, A (1951) : 4.154746591122657\n",
            "Star Wars: Episode V - The Empire Strikes Back (1980) : 4.122016128534504\n",
            "Star Wars: Episode VI - Return of the Jedi (1983) : 4.108009609093436\n",
            "Goodfellas (1990) : 4.083464936588478\n",
            "Glory (1989) : 4.07887165526957\n"
          ]
        }
      ]
    },
    {
      "cell_type": "markdown",
      "source": [
        "###**09 정리**\n",
        "\n",
        "* 추천 시스템의 대표적인 방식\n",
        "  * 콘텐츠 기반 필터링: 아이템(상품, 영화, 서비스 등)을 구성하는 여러가지 콘텐츠 중 사용자가 좋아하는 콘텐츠를 필터링하여 이에 맞는 아이템을 추천하는 방식\n",
        "  * 협업 필터링\n",
        "    * 최근접 이웃 협업 필터링: 사용자 기반(사용자-사용자)과 아이템 기반(아이템-아이템)으로 나뉘며, 이중 아이템 기반이 더 많이 사용됨. 아이템 기반 최근접 이웃 방식은 특정 아이템과 가장 근접하게 유사한 다른 아이템들을 추천하는 방식\n",
        "    * 잠재 요인 협업 필터링: 사용자-아이템 평점 행렬 데이터에 숨어 있는 잠재 요인을 추출하여 사용자가 아직 평점을 매기지 않은 아이템에 대한 평점을 예측하여 이를 추천에 반영하는 방식\n",
        "  * 파이썬의 추천 시스템 패키지 Surprise"
      ],
      "metadata": {
        "id": "GpE-hVCCRv6x"
      }
    }
  ]
}